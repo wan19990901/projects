{
 "cells": [
  {
   "cell_type": "raw",
   "metadata": {},
   "source": [
    "Author: Guangya Wan\n",
    "Time : Feb 21 2019"
   ]
  },
  {
   "cell_type": "markdown",
   "metadata": {},
   "source": [
    "# Introduction(Feb 22nd)"
   ]
  },
  {
   "cell_type": "markdown",
   "metadata": {},
   "source": [
    "### Axelord's tournament is hold back to 1970s; it's held by professor Axelord who wish to find the best way to deal with iterated prisioner's dilemma. Among more than 60 participants, it turns out that the Tit-for-tat designed by Anatol Rapoport is the winner, and it is also the simplest one"
   ]
  },
  {
   "cell_type": "markdown",
   "metadata": {},
   "source": [
    "### Tit-for-tat have lots of variations(though they did not win the original version in the tournaments), I will show the effects of the original tit-for-tat and one of its variations -- Grudger here.\n",
    "### Tit for tat is to cooperate first, and do whatever its opponents do last time. Grudger is basically the same, except that it does not forgive. So as long as the opponent defects, it will always defect in the future rounds."
   ]
  },
  {
   "cell_type": "markdown",
   "metadata": {},
   "source": [
    "### The top ranked stretegies in Axelord's tournaments have genereally 4 properties : Nice, Retaliatation, Forgiveness, and non-envious(Not trying to get higher than your opponents) However, this really depends on the enviroments of the tournaments, one can not simply give tit-for-tat and expected to win every single time. I will show some examples below"
   ]
  },
  {
   "cell_type": "markdown",
   "metadata": {},
   "source": [
    "# Simulating matches"
   ]
  },
  {
   "cell_type": "code",
   "execution_count": null,
   "metadata": {},
   "outputs": [],
   "source": [
    "import axelrod as axl\n",
    "import pprint"
   ]
  },
  {
   "cell_type": "code",
   "execution_count": null,
   "metadata": {},
   "outputs": [],
   "source": [
    "players = [axl.Cooperator(), axl.Defector(),\n",
    "           axl.TitForTat(), axl.Grudger(),axl.Random(0.66)]\n",
    "# grudge is similar to titfor tat expect it does not forgive\n",
    "tournament = axl.Tournament(players,turns = 100, repetitions = 10)\n",
    "results = tournament.play()\n",
    "plot = axl.Plot(results)\n",
    "p = plot.payoff()\n",
    "p.show()\n",
    "summary = results.summarise()\n",
    "pprint.pprint(summary)"
   ]
  },
  {
   "cell_type": "code",
   "execution_count": null,
   "metadata": {},
   "outputs": [],
   "source": [
    "players = [axl.Defector(),axl.TitForTat(), \n",
    "           axl.Grudger(),axl.Random(0.1),axl.Random(1)]\n",
    "# grudge is similar to titfor tat expect it does not forgive\n",
    "tournament = axl.Tournament(players,turns = 100, repetitions = 10)\n",
    "results = tournament.play()\n",
    "summary = results.summarise()\n",
    "plot = axl.Plot(results)\n",
    "p = plot.payoff()\n",
    "p.show()\n",
    "summary = results.summarise()\n",
    "pprint.pprint(summary)"
   ]
  },
  {
   "cell_type": "code",
   "execution_count": null,
   "metadata": {},
   "outputs": [],
   "source": [
    "players = [axl.Cooperator(),axl.TitForTat(), axl.Grudger()\n",
    "           ,axl.Random(0.9),axl.Random(0.95)] \n",
    "# grudge is similar to titfor tat expect it does not forgive\n",
    "tournament = axl.Tournament(players,turns = 100, repetitions = 10)\n",
    "results = tournament.play()\n",
    "summary = results.summarise()\n",
    "plot = axl.Plot(results)\n",
    "p = plot.payoff()\n",
    "p.show()\n",
    "summary = results.summarise()\n",
    "pprint.pprint(summary)"
   ]
  },
  {
   "cell_type": "markdown",
   "metadata": {},
   "source": [
    "# Conclusion"
   ]
  },
  {
   "cell_type": "markdown",
   "metadata": {},
   "source": [
    "### There are no stretegies either mathmatical or emprically proved to win all the iterated games right now. It dependes on the ecology of the enviroments.In a tournaments where most of players perfer to be \"nice\", a defector can usually be ranked as 1st. In a game where most players like to defect, tit-for-tat or its variation are often the winner \n",
    "### There are other better stretegies nowdays where in a game you can assign mutiple players. You can assign a predetermined winner and  sacrifice the rest of other players. Specifically, they are programmed to able to recoginize the winner. If it's winner, they will always cooperate, otherwise they will defect to lower their opponents' scores"
   ]
  },
  {
   "cell_type": "markdown",
   "metadata": {},
   "source": [
    "# Simulating different types of game(Mar 1st)"
   ]
  },
  {
   "cell_type": "code",
   "execution_count": null,
   "metadata": {},
   "outputs": [],
   "source": [
    "chicken = axl.game.Game(r=0, s=-1, t=1, p=-10)\n",
    "pd = axl.game.Game()\n",
    "dead_lock = axl.game.Game(r=1, s=3, t=0, p= 2)\n",
    "my_game = axl.game.Game(r=5, s=-5, t=-5, p= 5)"
   ]
  },
  {
   "cell_type": "code",
   "execution_count": null,
   "metadata": {},
   "outputs": [],
   "source": [
    "# axl.seed(0)\n",
    "players = [axl.Cooperator(),axl.TitForTat(),axl.Grudger(),axl.Random(0.5),axl.Defector(),axl.Alternator(),axl.Punisher()] \n",
    "tournament1 = axl.Tournament(players,game = chicken,turns = 100, repetitions = 10)\n",
    "results1 = tournament1.play()\n",
    "tournament2 = axl.Tournament(players,game = pd,turns = 100, repetitions = 10)\n",
    "results2 = tournament2.play()\n",
    "tournament3 = axl.Tournament(players,game = dead_lock,turns = 100, repetitions = 10)\n",
    "results3 = tournament3.play()\n",
    "tournament4 = axl.Tournament(players,game = my_game,turns = 100, repetitions = 10)\n",
    "results4 = tournament4.play()"
   ]
  },
  {
   "cell_type": "code",
   "execution_count": null,
   "metadata": {},
   "outputs": [],
   "source": [
    "print(results1.ranked_names,'\\n',results2.ranked_names,'\\n',results3.ranked_names,'\\n',results4.ranked_names)"
   ]
  },
  {
   "cell_type": "markdown",
   "metadata": {},
   "source": [
    "# Simulating the real axelrod tournaments"
   ]
  },
  {
   "cell_type": "code",
   "execution_count": null,
   "metadata": {},
   "outputs": [],
   "source": [
    "players = [axl.TidemanAndChieruzzi(),axl.TitForTat(),axl.Grudger(),axl.Random(0.5),axl.Nydegger(),axl.Grofman(),axl.Shubik(),axl.SteinAndRapoport(),axl.Davis(),\n",
    "           axl.SneakyTitForTat(),axl.RevisedDowning(),axl.Feld(),axl.Joss(),axl.Tullock(),axl.UnnamedStrategy()] # total of 14 strategies played \n",
    "tournament = axl.Tournament(players,turns = 200,repetitions=20)\n",
    "results = tournament.play()\n",
    "summary = results.summarise()\n",
    "plot = axl.Plot(results)\n",
    "p = plot.payoff()\n",
    "p2 = plot.boxplot()\n",
    "p2.show()\n",
    "p.show()\n",
    "results.ranked_names\n",
    "print(results.score_diffs)"
   ]
  },
  {
   "cell_type": "markdown",
   "metadata": {},
   "source": [
    "result is different from expected"
   ]
  },
  {
   "cell_type": "code",
   "execution_count": null,
   "metadata": {},
   "outputs": [],
   "source": [
    "results.payoff_matrix[1]"
   ]
  },
  {
   "cell_type": "markdown",
   "metadata": {},
   "source": [
    "# Doing the axelrod tournament in game of chicken"
   ]
  },
  {
   "cell_type": "code",
   "execution_count": null,
   "metadata": {},
   "outputs": [],
   "source": [
    "tournament = axl.Tournament(players,game = chicken,turns = 200,repetitions=5)\n",
    "results = tournament.play()\n",
    "summary = results.summarise()\n",
    "plot = axl.Plot(results)\n",
    "p = plot.payoff()\n",
    "p2 = plot.boxplot()\n",
    "p2.show()\n",
    "p.show()\n",
    "results.ranked_names"
   ]
  },
  {
   "cell_type": "markdown",
   "metadata": {},
   "source": [
    "# Stimulating different ZD games"
   ]
  },
  {
   "cell_type": "code",
   "execution_count": null,
   "metadata": {},
   "outputs": [],
   "source": [
    "players = [axl.GTFT(),axl.TF2(),axl.ZDGTFT2(),axl.ZDExtort2(),axl.ZDExtort3(),axl.ZDExtortion()]\n",
    "tournament = axl.Tournament(players,turns = 200,repetitions=5)\n",
    "results = tournament.play()\n",
    "summary = results.summarise()\n",
    "plot = axl.Plot(results)\n",
    "p = plot.payoff()\n",
    "p2 = plot.boxplot()\n",
    "p2.show()\n",
    "p.show()\n",
    "summary"
   ]
  },
  {
   "cell_type": "code",
   "execution_count": null,
   "metadata": {},
   "outputs": [],
   "source": [
    "players = [axl.ZDExtort2(),axl.ZDExtort3(),axl.ZDExtort4()]\n",
    "tournament = axl.Tournament(players,turns = 200,repetitions=5)\n",
    "results = tournament.play()\n",
    "summary = results.summarise()\n",
    "plot = axl.Plot(results)\n",
    "p = plot.payoff()\n",
    "p2 = plot.boxplot()\n",
    "p2.show()\n",
    "p.show()\n",
    "summary"
   ]
  },
  {
   "cell_type": "markdown",
   "metadata": {},
   "source": [
    "# Stimulating games suggested in Dyson's paper"
   ]
  },
  {
   "cell_type": "markdown",
   "metadata": {},
   "source": [
    "### Best score is when y always cooperates, also the range of phi is from 0 to 1/7(by formula), so the median value is 1/7"
   ]
  },
  {
   "cell_type": "code",
   "execution_count": null,
   "metadata": {},
   "outputs": [],
   "source": [
    "players = [axl.ZDExtort3(phi=1/14),axl.Cooperator()] "
   ]
  },
  {
   "cell_type": "code",
   "execution_count": null,
   "metadata": {},
   "outputs": [],
   "source": [
    "tournament = axl.Tournament(players,turns = 100,repetitions=10)\n",
    "results = tournament.play()\n",
    "summary = results.summarise()\n",
    "plot = axl.Plot(results)\n",
    "p2 = plot.boxplot()\n",
    "p2.show()\n",
    "pprint.pprint(summary)"
   ]
  },
  {
   "cell_type": "markdown",
   "metadata": {},
   "source": [
    "### Not quite the same, I so will run more examples"
   ]
  },
  {
   "cell_type": "code",
   "execution_count": null,
   "metadata": {},
   "outputs": [],
   "source": [
    "tournament = axl.Tournament(players,turns = 10000,repetitions=10)\n",
    "results = tournament.play()\n",
    "summary = results.summarise()\n",
    "plot = axl.Plot(results)\n",
    "p2 = plot.boxplot()\n",
    "p2.show()\n",
    "pprint.pprint(summary)"
   ]
  },
  {
   "cell_type": "markdown",
   "metadata": {},
   "source": [
    "### some tesing for other extortion factor"
   ]
  },
  {
   "cell_type": "code",
   "execution_count": null,
   "metadata": {},
   "outputs": [],
   "source": [
    "players = [axl.ZDExtort4(phi=1/14),axl.Cooperator()]\n",
    "tournament = axl.Tournament(players,turns = 10000,repetitions=10)\n",
    "results = tournament.play()\n",
    "summary = results.summarise()\n",
    "plot = axl.Plot(results)\n",
    "p2 = plot.boxplot()\n",
    "p2.show()\n",
    "pprint.pprint(summary)"
   ]
  },
  {
   "cell_type": "code",
   "execution_count": null,
   "metadata": {},
   "outputs": [],
   "source": [
    "players = [axl.ZDExtort2(phi=1/14),axl.Cooperator()]\n",
    "tournament = axl.Tournament(players,turns = 10000,repetitions=10)\n",
    "results = tournament.play()\n",
    "summary = results.summarise()\n",
    "plot = axl.Plot(results)\n",
    "p2 = plot.boxplot()\n",
    "p2.show()\n",
    "pprint.pprint(summary)"
   ]
  },
  {
   "cell_type": "code",
   "execution_count": null,
   "metadata": {},
   "outputs": [],
   "source": [
    "players = [axl.ZDExtortion(phi=1/7),axl.Cooperator()]\n",
    "tournament = axl.Tournament(players,turns = 10000,repetitions=10)\n",
    "results = tournament.play()\n",
    "summary = results.summarise()\n",
    "plot = axl.Plot(results)\n",
    "p2 = plot.boxplot()\n",
    "p2.show()\n",
    "pprint.pprint(summary) # extortion 10, which is significatly higher than extortion 3 for the best result, as expected"
   ]
  },
  {
   "cell_type": "markdown",
   "metadata": {},
   "source": [
    "### some testing on phi"
   ]
  },
  {
   "cell_type": "code",
   "execution_count": null,
   "metadata": {},
   "outputs": [],
   "source": [
    "players = [axl.ZDExtort3(phi=1/100000),axl.Cooperator()]\n",
    "tournament = axl.Tournament(players,turns = 10000,repetitions=10)\n",
    "results = tournament.play()\n",
    "summary = results.summarise()\n",
    "plot = axl.Plot(results)\n",
    "p2 = plot.boxplot()\n",
    "p2.show()\n",
    "pprint.pprint(summary)"
   ]
  },
  {
   "cell_type": "code",
   "execution_count": null,
   "metadata": {},
   "outputs": [],
   "source": [
    "players = [axl.ZDExtort3(phi=1),axl.Cooperator()]\n",
    "tournament = axl.Tournament(players,turns = 10000,repetitions=10)\n",
    "results = tournament.play()\n",
    "summary = results.summarise()\n",
    "plot = axl.Plot(results)\n",
    "p2 = plot.boxplot()\n",
    "p2.show()\n",
    "pprint.pprint(summary)\n",
    "# As expected, when phi is out of range, we can nit establish the stretegy"
   ]
  },
  {
   "cell_type": "markdown",
   "metadata": {},
   "source": [
    "### some tesing for other stretergy"
   ]
  },
  {
   "cell_type": "code",
   "execution_count": null,
   "metadata": {},
   "outputs": [],
   "source": [
    "players = [axl.ZDExtort3(phi=1/14),axl.Random(0.5)]\n",
    "tournament = axl.Tournament(players,turns = 10000,repetitions=10)\n",
    "results = tournament.play()\n",
    "summary = results.summarise()\n",
    "plot = axl.Plot(results)\n",
    "p2 = plot.boxplot()\n",
    "p2.show()\n",
    "pprint.pprint(summary)"
   ]
  },
  {
   "cell_type": "code",
   "execution_count": null,
   "metadata": {},
   "outputs": [],
   "source": [
    "players = [axl.ZDExtort3(phi=1/14),axl.TF1()]\n",
    "tournament = axl.Tournament(players,turns = 10000,repetitions=10)\n",
    "results = tournament.play()\n",
    "summary = results.summarise()\n",
    "plot = axl.Plot(results)\n",
    "p2 = plot.boxplot()\n",
    "p2.show()\n",
    "pprint.pprint(summary)"
   ]
  },
  {
   "cell_type": "markdown",
   "metadata": {},
   "source": [
    "### more test on other extortion factor for other stretegies"
   ]
  },
  {
   "cell_type": "code",
   "execution_count": null,
   "metadata": {},
   "outputs": [],
   "source": [
    "players = [axl.ZDExtortion(phi=1/14),axl.TF1()]\n",
    "tournament = axl.Tournament(players,turns = 10000,repetitions=10)\n",
    "results = tournament.play()\n",
    "summary = results.summarise()\n",
    "plot = axl.Plot(results)\n",
    "p2 = plot.boxplot()\n",
    "p2.show()\n",
    "pprint.pprint(summary)"
   ]
  },
  {
   "cell_type": "code",
   "execution_count": null,
   "metadata": {},
   "outputs": [],
   "source": [
    "players = [axl.ZDExtortion(phi=1/14),axl.Random(0.5)]\n",
    "tournament = axl.Tournament(players,turns = 10000,repetitions=10)\n",
    "results = tournament.play()\n",
    "summary = results.summarise()\n",
    "plot = axl.Plot(results)\n",
    "p2 = plot.boxplot()\n",
    "p2.show()\n",
    "pprint.pprint(summary)"
   ]
  },
  {
   "cell_type": "markdown",
   "metadata": {},
   "source": [
    "### More experiments on phi"
   ]
  },
  {
   "cell_type": "code",
   "execution_count": null,
   "metadata": {},
   "outputs": [],
   "source": [
    "players = [axl.ZDExtort3(phi=1/1000000),axl.Random(0.5)]\n",
    "tournament = axl.Tournament(players,turns = 10000,repetitions=10)\n",
    "results = tournament.play()\n",
    "summary = results.summarise()\n",
    "plot = axl.Plot(results)\n",
    "p2 = plot.boxplot()\n",
    "p2.show()\n",
    "pprint.pprint(summary)"
   ]
  },
  {
   "cell_type": "code",
   "execution_count": null,
   "metadata": {},
   "outputs": [],
   "source": [
    "players = [axl.ZDExtort3(phi=1/7),axl.Random(0.5)]\n",
    "tournament = axl.Tournament(players,turns = 10000,repetitions=10)\n",
    "results = tournament.play()\n",
    "summary = results.summarise()\n",
    "plot = axl.Plot(results)\n",
    "p2 = plot.boxplot()\n",
    "p2.show()\n",
    "pprint.pprint(summary)"
   ]
  },
  {
   "cell_type": "code",
   "execution_count": null,
   "metadata": {},
   "outputs": [],
   "source": [
    "players = [axl.ZDExtort3(phi=1/7),axl.TF1()]\n",
    "tournament = axl.Tournament(players,turns = 10000,repetitions=10)\n",
    "results = tournament.play()\n",
    "summary = results.summarise()\n",
    "plot = axl.Plot(results)\n",
    "p2 = plot.boxplot()\n",
    "p2.show()\n",
    "pprint.pprint(summary)"
   ]
  },
  {
   "cell_type": "code",
   "execution_count": null,
   "metadata": {},
   "outputs": [],
   "source": [
    "players = [axl.ZDExtort3(phi=1/100000),axl.TF1()]\n",
    "tournament = axl.Tournament(players,turns = 10000,repetitions=10)\n",
    "results = tournament.play()\n",
    "summary = results.summarise()\n",
    "plot = axl.Plot(results)\n",
    "p2 = plot.boxplot()\n",
    "p2.show()\n",
    "pprint.pprint(summary)"
   ]
  },
  {
   "cell_type": "markdown",
   "metadata": {},
   "source": [
    "### Conclusion from experiments :"
   ]
  }
 ],
 "metadata": {
  "kernelspec": {
   "display_name": "Python 3",
   "language": "python",
   "name": "python3"
  },
  "language_info": {
   "codemirror_mode": {
    "name": "ipython",
    "version": 3
   },
   "file_extension": ".py",
   "mimetype": "text/x-python",
   "name": "python",
   "nbconvert_exporter": "python",
   "pygments_lexer": "ipython3",
   "version": "3.7.2"
  }
 },
 "nbformat": 4,
 "nbformat_minor": 2
}
