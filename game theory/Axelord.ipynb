{
 "cells": [
  {
   "cell_type": "raw",
   "metadata": {},
   "source": [
    "Author: Guangya Wan\n",
    "Time : Feb 21 2019"
   ]
  },
  {
   "cell_type": "markdown",
   "metadata": {},
   "source": [
    "# Introduction(Feb 22nd)"
   ]
  },
  {
   "cell_type": "markdown",
   "metadata": {},
   "source": [
    "### Axelord's tournament is hold back to 1970s; it's held by professor Axelord who wish to find the best way to deal with iterated prisioner's dilemma. Among more than 60 participants, it turns out that the Tit-for-tat designed by Anatol Rapoport is the winner, and it is also the simplest one"
   ]
  },
  {
   "cell_type": "markdown",
   "metadata": {},
   "source": [
    "### Tit-for-tat have lots of variations(though they did not win the original version in the tournaments), I will show the effects of the original tit-for-tat and one of its variations -- Grudger here.\n",
    "### Tit for tat is to cooperate first, and do whatever its opponents do last time. Grudger is basically the same, except that it does not forgive. So as long as the opponent defects, it will always defect in the future rounds."
   ]
  },
  {
   "cell_type": "markdown",
   "metadata": {},
   "source": [
    "### The top ranked stretegies in Axelord's tournaments have genereally 4 properties : Nice, Retaliatation, Forgiveness, and non-envious(Not trying to get higher than your opponents) However, this really depends on the enviroments of the tournaments, one can not simply give tit-for-tat and expected to win every single time. I will show some examples below"
   ]
  },
  {
   "cell_type": "markdown",
   "metadata": {},
   "source": [
    "# Simulating matches"
   ]
  },
  {
   "cell_type": "code",
   "execution_count": null,
   "metadata": {},
   "outputs": [],
   "source": [
    "import axelrod as axl\n",
    "import pprint"
   ]
  },
  {
   "cell_type": "code",
   "execution_count": null,
   "metadata": {},
   "outputs": [],
   "source": [
    "players = [axl.Cooperator(), axl.Defector(),\n",
    "           axl.TitForTat(), axl.Grudger(),axl.Random(0.66)]\n",
    "# grudge is similar to titfor tat expect it does not forgive\n",
    "tournament = axl.Tournament(players,turns = 100, repetitions = 10)\n",
    "results = tournament.play()\n",
    "plot = axl.Plot(results)\n",
    "p = plot.payoff()\n",
    "p.show()\n",
    "summary = results.summarise()\n",
    "pprint.pprint(summary)"
   ]
  },
  {
   "cell_type": "code",
   "execution_count": null,
   "metadata": {},
   "outputs": [],
   "source": [
    "players = [axl.Defector(),axl.TitForTat(), \n",
    "           axl.Grudger(),axl.Random(0.1),axl.Random(1)]\n",
    "# grudge is similar to titfor tat expect it does not forgive\n",
    "tournament = axl.Tournament(players,turns = 100, repetitions = 10)\n",
    "results = tournament.play()\n",
    "summary = results.summarise()\n",
    "plot = axl.Plot(results)\n",
    "p = plot.payoff()\n",
    "p.show()\n",
    "summary = results.summarise()\n",
    "pprint.pprint(summary)"
   ]
  },
  {
   "cell_type": "code",
   "execution_count": null,
   "metadata": {},
   "outputs": [],
   "source": [
    "players = [axl.Cooperator(),axl.TitForTat(), axl.Grudger()\n",
    "           ,axl.Random(0.9),axl.Random(0.95)] \n",
    "# grudge is similar to titfor tat expect it does not forgive\n",
    "tournament = axl.Tournament(players,turns = 100, repetitions = 10)\n",
    "results = tournament.play()\n",
    "summary = results.summarise()\n",
    "plot = axl.Plot(results)\n",
    "p = plot.payoff()\n",
    "p.show()\n",
    "summary = results.summarise()\n",
    "pprint.pprint(summary)"
   ]
  },
  {
   "cell_type": "markdown",
   "metadata": {},
   "source": [
    "# Conclusion"
   ]
  },
  {
   "cell_type": "markdown",
   "metadata": {},
   "source": [
    "### There are no stretegies either mathmatical or emprically proved to win all the iterated games right now. It dependes on the ecology of the enviroments.In a tournaments where most of players perfer to be \"nice\", a defector can usually be ranked as 1st. In a game where most players like to defect, tit-for-tat or its variation are often the winner \n",
    "### There are other better stretegies nowdays where in a game you can assign mutiple players. You can assign a predetermined winner and  sacrifice the rest of other players. Specifically, they are programmed to able to recoginize the winner. If it's winner, they will always cooperate, otherwise they will defect to lower their opponents' scores"
   ]
  },
  {
   "cell_type": "markdown",
   "metadata": {},
   "source": [
    "# Simulating different types of game(Mar 1st)"
   ]
  },
  {
   "cell_type": "code",
   "execution_count": null,
   "metadata": {},
   "outputs": [],
   "source": [
    "chicken = axl.game.Game(r=0, s=-1, t=1, p=-10)\n",
    "pd = axl.game.Game()\n",
    "dead_lock = axl.game.Game(r=1, s=3, t=0, p= 2)\n",
    "my_game = axl.game.Game(r=5, s=-5, t=-5, p= 5)"
   ]
  },
  {
   "cell_type": "code",
   "execution_count": null,
   "metadata": {},
   "outputs": [],
   "source": [
    "# axl.seed(0)\n",
    "players = [axl.Cooperator(),axl.TitForTat(),axl.Grudger(),axl.Random(0.5),axl.Defector(),axl.Alternator(),axl.Punisher()] \n",
    "tournament1 = axl.Tournament(players,game = chicken,turns = 100, repetitions = 10)\n",
    "results1 = tournament1.play()\n",
    "tournament2 = axl.Tournament(players,game = pd,turns = 100, repetitions = 10)\n",
    "results2 = tournament2.play()\n",
    "tournament3 = axl.Tournament(players,game = dead_lock,turns = 100, repetitions = 10)\n",
    "results3 = tournament3.play()\n",
    "tournament4 = axl.Tournament(players,game = my_game,turns = 100, repetitions = 10)\n",
    "results4 = tournament4.play()"
   ]
  },
  {
   "cell_type": "code",
   "execution_count": null,
   "metadata": {},
   "outputs": [],
   "source": [
    "print(results1.ranked_names,'\\n',results2.ranked_names,'\\n',results3.ranked_names,'\\n',results4.ranked_names)"
   ]
  },
  {
   "cell_type": "markdown",
   "metadata": {},
   "source": [
    "# Simulating the real axelrod tournaments"
   ]
  },
  {
   "cell_type": "code",
   "execution_count": null,
   "metadata": {},
   "outputs": [],
   "source": [
    "players = [axl.TidemanAndChieruzzi(),axl.TitForTat(),axl.Grudger(),axl.Random(0.5),axl.Nydegger(),axl.Grofman(),axl.Shubik(),axl.SteinAndRapoport(),axl.Davis(),\n",
    "           axl.SneakyTitForTat(),axl.RevisedDowning(),axl.Feld(),axl.Joss(),axl.Tullock(),axl.UnnamedStrategy()] # total of 14 strategies played \n",
    "tournament = axl.Tournament(players,turns = 200,repetitions=20)\n",
    "results = tournament.play()\n",
    "summary = results.summarise()\n",
    "plot = axl.Plot(results)\n",
    "p = plot.payoff()\n",
    "p2 = plot.boxplot()\n",
    "p2.show()\n",
    "p.show()\n",
    "results.ranked_names\n",
    "print(results.score_diffs)"
   ]
  },
  {
   "cell_type": "markdown",
   "metadata": {},
   "source": [
    "result is different from expected"
   ]
  },
  {
   "cell_type": "code",
   "execution_count": null,
   "metadata": {},
   "outputs": [],
   "source": [
    "results.payoff_matrix[1]"
   ]
  },
  {
   "cell_type": "markdown",
   "metadata": {},
   "source": [
    "# Doing the axelrod tournament in game of chicken"
   ]
  },
  {
   "cell_type": "code",
   "execution_count": null,
   "metadata": {},
   "outputs": [],
   "source": [
    "tournament = axl.Tournament(players,game = chicken,turns = 200,repetitions=5)\n",
    "results = tournament.play()\n",
    "summary = results.summarise()\n",
    "plot = axl.Plot(results)\n",
    "p = plot.payoff()\n",
    "p2 = plot.boxplot()\n",
    "p2.show()\n",
    "p.show()\n",
    "results.ranked_names"
   ]
  },
  {
   "cell_type": "markdown",
   "metadata": {},
   "source": [
    "# Stimulating different ZD games"
   ]
  },
  {
   "cell_type": "code",
   "execution_count": null,
   "metadata": {},
   "outputs": [],
   "source": [
    "players = [axl.GTFT(),axl.TF2(),axl.ZDGTFT2(),axl.ZDExtort2(),axl.ZDExtort3(),axl.ZDExtortion()]\n",
    "tournament = axl.Tournament(players,turns = 200,repetitions=5)\n",
    "results = tournament.play()\n",
    "summary = results.summarise()\n",
    "plot = axl.Plot(results)\n",
    "p = plot.payoff()\n",
    "p2 = plot.boxplot()\n",
    "p2.show()\n",
    "p.show()\n",
    "summary"
   ]
  },
  {
   "cell_type": "code",
   "execution_count": null,
   "metadata": {},
   "outputs": [],
   "source": [
    "players = [axl.ZDExtort2(),axl.ZDExtort3(),axl.ZDExtort4()]\n",
    "tournament = axl.Tournament(players,turns = 200,repetitions=5)\n",
    "results = tournament.play()\n",
    "summary = results.summarise()\n",
    "plot = axl.Plot(results)\n",
    "p = plot.payoff()\n",
    "p2 = plot.boxplot()\n",
    "p2.show()\n",
    "p.show()\n",
    "summary"
   ]
  },
  {
   "cell_type": "markdown",
   "metadata": {},
   "source": [
    "# Stimulating games suggested in Dyson's paper"
   ]
  },
  {
   "cell_type": "markdown",
   "metadata": {},
   "source": [
    "### Best score is when y always cooperates, also the range of phi is from 0 to 1/7(by formula), so the median value is 1/7"
   ]
  },
  {
   "cell_type": "code",
   "execution_count": 117,
   "metadata": {},
   "outputs": [],
   "source": [
    "players = [axl.ZDExtort3(phi=1/14),axl.Cooperator()] "
   ]
  },
  {
   "cell_type": "code",
   "execution_count": 118,
   "metadata": {},
   "outputs": [
    {
     "name": "stderr",
     "output_type": "stream",
     "text": [
      "\n",
      "\n",
      "\n",
      "Playing matches:   0%|          | 0/3 [00:00<?, ?it/s]\u001b[A\u001b[A\u001b[A\n",
      "\n",
      "\n",
      "Playing matches:  67%|██████▋   | 2/3 [00:00<00:00, 13.26it/s]\u001b[A\u001b[A\u001b[A\n",
      "\n",
      "\n",
      "Playing matches: 100%|██████████| 3/3 [00:00<00:00, 17.41it/s]\u001b[A\u001b[A\u001b[A\n",
      "\n",
      "\n",
      "Analysing:   0%|          | 0/25 [00:00<?, ?it/s]\u001b[A\u001b[A\u001b[A\n",
      "\n",
      "\n",
      "Analysing:   4%|▍         | 1/25 [00:00<00:04,  5.73it/s]\u001b[A\u001b[A\u001b[A\n",
      "\n",
      "\n",
      "Analysing: 100%|██████████| 25/25 [00:00<00:00, 133.85it/s]\u001b[A\u001b[A\u001b[A"
     ]
    },
    {
     "name": "stdout",
     "output_type": "stream",
     "text": [
      "[Player(Rank=0, Name='ZD-Extort3: 0.07142857142857142, 0.3333333333333333, 1', Median_score=3.5700000000000003, Cooperation_rating=0.684, Wins=1.0, Initial_C_rate=1.0, CC_rate=0.684, CD_rate=0.0, DC_rate=0.316, DD_rate=0.0, CC_to_C_rate=0.915929203539823, CD_to_C_rate=0, DC_to_C_rate=0.16987179487179488, DD_to_C_rate=0),\n",
      " Player(Rank=1, Name='Cooperator', Median_score=2.145, Cooperation_rating=1.0, Wins=0.0, Initial_C_rate=1.0, CC_rate=0.684, CD_rate=0.316, DC_rate=0.0, DD_rate=0.0, CC_to_C_rate=1.0, CD_to_C_rate=1.0, DC_to_C_rate=0, DD_to_C_rate=0)]\n"
     ]
    },
    {
     "data": {
      "image/png": "[encoded data removed]",
      "text/plain": [
       "<Figure size 864x432 with 1 Axes>"
      ]
     },
     "metadata": {
      "needs_background": "light"
     },
     "output_type": "display_data"
    }
   ],
   "source": [
    "tournament = axl.Tournament(players,turns = 100,repetitions=10)\n",
    "results = tournament.play()\n",
    "summary = results.summarise()\n",
    "plot = axl.Plot(results)\n",
    "p2 = plot.boxplot()\n",
    "p2.show()\n",
    "pprint.pprint(summary)"
   ]
  },
  {
   "cell_type": "markdown",
   "metadata": {},
   "source": [
    "### Not quite the same, I so will run more examples"
   ]
  },
  {
   "cell_type": "code",
   "execution_count": 119,
   "metadata": {},
   "outputs": [
    {
     "name": "stderr",
     "output_type": "stream",
     "text": [
      "\n",
      "\n",
      "\n",
      "Playing matches:   0%|          | 0/3 [00:00<?, ?it/s]\u001b[A\u001b[A\u001b[A\n",
      "\n",
      "\n",
      "Playing matches:  33%|███▎      | 1/3 [00:02<00:05,  2.80s/it]\u001b[A\u001b[A\u001b[A\n",
      "\n",
      "\n",
      "Playing matches:  67%|██████▋   | 2/3 [00:05<00:02,  2.66s/it]\u001b[A\u001b[A\u001b[A\n",
      "\n",
      "\n",
      "Playing matches: 100%|██████████| 3/3 [00:06<00:00,  2.24s/it]\u001b[A\u001b[A\u001b[A\n",
      "\n",
      "\n",
      "Analysing:   0%|          | 0/25 [00:00<?, ?it/s]\u001b[A\u001b[A\u001b[A\n",
      "\n",
      "\n",
      "Analysing:   4%|▍         | 1/25 [00:00<00:03,  7.01it/s]\u001b[A\u001b[A\u001b[A\n",
      "\n",
      "\n",
      "Analysing: 100%|██████████| 25/25 [00:00<00:00, 134.55it/s]\u001b[A\u001b[A\u001b[A"
     ]
    },
    {
     "name": "stdout",
     "output_type": "stream",
     "text": [
      "[Player(Rank=0, Name='ZD-Extort3: 0.07142857142857142, 0.3333333333333333, 1', Median_score=3.7106, Cooperation_rating=0.64031, Wins=1.0, Initial_C_rate=1.0, CC_rate=0.64031, CD_rate=0.0, DC_rate=0.35969, DD_rate=0.0, CC_to_C_rate=0.9060039985005622, CD_to_C_rate=0, DC_to_C_rate=0.16724128343435468, DD_to_C_rate=0),\n",
      " Player(Rank=1, Name='Cooperator', Median_score=1.9341, Cooperation_rating=1.0, Wins=0.0, Initial_C_rate=1.0, CC_rate=0.64031, CD_rate=0.35969, DC_rate=0.0, DD_rate=0.0, CC_to_C_rate=1.0, CD_to_C_rate=1.0, DC_to_C_rate=0, DD_to_C_rate=0)]\n"
     ]
    },
    {
     "data": {
      "image/png": "[encoded data removed]",
      "text/plain": [
       "<Figure size 864x432 with 1 Axes>"
      ]
     },
     "metadata": {
      "needs_background": "light"
     },
     "output_type": "display_data"
    }
   ],
   "source": [
    "tournament = axl.Tournament(players,turns = 10000,repetitions=10)\n",
    "results = tournament.play()\n",
    "summary = results.summarise()\n",
    "plot = axl.Plot(results)\n",
    "p2 = plot.boxplot()\n",
    "p2.show()\n",
    "pprint.pprint(summary)"
   ]
  },
  {
   "cell_type": "markdown",
   "metadata": {},
   "source": [
    "### some tesing for other extortion factor"
   ]
  },
  {
   "cell_type": "code",
   "execution_count": 120,
   "metadata": {},
   "outputs": [
    {
     "name": "stderr",
     "output_type": "stream",
     "text": [
      "\n",
      "\n",
      "\n",
      "Playing matches:   0%|          | 0/3 [00:00<?, ?it/s]\u001b[A\u001b[A\u001b[A\n",
      "\n",
      "\n",
      "Playing matches:  33%|███▎      | 1/3 [00:02<00:05,  2.75s/it]\u001b[A\u001b[A\u001b[A\n",
      "\n",
      "\n",
      "Playing matches:  67%|██████▋   | 2/3 [00:05<00:02,  2.70s/it]\u001b[A\u001b[A\u001b[A\n",
      "\n",
      "\n",
      "Playing matches: 100%|██████████| 3/3 [00:06<00:00,  2.31s/it]\u001b[A\u001b[A\u001b[A\n",
      "\n",
      "\n",
      "Analysing:   0%|          | 0/25 [00:00<?, ?it/s]\u001b[A\u001b[A\u001b[A\n",
      "\n",
      "\n",
      "Analysing:   4%|▍         | 1/25 [00:00<00:03,  6.95it/s]\u001b[A\u001b[A\u001b[A\n",
      "\n",
      "\n",
      "Analysing: 100%|██████████| 25/25 [00:00<00:00, 132.97it/s]\u001b[A\u001b[A\u001b[A"
     ]
    },
    {
     "name": "stdout",
     "output_type": "stream",
     "text": [
      "[Player(Rank=0, Name='ZD-Extort-4: 0.07142857142857142, 0.25, 1', Median_score=3.8646000000000003, Cooperation_rating=0.56895, Wins=1.0, Initial_C_rate=1.0, CC_rate=0.56895, CD_rate=0.0, DC_rate=0.43105, DD_rate=0.0, CC_to_C_rate=0.8919512752456452, CD_to_C_rate=0, DC_to_C_rate=0.14248590454534907, DD_to_C_rate=0),\n",
      " Player(Rank=1, Name='Cooperator', Median_score=1.7031, Cooperation_rating=1.0, Wins=0.0, Initial_C_rate=1.0, CC_rate=0.56895, CD_rate=0.43105, DC_rate=0.0, DD_rate=0.0, CC_to_C_rate=1.0, CD_to_C_rate=1.0, DC_to_C_rate=0, DD_to_C_rate=0)]\n"
     ]
    },
    {
     "data": {
      "image/png": "[encoded data removed]",
      "text/plain": [
       "<Figure size 864x432 with 1 Axes>"
      ]
     },
     "metadata": {
      "needs_background": "light"
     },
     "output_type": "display_data"
    }
   ],
   "source": [
    "players = [axl.ZDExtort4(phi=1/14),axl.Cooperator()]\n",
    "tournament = axl.Tournament(players,turns = 10000,repetitions=10)\n",
    "results = tournament.play()\n",
    "summary = results.summarise()\n",
    "plot = axl.Plot(results)\n",
    "p2 = plot.boxplot()\n",
    "p2.show()\n",
    "pprint.pprint(summary)"
   ]
  },
  {
   "cell_type": "code",
   "execution_count": 121,
   "metadata": {},
   "outputs": [
    {
     "name": "stderr",
     "output_type": "stream",
     "text": [
      "\n",
      "\n",
      "\n",
      "Playing matches:   0%|          | 0/3 [00:00<?, ?it/s]\u001b[A\u001b[A\u001b[A\n",
      "\n",
      "\n",
      "Playing matches:  33%|███▎      | 1/3 [00:02<00:05,  2.81s/it]\u001b[A\u001b[A\u001b[A\n",
      "\n",
      "\n",
      "Playing matches:  67%|██████▋   | 2/3 [00:04<00:02,  2.61s/it]\u001b[A\u001b[A\u001b[A\n",
      "\n",
      "\n",
      "Playing matches: 100%|██████████| 3/3 [00:06<00:00,  2.24s/it]\u001b[A\u001b[A\u001b[A\n",
      "\n",
      "\n",
      "Analysing:   0%|          | 0/25 [00:00<?, ?it/s]\u001b[A\u001b[A\u001b[A\n",
      "\n",
      "\n",
      "Analysing:   4%|▍         | 1/25 [00:00<00:04,  4.81it/s]\u001b[A\u001b[A\u001b[A\n",
      "\n",
      "\n",
      "Analysing: 100%|██████████| 25/25 [00:00<00:00, 101.80it/s]\u001b[A\u001b[A\u001b[A"
     ]
    },
    {
     "name": "stdout",
     "output_type": "stream",
     "text": [
      "[Player(Rank=0, Name='ZD-Extort-2: 0.07142857142857142, 0.5', Median_score=3.4873000000000003, Cooperation_rating=0.75358, Wins=1.0, Initial_C_rate=1.0, CC_rate=0.75358, CD_rate=0.0, DC_rate=0.24642, DD_rate=0.0, CC_to_C_rate=0.9284396607785107, CD_to_C_rate=0, DC_to_C_rate=0.21878170528793475, DD_to_C_rate=0),\n",
      " Player(Rank=1, Name='Cooperator', Median_score=2.26905, Cooperation_rating=1.0, Wins=0.0, Initial_C_rate=1.0, CC_rate=0.75358, CD_rate=0.24642, DC_rate=0.0, DD_rate=0.0, CC_to_C_rate=1.0, CD_to_C_rate=1.0, DC_to_C_rate=0, DD_to_C_rate=0)]\n"
     ]
    },
    {
     "data": {
      "image/png": "[encoded data removed]",
      "text/plain": [
       "<Figure size 864x432 with 1 Axes>"
      ]
     },
     "metadata": {
      "needs_background": "light"
     },
     "output_type": "display_data"
    }
   ],
   "source": [
    "players = [axl.ZDExtort2(phi=1/14),axl.Cooperator()]\n",
    "tournament = axl.Tournament(players,turns = 10000,repetitions=10)\n",
    "results = tournament.play()\n",
    "summary = results.summarise()\n",
    "plot = axl.Plot(results)\n",
    "p2 = plot.boxplot()\n",
    "p2.show()\n",
    "pprint.pprint(summary)"
   ]
  },
  {
   "cell_type": "code",
   "execution_count": 122,
   "metadata": {},
   "outputs": [
    {
     "name": "stderr",
     "output_type": "stream",
     "text": [
      "\n",
      "\n",
      "\n",
      "Playing matches:   0%|          | 0/3 [00:00<?, ?it/s]\u001b[A\u001b[A\u001b[A\n",
      "\n",
      "\n",
      "Playing matches:  33%|███▎      | 1/3 [00:02<00:05,  2.83s/it]\u001b[A\u001b[A\u001b[A\n",
      "\n",
      "\n",
      "Playing matches:  67%|██████▋   | 2/3 [00:05<00:02,  2.69s/it]\u001b[A\u001b[A\u001b[A\n",
      "\n",
      "\n",
      "Playing matches: 100%|██████████| 3/3 [00:06<00:00,  2.26s/it]\u001b[A\u001b[A\u001b[A\n",
      "\n",
      "\n",
      "Analysing:   0%|          | 0/25 [00:00<?, ?it/s]\u001b[A\u001b[A\u001b[A\n",
      "\n",
      "\n",
      "Analysing:   4%|▍         | 1/25 [00:00<00:03,  7.36it/s]\u001b[A\u001b[A\u001b[A\n",
      "\n",
      "\n",
      "Analysing: 100%|██████████| 25/25 [00:00<00:00, 141.70it/s]\u001b[A\u001b[A\u001b[A"
     ]
    },
    {
     "name": "stdout",
     "output_type": "stream",
     "text": [
      "[Player(Rank=0, Name='ZD-Extortion: 0.14285714285714285, 0.1, 1', Median_score=4.1309000000000005, Cooperation_rating=0.43642, Wins=1.0, Initial_C_rate=1.0, CC_rate=0.43642, CD_rate=0.0, DC_rate=0.56358, DD_rate=0.0, CC_to_C_rate=0.7414927014826188, CD_to_C_rate=0, DC_to_C_rate=0.20006743447321254, DD_to_C_rate=0),\n",
      " Player(Rank=1, Name='Cooperator', Median_score=1.30365, Cooperation_rating=1.0, Wins=0.0, Initial_C_rate=1.0, CC_rate=0.43642, CD_rate=0.56358, DC_rate=0.0, DD_rate=0.0, CC_to_C_rate=1.0, CD_to_C_rate=1.0, DC_to_C_rate=0, DD_to_C_rate=0)]\n"
     ]
    },
    {
     "data": {
      "image/png": "[encoded data removed]",
      "text/plain": [
       "<Figure size 864x432 with 1 Axes>"
      ]
     },
     "metadata": {
      "needs_background": "light"
     },
     "output_type": "display_data"
    }
   ],
   "source": [
    "players = [axl.ZDExtortion(phi=1/7),axl.Cooperator()]\n",
    "tournament = axl.Tournament(players,turns = 10000,repetitions=10)\n",
    "results = tournament.play()\n",
    "summary = results.summarise()\n",
    "plot = axl.Plot(results)\n",
    "p2 = plot.boxplot()\n",
    "p2.show()\n",
    "pprint.pprint(summary) # extortion 10, which is significatly higher than extortion 3 for the best result, as expected"
   ]
  },
  {
   "cell_type": "markdown",
   "metadata": {},
   "source": [
    "### some testing on phi"
   ]
  },
  {
   "cell_type": "code",
   "execution_count": 123,
   "metadata": {},
   "outputs": [
    {
     "name": "stderr",
     "output_type": "stream",
     "text": [
      "\n",
      "\n",
      "\n",
      "Playing matches:   0%|          | 0/3 [00:00<?, ?it/s]\u001b[A\u001b[A\u001b[A\n",
      "\n",
      "\n",
      "Playing matches:  33%|███▎      | 1/3 [00:02<00:05,  2.90s/it]\u001b[A\u001b[A\u001b[A\n",
      "\n",
      "\n",
      "Playing matches:  67%|██████▋   | 2/3 [00:05<00:02,  2.74s/it]\u001b[A\u001b[A\u001b[A\n",
      "\n",
      "\n",
      "Playing matches: 100%|██████████| 3/3 [00:06<00:00,  2.35s/it]\u001b[A\u001b[A\u001b[A\n",
      "\n",
      "\n",
      "Analysing:   0%|          | 0/25 [00:00<?, ?it/s]\u001b[A\u001b[A\u001b[A\n",
      "\n",
      "\n",
      "Analysing:   4%|▍         | 1/25 [00:00<00:03,  6.44it/s]\u001b[A\u001b[A\u001b[A\n",
      "\n",
      "\n",
      "Analysing: 100%|██████████| 25/25 [00:00<00:00, 151.91it/s]\u001b[A\u001b[A\u001b[A"
     ]
    },
    {
     "name": "stdout",
     "output_type": "stream",
     "text": [
      "[Player(Rank=0, Name='ZD-Extort3: 1e-05, 0.3333333333333333, 1', Median_score=3.0, Cooperation_rating=1.0, Wins=0.0, Initial_C_rate=1.0, CC_rate=1.0, CD_rate=0.0, DC_rate=0.0, DD_rate=0.0, CC_to_C_rate=1.0, CD_to_C_rate=0, DC_to_C_rate=0, DD_to_C_rate=0),\n",
      " Player(Rank=1, Name='Cooperator', Median_score=3.0, Cooperation_rating=1.0, Wins=0.0, Initial_C_rate=1.0, CC_rate=1.0, CD_rate=0.0, DC_rate=0.0, DD_rate=0.0, CC_to_C_rate=1.0, CD_to_C_rate=0, DC_to_C_rate=0, DD_to_C_rate=0)]\n"
     ]
    },
    {
     "data": {
      "image/png": "[encoded data removed]",
      "text/plain": [
       "<Figure size 864x432 with 1 Axes>"
      ]
     },
     "metadata": {
      "needs_background": "light"
     },
     "output_type": "display_data"
    }
   ],
   "source": [
    "players = [axl.ZDExtort3(phi=1/100000),axl.Cooperator()]\n",
    "tournament = axl.Tournament(players,turns = 10000,repetitions=10)\n",
    "results = tournament.play()\n",
    "summary = results.summarise()\n",
    "plot = axl.Plot(results)\n",
    "p2 = plot.boxplot()\n",
    "p2.show()\n",
    "pprint.pprint(summary)"
   ]
  },
  {
   "cell_type": "code",
   "execution_count": 124,
   "metadata": {},
   "outputs": [
    {
     "ename": "ValueError",
     "evalue": "An element in the probability vector, [-0.3333333333333335, -3.333333333333333, 2.333333333333333, 0.0], is not between 0 and 1.",
     "output_type": "error",
     "traceback": [
      "\u001b[0;31m---------------------------------------------------------------------------\u001b[0m",
      "\u001b[0;31mValueError\u001b[0m                                Traceback (most recent call last)",
      "\u001b[0;32m<ipython-input-124-f2f37730691a>\u001b[0m in \u001b[0;36m<module>\u001b[0;34m\u001b[0m\n\u001b[0;32m----> 1\u001b[0;31m \u001b[0mplayers\u001b[0m \u001b[0;34m=\u001b[0m \u001b[0;34m[\u001b[0m\u001b[0maxl\u001b[0m\u001b[0;34m.\u001b[0m\u001b[0mZDExtort3\u001b[0m\u001b[0;34m(\u001b[0m\u001b[0mphi\u001b[0m\u001b[0;34m=\u001b[0m\u001b[0;36m1\u001b[0m\u001b[0;34m)\u001b[0m\u001b[0;34m,\u001b[0m\u001b[0maxl\u001b[0m\u001b[0;34m.\u001b[0m\u001b[0mCooperator\u001b[0m\u001b[0;34m(\u001b[0m\u001b[0;34m)\u001b[0m\u001b[0;34m]\u001b[0m\u001b[0;34m\u001b[0m\u001b[0;34m\u001b[0m\u001b[0m\n\u001b[0m\u001b[1;32m      2\u001b[0m \u001b[0mtournament\u001b[0m \u001b[0;34m=\u001b[0m \u001b[0maxl\u001b[0m\u001b[0;34m.\u001b[0m\u001b[0mTournament\u001b[0m\u001b[0;34m(\u001b[0m\u001b[0mplayers\u001b[0m\u001b[0;34m,\u001b[0m\u001b[0mturns\u001b[0m \u001b[0;34m=\u001b[0m \u001b[0;36m10000\u001b[0m\u001b[0;34m,\u001b[0m\u001b[0mrepetitions\u001b[0m\u001b[0;34m=\u001b[0m\u001b[0;36m10\u001b[0m\u001b[0;34m)\u001b[0m\u001b[0;34m\u001b[0m\u001b[0;34m\u001b[0m\u001b[0m\n\u001b[1;32m      3\u001b[0m \u001b[0mresults\u001b[0m \u001b[0;34m=\u001b[0m \u001b[0mtournament\u001b[0m\u001b[0;34m.\u001b[0m\u001b[0mplay\u001b[0m\u001b[0;34m(\u001b[0m\u001b[0;34m)\u001b[0m\u001b[0;34m\u001b[0m\u001b[0;34m\u001b[0m\u001b[0m\n\u001b[1;32m      4\u001b[0m \u001b[0msummary\u001b[0m \u001b[0;34m=\u001b[0m \u001b[0mresults\u001b[0m\u001b[0;34m.\u001b[0m\u001b[0msummarise\u001b[0m\u001b[0;34m(\u001b[0m\u001b[0;34m)\u001b[0m\u001b[0;34m\u001b[0m\u001b[0;34m\u001b[0m\u001b[0m\n\u001b[1;32m      5\u001b[0m \u001b[0mplot\u001b[0m \u001b[0;34m=\u001b[0m \u001b[0maxl\u001b[0m\u001b[0;34m.\u001b[0m\u001b[0mPlot\u001b[0m\u001b[0;34m(\u001b[0m\u001b[0mresults\u001b[0m\u001b[0;34m)\u001b[0m\u001b[0;34m\u001b[0m\u001b[0;34m\u001b[0m\u001b[0m\n",
      "\u001b[0;32m~/anaconda3/lib/python3.7/site-packages/axelrod/strategies/zero_determinant.py\u001b[0m in \u001b[0;36m__init__\u001b[0;34m(self, phi, s, l)\u001b[0m\n\u001b[1;32m    142\u001b[0m \u001b[0;34m\u001b[0m\u001b[0m\n\u001b[1;32m    143\u001b[0m     \u001b[0;32mdef\u001b[0m \u001b[0m__init__\u001b[0m\u001b[0;34m(\u001b[0m\u001b[0mself\u001b[0m\u001b[0;34m,\u001b[0m \u001b[0mphi\u001b[0m\u001b[0;34m:\u001b[0m \u001b[0mfloat\u001b[0m \u001b[0;34m=\u001b[0m \u001b[0;36m3\u001b[0m \u001b[0;34m/\u001b[0m \u001b[0;36m26\u001b[0m\u001b[0;34m,\u001b[0m \u001b[0ms\u001b[0m\u001b[0;34m:\u001b[0m \u001b[0mfloat\u001b[0m \u001b[0;34m=\u001b[0m \u001b[0;36m1\u001b[0m \u001b[0;34m/\u001b[0m \u001b[0;36m3\u001b[0m\u001b[0;34m,\u001b[0m \u001b[0ml\u001b[0m\u001b[0;34m:\u001b[0m \u001b[0mfloat\u001b[0m \u001b[0;34m=\u001b[0m \u001b[0;36m1\u001b[0m\u001b[0;34m)\u001b[0m \u001b[0;34m->\u001b[0m \u001b[0;32mNone\u001b[0m\u001b[0;34m:\u001b[0m\u001b[0;34m\u001b[0m\u001b[0;34m\u001b[0m\u001b[0m\n\u001b[0;32m--> 144\u001b[0;31m         \u001b[0msuper\u001b[0m\u001b[0;34m(\u001b[0m\u001b[0;34m)\u001b[0m\u001b[0;34m.\u001b[0m\u001b[0m__init__\u001b[0m\u001b[0;34m(\u001b[0m\u001b[0mphi\u001b[0m\u001b[0;34m,\u001b[0m \u001b[0ms\u001b[0m\u001b[0;34m,\u001b[0m \u001b[0ml\u001b[0m\u001b[0;34m)\u001b[0m\u001b[0;34m\u001b[0m\u001b[0;34m\u001b[0m\u001b[0m\n\u001b[0m\u001b[1;32m    145\u001b[0m \u001b[0;34m\u001b[0m\u001b[0m\n\u001b[1;32m    146\u001b[0m \u001b[0;34m\u001b[0m\u001b[0m\n",
      "\u001b[0;32m~/anaconda3/lib/python3.7/site-packages/axelrod/strategies/zero_determinant.py\u001b[0m in \u001b[0;36m__init__\u001b[0;34m(self, phi, s, l)\u001b[0m\n\u001b[1;32m     43\u001b[0m         \u001b[0mself\u001b[0m\u001b[0;34m.\u001b[0m\u001b[0ms\u001b[0m \u001b[0;34m=\u001b[0m \u001b[0ms\u001b[0m\u001b[0;34m\u001b[0m\u001b[0;34m\u001b[0m\u001b[0m\n\u001b[1;32m     44\u001b[0m         \u001b[0mself\u001b[0m\u001b[0;34m.\u001b[0m\u001b[0ml\u001b[0m \u001b[0;34m=\u001b[0m \u001b[0ml\u001b[0m\u001b[0;34m\u001b[0m\u001b[0;34m\u001b[0m\u001b[0m\n\u001b[0;32m---> 45\u001b[0;31m         \u001b[0msuper\u001b[0m\u001b[0;34m(\u001b[0m\u001b[0;34m)\u001b[0m\u001b[0;34m.\u001b[0m\u001b[0m__init__\u001b[0m\u001b[0;34m(\u001b[0m\u001b[0;34m)\u001b[0m\u001b[0;34m\u001b[0m\u001b[0;34m\u001b[0m\u001b[0m\n\u001b[0m\u001b[1;32m     46\u001b[0m \u001b[0;34m\u001b[0m\u001b[0m\n\u001b[1;32m     47\u001b[0m     \u001b[0;32mdef\u001b[0m \u001b[0mset_initial_four_vector\u001b[0m\u001b[0;34m(\u001b[0m\u001b[0mself\u001b[0m\u001b[0;34m,\u001b[0m \u001b[0mfour_vector\u001b[0m\u001b[0;34m)\u001b[0m\u001b[0;34m:\u001b[0m\u001b[0;34m\u001b[0m\u001b[0;34m\u001b[0m\u001b[0m\n",
      "\u001b[0;32m~/anaconda3/lib/python3.7/site-packages/axelrod/strategies/memoryone.py\u001b[0m in \u001b[0;36m__init__\u001b[0;34m(self, four_vector, initial)\u001b[0m\n\u001b[1;32m     64\u001b[0m                   \u001b[0mGrofman\u001b[0m\u001b[0;34m,\u001b[0m \u001b[0mJoss\u001b[0m \u001b[0;32min\u001b[0m \u001b[0maxelrod_tournaments\u001b[0m\u001b[0;34m.\u001b[0m\u001b[0mpy\u001b[0m\u001b[0;34m\u001b[0m\u001b[0;34m\u001b[0m\u001b[0m\n\u001b[1;32m     65\u001b[0m         \"\"\"\n\u001b[0;32m---> 66\u001b[0;31m         \u001b[0msuper\u001b[0m\u001b[0;34m(\u001b[0m\u001b[0;34m)\u001b[0m\u001b[0;34m.\u001b[0m\u001b[0m__init__\u001b[0m\u001b[0;34m(\u001b[0m\u001b[0;34m)\u001b[0m\u001b[0;34m\u001b[0m\u001b[0;34m\u001b[0m\u001b[0m\n\u001b[0m\u001b[1;32m     67\u001b[0m         \u001b[0mself\u001b[0m\u001b[0;34m.\u001b[0m\u001b[0m_initial\u001b[0m \u001b[0;34m=\u001b[0m \u001b[0minitial\u001b[0m\u001b[0;34m\u001b[0m\u001b[0;34m\u001b[0m\u001b[0m\n\u001b[1;32m     68\u001b[0m         \u001b[0mself\u001b[0m\u001b[0;34m.\u001b[0m\u001b[0mset_initial_four_vector\u001b[0m\u001b[0;34m(\u001b[0m\u001b[0mfour_vector\u001b[0m\u001b[0;34m)\u001b[0m\u001b[0;34m\u001b[0m\u001b[0;34m\u001b[0m\u001b[0m\n",
      "\u001b[0;32m~/anaconda3/lib/python3.7/site-packages/axelrod/player.py\u001b[0m in \u001b[0;36m__init__\u001b[0;34m(self)\u001b[0m\n\u001b[1;32m    125\u001b[0m         \u001b[0mself\u001b[0m\u001b[0;34m.\u001b[0m\u001b[0mdefections\u001b[0m \u001b[0;34m=\u001b[0m \u001b[0;36m0\u001b[0m\u001b[0;34m\u001b[0m\u001b[0;34m\u001b[0m\u001b[0m\n\u001b[1;32m    126\u001b[0m         \u001b[0mself\u001b[0m\u001b[0;34m.\u001b[0m\u001b[0mstate_distribution\u001b[0m \u001b[0;34m=\u001b[0m \u001b[0mdefaultdict\u001b[0m\u001b[0;34m(\u001b[0m\u001b[0mint\u001b[0m\u001b[0;34m)\u001b[0m\u001b[0;34m\u001b[0m\u001b[0;34m\u001b[0m\u001b[0m\n\u001b[0;32m--> 127\u001b[0;31m         \u001b[0mself\u001b[0m\u001b[0;34m.\u001b[0m\u001b[0mset_match_attributes\u001b[0m\u001b[0;34m(\u001b[0m\u001b[0;34m)\u001b[0m\u001b[0;34m\u001b[0m\u001b[0;34m\u001b[0m\u001b[0m\n\u001b[0m\u001b[1;32m    128\u001b[0m \u001b[0;34m\u001b[0m\u001b[0m\n\u001b[1;32m    129\u001b[0m     \u001b[0;32mdef\u001b[0m \u001b[0m__eq__\u001b[0m\u001b[0;34m(\u001b[0m\u001b[0mself\u001b[0m\u001b[0;34m,\u001b[0m \u001b[0mother\u001b[0m\u001b[0;34m)\u001b[0m\u001b[0;34m:\u001b[0m\u001b[0;34m\u001b[0m\u001b[0;34m\u001b[0m\u001b[0m\n",
      "\u001b[0;32m~/anaconda3/lib/python3.7/site-packages/axelrod/player.py\u001b[0m in \u001b[0;36mset_match_attributes\u001b[0;34m(self, length, game, noise)\u001b[0m\n\u001b[1;32m    184\u001b[0m             \u001b[0mgame\u001b[0m \u001b[0;34m=\u001b[0m \u001b[0mDefaultGame\u001b[0m\u001b[0;34m\u001b[0m\u001b[0;34m\u001b[0m\u001b[0m\n\u001b[1;32m    185\u001b[0m         \u001b[0mself\u001b[0m\u001b[0;34m.\u001b[0m\u001b[0mmatch_attributes\u001b[0m \u001b[0;34m=\u001b[0m \u001b[0;34m{\u001b[0m\u001b[0;34m\"length\"\u001b[0m\u001b[0;34m:\u001b[0m \u001b[0mlength\u001b[0m\u001b[0;34m,\u001b[0m \u001b[0;34m\"game\"\u001b[0m\u001b[0;34m:\u001b[0m \u001b[0mgame\u001b[0m\u001b[0;34m,\u001b[0m \u001b[0;34m\"noise\"\u001b[0m\u001b[0;34m:\u001b[0m \u001b[0mnoise\u001b[0m\u001b[0;34m}\u001b[0m\u001b[0;34m\u001b[0m\u001b[0;34m\u001b[0m\u001b[0m\n\u001b[0;32m--> 186\u001b[0;31m         \u001b[0mself\u001b[0m\u001b[0;34m.\u001b[0m\u001b[0mreceive_match_attributes\u001b[0m\u001b[0;34m(\u001b[0m\u001b[0;34m)\u001b[0m\u001b[0;34m\u001b[0m\u001b[0;34m\u001b[0m\u001b[0m\n\u001b[0m\u001b[1;32m    187\u001b[0m \u001b[0;34m\u001b[0m\u001b[0m\n\u001b[1;32m    188\u001b[0m     \u001b[0;32mdef\u001b[0m \u001b[0m__repr__\u001b[0m\u001b[0;34m(\u001b[0m\u001b[0mself\u001b[0m\u001b[0;34m)\u001b[0m\u001b[0;34m:\u001b[0m\u001b[0;34m\u001b[0m\u001b[0;34m\u001b[0m\u001b[0m\n",
      "\u001b[0;32m~/anaconda3/lib/python3.7/site-packages/axelrod/strategies/zero_determinant.py\u001b[0m in \u001b[0;36mreceive_match_attributes\u001b[0;34m(self)\u001b[0m\n\u001b[1;32m     73\u001b[0m \u001b[0;34m\u001b[0m\u001b[0m\n\u001b[1;32m     74\u001b[0m         \u001b[0mfour_vector\u001b[0m \u001b[0;34m=\u001b[0m \u001b[0;34m[\u001b[0m\u001b[0mp1\u001b[0m\u001b[0;34m,\u001b[0m \u001b[0mp2\u001b[0m\u001b[0;34m,\u001b[0m \u001b[0mp3\u001b[0m\u001b[0;34m,\u001b[0m \u001b[0mp4\u001b[0m\u001b[0;34m]\u001b[0m\u001b[0;34m\u001b[0m\u001b[0;34m\u001b[0m\u001b[0m\n\u001b[0;32m---> 75\u001b[0;31m         \u001b[0mself\u001b[0m\u001b[0;34m.\u001b[0m\u001b[0mset_four_vector\u001b[0m\u001b[0;34m(\u001b[0m\u001b[0mfour_vector\u001b[0m\u001b[0;34m)\u001b[0m\u001b[0;34m\u001b[0m\u001b[0;34m\u001b[0m\u001b[0m\n\u001b[0m\u001b[1;32m     76\u001b[0m \u001b[0;34m\u001b[0m\u001b[0m\n\u001b[1;32m     77\u001b[0m \u001b[0;34m\u001b[0m\u001b[0m\n",
      "\u001b[0;32m~/anaconda3/lib/python3.7/site-packages/axelrod/strategies/memoryone.py\u001b[0m in \u001b[0;36mset_four_vector\u001b[0;34m(self, four_vector)\u001b[0m\n\u001b[1;32m     81\u001b[0m             raise ValueError(\n\u001b[1;32m     82\u001b[0m                 \u001b[0;34m\"An element in the probability vector, {}, is not \"\u001b[0m\u001b[0;34m\u001b[0m\u001b[0;34m\u001b[0m\u001b[0m\n\u001b[0;32m---> 83\u001b[0;31m                 \u001b[0;34m\"between 0 and 1.\"\u001b[0m\u001b[0;34m.\u001b[0m\u001b[0mformat\u001b[0m\u001b[0;34m(\u001b[0m\u001b[0mstr\u001b[0m\u001b[0;34m(\u001b[0m\u001b[0mfour_vector\u001b[0m\u001b[0;34m)\u001b[0m\u001b[0;34m)\u001b[0m\u001b[0;34m\u001b[0m\u001b[0;34m\u001b[0m\u001b[0m\n\u001b[0m\u001b[1;32m     84\u001b[0m             )\n\u001b[1;32m     85\u001b[0m \u001b[0;34m\u001b[0m\u001b[0m\n",
      "\u001b[0;31mValueError\u001b[0m: An element in the probability vector, [-0.3333333333333335, -3.333333333333333, 2.333333333333333, 0.0], is not between 0 and 1."
     ]
    }
   ],
   "source": [
    "players = [axl.ZDExtort3(phi=1),axl.Cooperator()]\n",
    "tournament = axl.Tournament(players,turns = 10000,repetitions=10)\n",
    "results = tournament.play()\n",
    "summary = results.summarise()\n",
    "plot = axl.Plot(results)\n",
    "p2 = plot.boxplot()\n",
    "p2.show()\n",
    "pprint.pprint(summary)\n",
    "# As expected, when phi is out of range, we can nit establish the stretegy"
   ]
  },
  {
   "cell_type": "markdown",
   "metadata": {},
   "source": [
    "### some tesing for other stretergy"
   ]
  },
  {
   "cell_type": "code",
   "execution_count": 125,
   "metadata": {},
   "outputs": [
    {
     "name": "stderr",
     "output_type": "stream",
     "text": [
      "\n",
      "\n",
      "\n",
      "Playing matches:   0%|          | 0/3 [00:00<?, ?it/s]\u001b[A\u001b[A\u001b[A\n",
      "\n",
      "\n",
      "Playing matches:  33%|███▎      | 1/3 [00:02<00:05,  2.76s/it]\u001b[A\u001b[A\u001b[A\n",
      "\n",
      "\n",
      "Playing matches:  67%|██████▋   | 2/3 [00:05<00:02,  2.71s/it]\u001b[A\u001b[A\u001b[A\n",
      "\n",
      "\n",
      "Playing matches: 100%|██████████| 3/3 [00:07<00:00,  2.56s/it]\u001b[A\u001b[A\u001b[A\n",
      "\n",
      "\n",
      "Analysing:   0%|          | 0/25 [00:00<?, ?it/s]\u001b[A\u001b[A\u001b[A\n",
      "\n",
      "\n",
      "Analysing:   4%|▍         | 1/25 [00:00<00:05,  4.54it/s]\u001b[A\u001b[A\u001b[A\n",
      "\n",
      "\n",
      "Analysing: 100%|██████████| 25/25 [00:00<00:00, 90.34it/s]\u001b[A\u001b[A\u001b[A"
     ]
    },
    {
     "name": "stdout",
     "output_type": "stream",
     "text": [
      "[Player(Rank=0, Name='ZD-Extort3: 0.07142857142857142, 0.3333333333333333, 1', Median_score=2.54835, Cooperation_rating=0.29962, Wins=1.0, Initial_C_rate=1.0, CC_rate=0.1498, CD_rate=0.14982, DC_rate=0.35129, DD_rate=0.34909, CC_to_C_rate=0.9082654560021365, CD_to_C_rate=0.6940328394072888, DC_to_C_rate=0.16940466361073941, DD_to_C_rate=0),\n",
      " Player(Rank=1, Name='Random: 0.5', Median_score=1.5446499999999999, Cooperation_rating=0.50109, Wins=0.0, Initial_C_rate=0.6, CC_rate=0.1498, CD_rate=0.35129, DC_rate=0.14982, DD_rate=0.34909, CC_to_C_rate=0.49859794365068766, CD_to_C_rate=0.5028044301454887, DC_to_C_rate=0.5082765985849687, DD_to_C_rate=0.4973214541495975)]\n"
     ]
    },
    {
     "data": {
      "image/png": "[encoded data removed]",
      "text/plain": [
       "<Figure size 864x432 with 1 Axes>"
      ]
     },
     "metadata": {
      "needs_background": "light"
     },
     "output_type": "display_data"
    }
   ],
   "source": [
    "players = [axl.ZDExtort3(phi=1/14),axl.Random(0.5)]\n",
    "tournament = axl.Tournament(players,turns = 10000,repetitions=10)\n",
    "results = tournament.play()\n",
    "summary = results.summarise()\n",
    "plot = axl.Plot(results)\n",
    "p2 = plot.boxplot()\n",
    "p2.show()\n",
    "pprint.pprint(summary)"
   ]
  },
  {
   "cell_type": "code",
   "execution_count": 126,
   "metadata": {},
   "outputs": [
    {
     "name": "stderr",
     "output_type": "stream",
     "text": [
      "\n",
      "\n",
      "\n",
      "Playing matches:   0%|          | 0/3 [00:00<?, ?it/s]\u001b[A\u001b[A\u001b[A\n",
      "\n",
      "\n",
      "Playing matches:  33%|███▎      | 1/3 [00:02<00:05,  2.69s/it]\u001b[A\u001b[A\u001b[A\n",
      "\n",
      "\n",
      "Playing matches:  67%|██████▋   | 2/3 [00:05<00:02,  2.60s/it]\u001b[A\u001b[A\u001b[A\n",
      "\n",
      "\n",
      "Playing matches: 100%|██████████| 3/3 [00:06<00:00,  2.24s/it]\u001b[A\u001b[A\u001b[A\n",
      "\n",
      "\n",
      "Analysing:   0%|          | 0/25 [00:00<?, ?it/s]\u001b[A\u001b[A\u001b[A\n",
      "\n",
      "\n",
      "Analysing:   4%|▍         | 1/25 [00:00<00:03,  7.04it/s]\u001b[A\u001b[A\u001b[A\n",
      "\n",
      "\n",
      "Analysing: 100%|██████████| 25/25 [00:00<00:00, 137.39it/s]\u001b[A\u001b[A\u001b[A"
     ]
    },
    {
     "name": "stdout",
     "output_type": "stream",
     "text": [
      "[Player(Rank=0, Name='ZD-Extort3: 0.07142857142857142, 0.3333333333333333, 1', Median_score=1.0013, Cooperation_rating=0.00083, Wins=0.0, Initial_C_rate=1.0, CC_rate=0.00043, CD_rate=0.0004, DC_rate=0.00021, DD_rate=0.99896, CC_to_C_rate=0.8372093023255814, CD_to_C_rate=0.825, DC_to_C_rate=0.19047619047619047, DD_to_C_rate=0),\n",
      " Player(Rank=1, Name='TF1', Median_score=1.0011, Cooperation_rating=0.00064, Wins=0.5, Initial_C_rate=1.0, CC_rate=0.00043, CD_rate=0.00021, DC_rate=0.0004, DD_rate=0.99896, CC_to_C_rate=0.4186046511627907, CD_to_C_rate=0.3333333333333333, DC_to_C_rate=0.475, DD_to_C_rate=0.00010011413010832349)]\n"
     ]
    },
    {
     "data": {
      "image/png": "[encoded data removed]",
      "text/plain": [
       "<Figure size 864x432 with 1 Axes>"
      ]
     },
     "metadata": {
      "needs_background": "light"
     },
     "output_type": "display_data"
    }
   ],
   "source": [
    "players = [axl.ZDExtort3(phi=1/14),axl.TF1()]\n",
    "tournament = axl.Tournament(players,turns = 10000,repetitions=10)\n",
    "results = tournament.play()\n",
    "summary = results.summarise()\n",
    "plot = axl.Plot(results)\n",
    "p2 = plot.boxplot()\n",
    "p2.show()\n",
    "pprint.pprint(summary)"
   ]
  },
  {
   "cell_type": "markdown",
   "metadata": {},
   "source": [
    "### more test on other extortion factor for other stretegies"
   ]
  },
  {
   "cell_type": "code",
   "execution_count": 136,
   "metadata": {},
   "outputs": [
    {
     "name": "stderr",
     "output_type": "stream",
     "text": [
      "\n",
      "\n",
      "\n",
      "Playing matches:   0%|          | 0/3 [00:00<?, ?it/s]\u001b[A\u001b[A\u001b[A\n",
      "\n",
      "\n",
      "Playing matches:  67%|██████▋   | 2/3 [00:00<00:00, 15.86it/s]\u001b[A\u001b[A\u001b[A\n",
      "\n",
      "\n",
      "Playing matches: 100%|██████████| 3/3 [00:00<00:00, 17.82it/s]\u001b[A\u001b[A\u001b[A\n",
      "\n",
      "\n",
      "Analysing:   0%|          | 0/25 [00:00<?, ?it/s]\u001b[A\u001b[A\u001b[A\n",
      "\n",
      "\n",
      "Analysing:   4%|▍         | 1/25 [00:00<00:04,  5.83it/s]\u001b[A\u001b[A\u001b[A\n",
      "\n",
      "\n",
      "Analysing: 100%|██████████| 25/25 [00:00<00:00, 105.67it/s]\u001b[A\u001b[A\u001b[A"
     ]
    },
    {
     "name": "stdout",
     "output_type": "stream",
     "text": [
      "[Player(Rank=0, Name='ZD-Extortion: 0.07142857142857142, 0.1, 1', Median_score=1.011, Cooperation_rating=0.003, Wins=1.0, Initial_C_rate=1.0, CC_rate=0.002, CD_rate=0.001, DC_rate=0.002, DD_rate=0.995, CC_to_C_rate=0.5, CD_to_C_rate=0, DC_to_C_rate=0.5, DD_to_C_rate=0),\n",
      " Player(Rank=1, Name='TF1', Median_score=1.006, Cooperation_rating=0.004, Wins=0.0, Initial_C_rate=1.0, CC_rate=0.002, CD_rate=0.002, DC_rate=0.001, DD_rate=0.995, CC_to_C_rate=0.5, CD_to_C_rate=0, DC_to_C_rate=0, DD_to_C_rate=0.002012072434607646)]\n"
     ]
    },
    {
     "data": {
      "image/png": "[encoded data removed]",
      "text/plain": [
       "<Figure size 864x432 with 1 Axes>"
      ]
     },
     "metadata": {
      "needs_background": "light"
     },
     "output_type": "display_data"
    }
   ],
   "source": [
    "players = [axl.ZDExtortion(phi=1/14),axl.TF1()]\n",
    "tournament = axl.Tournament(players,turns = 1000,repetitions=1)\n",
    "results = tournament.play()\n",
    "summary = results.summarise()\n",
    "plot = axl.Plot(results)\n",
    "p2 = plot.boxplot()\n",
    "p2.show()\n",
    "pprint.pprint(summary)"
   ]
  },
  {
   "cell_type": "code",
   "execution_count": 132,
   "metadata": {},
   "outputs": [
    {
     "name": "stderr",
     "output_type": "stream",
     "text": [
      "\n",
      "\n",
      "\n",
      "Playing matches:   0%|          | 0/3 [00:00<?, ?it/s]\u001b[A\u001b[A\u001b[A\n",
      "\n",
      "\n",
      "Playing matches: 100%|██████████| 3/3 [00:00<00:00, 78.68it/s]\u001b[A\u001b[A\u001b[A\n",
      "\n",
      "\n",
      "Analysing:   0%|          | 0/25 [00:00<?, ?it/s]\u001b[A\u001b[A\u001b[A/home/guangya/anaconda3/lib/python3.7/site-packages/dask/dataframe/utils.py:411: FutureWarning: the 'labels' keyword is deprecated, use 'codes' instead\n",
      "  return pd.MultiIndex(levels=levels, labels=labels, names=idx.names)\n",
      "\n",
      "\n",
      "\n",
      "Analysing:   4%|▍         | 1/25 [00:00<00:05,  4.77it/s]\u001b[A\u001b[A\u001b[A\n",
      "\n",
      "\n",
      "Analysing: 100%|██████████| 25/25 [00:00<00:00, 112.40it/s]\u001b[A\u001b[A\u001b[A/home/guangya/anaconda3/lib/python3.7/site-packages/matplotlib/figure.py:457: UserWarning: matplotlib is currently using a non-GUI backend, so cannot show the figure\n",
      "  \"matplotlib is currently using a non-GUI backend, \"\n"
     ]
    },
    {
     "name": "stdout",
     "output_type": "stream",
     "text": [
      "[Player(Rank=0, Name='Random: 0.5', Median_score=3.333333333333333, Cooperation_rating=0.5333333333333333, Wins=1.0, Initial_C_rate=0.5, CC_rate=0.43333333333333335, CD_rate=0.1, DC_rate=0.4, DD_rate=0.06666666666666667, CC_to_C_rate=0.625, CD_to_C_rate=0, DC_to_C_rate=0.5454545454545454, DD_to_C_rate=0),\n",
      " Player(Rank=1, Name='ZD-Extortion: 0.07142857142857142, 0.1, 1', Median_score=2.0, Cooperation_rating=0.8333333333333334, Wins=0.0, Initial_C_rate=1.0, CC_rate=0.43333333333333335, CD_rate=0.4, DC_rate=0.1, DD_rate=0.06666666666666667, CC_to_C_rate=0.875, CD_to_C_rate=0.7272727272727273, DC_to_C_rate=0, DD_to_C_rate=0)]\n"
     ]
    },
    {
     "data": {
      "image/png": "[encoded data removed]",
      "text/plain": [
       "<Figure size 864x432 with 1 Axes>"
      ]
     },
     "metadata": {
      "needs_background": "light"
     },
     "output_type": "display_data"
    }
   ],
   "source": [
    "players = [axl.ZDExtortion(phi=1/14),axl.Random(0.5)]\n",
    "tournament = axl.Tournament(players,turns = 10000,repetitions=10)\n",
    "results = tournament.play()\n",
    "summary = results.summarise()\n",
    "plot = axl.Plot(results)\n",
    "p2 = plot.boxplot()\n",
    "p2.show()\n",
    "pprint.pprint(summary)"
   ]
  },
  {
   "cell_type": "markdown",
   "metadata": {},
   "source": [
    "### More experiments on phi"
   ]
  },
  {
   "cell_type": "code",
   "execution_count": 137,
   "metadata": {},
   "outputs": [
    {
     "name": "stderr",
     "output_type": "stream",
     "text": [
      "\n",
      "\n",
      "\n",
      "Playing matches:   0%|          | 0/3 [00:00<?, ?it/s]\u001b[A\u001b[A\u001b[A\n",
      "\n",
      "\n",
      "Playing matches:  33%|███▎      | 1/3 [00:02<00:05,  2.74s/it]\u001b[A\u001b[A\u001b[A\n",
      "\n",
      "\n",
      "Playing matches:  67%|██████▋   | 2/3 [00:05<00:02,  2.73s/it]\u001b[A\u001b[A\u001b[A\n",
      "\n",
      "\n",
      "Playing matches: 100%|██████████| 3/3 [00:07<00:00,  2.64s/it]\u001b[A\u001b[A\u001b[A\n",
      "\n",
      "\n",
      "Analysing:   0%|          | 0/25 [00:00<?, ?it/s]\u001b[A\u001b[A\u001b[A\n",
      "\n",
      "\n",
      "Analysing:   4%|▍         | 1/25 [00:00<00:03,  6.78it/s]\u001b[A\u001b[A\u001b[A\n",
      "\n",
      "\n",
      "Analysing: 100%|██████████| 25/25 [00:00<00:00, 159.00it/s]\u001b[A\u001b[A\u001b[A"
     ]
    },
    {
     "name": "stdout",
     "output_type": "stream",
     "text": [
      "[Player(Rank=0, Name='Random: 0.5', Median_score=4.0098, Cooperation_rating=0.4971, Wins=1.0, Initial_C_rate=0.6, CC_rate=0.4971, CD_rate=0.0, DC_rate=0.5029, DD_rate=0.0, CC_to_C_rate=0.49656962356397, CD_to_C_rate=0, DC_to_C_rate=0.4976037544494601, DD_to_C_rate=0),\n",
      " Player(Rank=1, Name='ZD-Extort3: 1e-06, 0.3333333333333333, 1', Median_score=1.4853, Cooperation_rating=1.0, Wins=0.0, Initial_C_rate=1.0, CC_rate=0.4971, CD_rate=0.5029, DC_rate=0.0, DD_rate=0.0, CC_to_C_rate=1.0, CD_to_C_rate=1.0, DC_to_C_rate=0, DD_to_C_rate=0)]\n"
     ]
    },
    {
     "data": {
      "image/png": "[encoded data removed]",
      "text/plain": [
       "<Figure size 864x432 with 1 Axes>"
      ]
     },
     "metadata": {
      "needs_background": "light"
     },
     "output_type": "display_data"
    }
   ],
   "source": [
    "players = [axl.ZDExtort3(phi=1/1000000),axl.Random(0.5)]\n",
    "tournament = axl.Tournament(players,turns = 10000,repetitions=10)\n",
    "results = tournament.play()\n",
    "summary = results.summarise()\n",
    "plot = axl.Plot(results)\n",
    "p2 = plot.boxplot()\n",
    "p2.show()\n",
    "pprint.pprint(summary)"
   ]
  },
  {
   "cell_type": "code",
   "execution_count": 138,
   "metadata": {},
   "outputs": [
    {
     "name": "stderr",
     "output_type": "stream",
     "text": [
      "\n",
      "\n",
      "\n",
      "Playing matches:   0%|          | 0/3 [00:00<?, ?it/s]\u001b[A\u001b[A\u001b[A\n",
      "\n",
      "\n",
      "Playing matches:  33%|███▎      | 1/3 [00:02<00:05,  2.75s/it]\u001b[A\u001b[A\u001b[A\n",
      "\n",
      "\n",
      "Playing matches:  67%|██████▋   | 2/3 [00:05<00:02,  2.68s/it]\u001b[A\u001b[A\u001b[A\n",
      "\n",
      "\n",
      "Playing matches: 100%|██████████| 3/3 [00:07<00:00,  2.56s/it]\u001b[A\u001b[A\u001b[A\n",
      "\n",
      "\n",
      "Analysing:   0%|          | 0/25 [00:00<?, ?it/s]\u001b[A\u001b[A\u001b[A\n",
      "\n",
      "\n",
      "Analysing:   4%|▍         | 1/25 [00:00<00:03,  6.78it/s]\u001b[A\u001b[A\u001b[A\n",
      "\n",
      "\n",
      "Analysing: 100%|██████████| 25/25 [00:00<00:00, 132.83it/s]\u001b[A\u001b[A\u001b[A"
     ]
    },
    {
     "name": "stdout",
     "output_type": "stream",
     "text": [
      "[Player(Rank=0, Name='ZD-Extort3: 0.14285714285714285, 0.3333333333333333, 1', Median_score=2.5606999999999998, Cooperation_rating=0.28593, Wins=1.0, Initial_C_rate=1.0, CC_rate=0.1426, CD_rate=0.14333, DC_rate=0.35469, DD_rate=0.35938, CC_to_C_rate=0.8042365153959459, CD_to_C_rate=0.3779653921295004, DC_to_C_rate=0.3299027209925278, DD_to_C_rate=0),\n",
      " Player(Rank=1, Name='Random: 0.5', Median_score=1.505, Cooperation_rating=0.49729, Wins=0.0, Initial_C_rate=0.3, CC_rate=0.1426, CD_rate=0.35469, DC_rate=0.14333, DD_rate=0.35938, CC_to_C_rate=0.5037525426106474, CD_to_C_rate=0.4998731143380798, DC_to_C_rate=0.49253418922690484, DD_to_C_rate=0.4941284505788068)]\n"
     ]
    },
    {
     "data": {
      "image/png": "[encoded data removed]",
      "text/plain": [
       "<Figure size 864x432 with 1 Axes>"
      ]
     },
     "metadata": {
      "needs_background": "light"
     },
     "output_type": "display_data"
    }
   ],
   "source": [
    "players = [axl.ZDExtort3(phi=1/7),axl.Random(0.5)]\n",
    "tournament = axl.Tournament(players,turns = 10000,repetitions=10)\n",
    "results = tournament.play()\n",
    "summary = results.summarise()\n",
    "plot = axl.Plot(results)\n",
    "p2 = plot.boxplot()\n",
    "p2.show()\n",
    "pprint.pprint(summary)"
   ]
  },
  {
   "cell_type": "code",
   "execution_count": 139,
   "metadata": {},
   "outputs": [
    {
     "name": "stderr",
     "output_type": "stream",
     "text": [
      "\n",
      "\n",
      "\n",
      "Playing matches:   0%|          | 0/3 [00:00<?, ?it/s]\u001b[A\u001b[A\u001b[A\n",
      "\n",
      "\n",
      "Playing matches:  33%|███▎      | 1/3 [00:02<00:05,  2.79s/it]\u001b[A\u001b[A\u001b[A\n",
      "\n",
      "\n",
      "Playing matches:  67%|██████▋   | 2/3 [00:05<00:02,  2.66s/it]\u001b[A\u001b[A\u001b[A\n",
      "\n",
      "\n",
      "Playing matches: 100%|██████████| 3/3 [00:06<00:00,  2.25s/it]\u001b[A\u001b[A\u001b[A\n",
      "\n",
      "\n",
      "Analysing:   0%|          | 0/25 [00:00<?, ?it/s]\u001b[A\u001b[A\u001b[A\n",
      "\n",
      "\n",
      "Analysing:   4%|▍         | 1/25 [00:00<00:03,  7.27it/s]\u001b[A\u001b[A\u001b[A\n",
      "\n",
      "\n",
      "Analysing: 100%|██████████| 25/25 [00:00<00:00, 139.36it/s]\u001b[A\u001b[A\u001b[A"
     ]
    },
    {
     "name": "stdout",
     "output_type": "stream",
     "text": [
      "[Player(Rank=0, Name='ZD-Extort3: 0.14285714285714285, 0.3333333333333333, 1', Median_score=1.00115, Cooperation_rating=0.00033, Wins=1.0, Initial_C_rate=1.0, CC_rate=0.00024, CD_rate=9e-05, DC_rate=0.00022, DD_rate=0.99945, CC_to_C_rate=0.75, CD_to_C_rate=0.2222222222222222, DC_to_C_rate=0.13636363636363635, DD_to_C_rate=0),\n",
      " Player(Rank=1, Name='TF1', Median_score=1.00055, Cooperation_rating=0.00046, Wins=0.0, Initial_C_rate=1.0, CC_rate=0.00024, CD_rate=0.00022, DC_rate=9e-05, DD_rate=0.99945, CC_to_C_rate=0.4583333333333333, CD_to_C_rate=0.4090909090909091, DC_to_C_rate=0.5555555555555556, DD_to_C_rate=0.0001100715465052284)]\n"
     ]
    },
    {
     "data": {
      "image/png": "[encoded data removed]",
      "text/plain": [
       "<Figure size 864x432 with 1 Axes>"
      ]
     },
     "metadata": {
      "needs_background": "light"
     },
     "output_type": "display_data"
    }
   ],
   "source": [
    "players = [axl.ZDExtort3(phi=1/7),axl.TF1()]\n",
    "tournament = axl.Tournament(players,turns = 10000,repetitions=10)\n",
    "results = tournament.play()\n",
    "summary = results.summarise()\n",
    "plot = axl.Plot(results)\n",
    "p2 = plot.boxplot()\n",
    "p2.show()\n",
    "pprint.pprint(summary)"
   ]
  },
  {
   "cell_type": "code",
   "execution_count": 140,
   "metadata": {},
   "outputs": [
    {
     "name": "stderr",
     "output_type": "stream",
     "text": [
      "\n",
      "\n",
      "\n",
      "Playing matches:   0%|          | 0/3 [00:00<?, ?it/s]\u001b[A\u001b[A\u001b[A\n",
      "\n",
      "\n",
      "Playing matches:  33%|███▎      | 1/3 [00:02<00:04,  2.45s/it]\u001b[A\u001b[A\u001b[A\n",
      "\n",
      "\n",
      "Playing matches:  67%|██████▋   | 2/3 [00:05<00:02,  2.55s/it]\u001b[A\u001b[A\u001b[A\n",
      "\n",
      "\n",
      "Playing matches: 100%|██████████| 3/3 [00:06<00:00,  2.21s/it]\u001b[A\u001b[A\u001b[A\n",
      "\n",
      "\n",
      "Analysing:   0%|          | 0/25 [00:00<?, ?it/s]\u001b[A\u001b[A\u001b[A\n",
      "\n",
      "\n",
      "Analysing:   4%|▍         | 1/25 [00:00<00:03,  7.26it/s]\u001b[A\u001b[A\u001b[A\n",
      "\n",
      "\n",
      "Analysing: 100%|██████████| 25/25 [00:00<00:00, 167.53it/s]\u001b[A\u001b[A\u001b[A"
     ]
    },
    {
     "name": "stdout",
     "output_type": "stream",
     "text": [
      "[Player(Rank=0, Name='TF1', Median_score=3.9998, Cooperation_rating=0.5001, Wins=1.0, Initial_C_rate=1.0, CC_rate=0.5001, CD_rate=0.0, DC_rate=0.4999, DD_rate=0.0, CC_to_C_rate=0.3334, CD_to_C_rate=0, DC_to_C_rate=0.6667333466693338, DD_to_C_rate=0),\n",
      " Player(Rank=1, Name='ZD-Extort3: 1e-05, 0.3333333333333333, 1', Median_score=1.5003, Cooperation_rating=1.0, Wins=0.0, Initial_C_rate=1.0, CC_rate=0.5001, CD_rate=0.4999, DC_rate=0.0, DD_rate=0.0, CC_to_C_rate=1.0, CD_to_C_rate=1.0, DC_to_C_rate=0, DD_to_C_rate=0)]\n"
     ]
    },
    {
     "data": {
      "image/png": "[encoded data removed]",
      "text/plain": [
       "<Figure size 864x432 with 1 Axes>"
      ]
     },
     "metadata": {
      "needs_background": "light"
     },
     "output_type": "display_data"
    }
   ],
   "source": [
    "players = [axl.ZDExtort3(phi=1/100000),axl.TF1()]\n",
    "tournament = axl.Tournament(players,turns = 10000,repetitions=10)\n",
    "results = tournament.play()\n",
    "summary = results.summarise()\n",
    "plot = axl.Plot(results)\n",
    "p2 = plot.boxplot()\n",
    "p2.show()\n",
    "pprint.pprint(summary)"
   ]
  },
  {
   "cell_type": "code",
   "execution_count": 133,
   "metadata": {},
   "outputs": [
    {
     "data": {
      "text/plain": [
       "[[3, 11, 9, 2, 0, 8, 8, 3, 6, 6], [13, 6, 9, 7, 15, 8, 8, 13, 11, 11]]"
      ]
     },
     "execution_count": 133,
     "metadata": {},
     "output_type": "execute_result"
    }
   ],
   "source": []
  },
  {
   "cell_type": "markdown",
   "metadata": {},
   "source": [
    "### Conclusion from experiments :"
   ]
  }
 ],
 "metadata": {
  "kernelspec": {
   "display_name": "Python 3",
   "language": "python",
   "name": "python3"
  },
  "language_info": {
   "codemirror_mode": {
    "name": "ipython",
    "version": 3
   },
   "file_extension": ".py",
   "mimetype": "text/x-python",
   "name": "python",
   "nbconvert_exporter": "python",
   "pygments_lexer": "ipython3",
   "version": "3.7.2"
  }
 },
 "nbformat": 4,
 "nbformat_minor": 2
}
