{
 "cells": [
  {
   "cell_type": "code",
   "execution_count": null,
   "metadata": {},
   "outputs": [
    {
     "name": "stdin",
     "output_type": "stream",
     "text": [
      " 3\n",
      " machine learning\n",
      " Artificial\n",
      " computer science\n",
      " machine architecture\n",
      " system program\n",
      " software engineer\n",
      " machine level\n",
      " reinforcement learning\n",
      " higher level\n",
      " data base\n",
      " database\n",
      " data analysis datascience\n",
      " lol\n",
      " \n"
     ]
    }
   ],
   "source": [
    "a = {}\n",
    "a['data'] = []\n",
    "x = input()\n",
    "a['sup'] = int(x)\n",
    "while True:\n",
    "    try:\n",
    "        a['data'].append(input())\n",
    "    except EOFError:\n",
    "        break\n",
    "for i in range(len(a['data'])):\n",
    "    a['data'][i] = a['data'][i].split(' ')\n",
    "def createC1(dataSet):\n",
    "    C1 = []\n",
    "    for transaction in dataSet:\n",
    "        for item in transaction:\n",
    "            if not [item] in C1:\n",
    "                C1.append([item])\n",
    "                \n",
    "    C1.sort()\n",
    "    return list(map(frozenset, C1))\n",
    "def scanD(D, Ck, minSupport):\n",
    "    ssCnt = {}\n",
    "    for tid in D:\n",
    "        for can in Ck:\n",
    "            if can.issubset(tid):\n",
    "                if not can in ssCnt: ssCnt[can]=1\n",
    "                else: ssCnt[can] += 1\n",
    "    numItems = float(len(D))\n",
    "    retList = []\n",
    "    supportData = {}\n",
    "    for key in ssCnt:\n",
    "        support = ssCnt[key]/numItems\n",
    "        if support >= minSupport:\n",
    "            retList.insert(0,key)\n",
    "        supportData[key] = support\n",
    "    return retList, supportData\n",
    "def aprioriGen(Lk, k): #creates Ck\n",
    "    retList = []\n",
    "    lenLk = len(Lk)\n",
    "    for i in range(lenLk):\n",
    "        for j in range(i+1, lenLk): \n",
    "            L1 = list(Lk[i])[:k-2]; L2 = list(Lk[j])[:k-2]\n",
    "            L1.sort(); L2.sort()\n",
    "            if L1==L2: #if first k-2 elements are equal\n",
    "                retList.append(Lk[i] | Lk[j]) #set union\n",
    "    return retList\n",
    "def apriori(dataSet, minSupport):\n",
    "    C1 = createC1(dataSet)\n",
    "    D = list(map(set, dataSet))\n",
    "    L1, supportData = scanD(D, C1, minSupport)\n",
    "    L = [L1]\n",
    "    k = 2\n",
    "    while (len(L[k-2]) > 0):\n",
    "        Ck = aprioriGen(L[k-2], k)\n",
    "        Lk, supK = scanD(D, Ck, minSupport)#scan DB to get Lk\n",
    "        supportData.update(supK)\n",
    "        L.append(Lk)\n",
    "        k += 1\n",
    "    return L, supportData\n",
    "result,count_dict = apriori(a['data'] , a['sup'] / len(a['data']))\n",
    "# print(sorted(count_dict.items(),key=lambda x: (-x[1], list(x[0]))))\n",
    "for k in count_dict.keys():\n",
    "    new_key = frozenset(set(k))\n",
    "    count_dict[new_key] = count_dict.pop(k)\n",
    "result_dict = {}\n",
    "for k,v in count_dict.items():\n",
    "    if(v >= a['sup'] / len(a['data'])):\n",
    "        kn = ' '.join(sorted(list(k)))\n",
    "        result_dict[kn] = v\n",
    "output_1 = sorted(result_dict.items(),key=lambda x: (-x[1], x[0]))\n",
    "for i in range(len(output_1)):\n",
    "    if(i == len(output_1) - 1):\n",
    "        print(int(output_1[i][1] * len(a['data'])),'[' + output_1[i][0]+ ']')\n",
    "    else:\n",
    "        print(int(output_1[i][1] * len(a['data'])),'[' + output_1[i][0]+ ']')\n",
    "track_v = []\n",
    "print()\n",
    "def sublist(lst1, lst2):\n",
    "    ls1 = [element for element in lst1 if element in lst2]\n",
    "    ls2 = [element for element in lst2 if element in lst1] \n",
    "    return ls1 == ls2 and (len(ls1) == len(lst1) or len(ls1) == len(lst2))\n",
    "max_output = []\n",
    "for output in (output_1):\n",
    "    if(len(track_v) == 0):\n",
    "        track_v.append(output)\n",
    "    elif((output[1]) not in (track_v[0])):\n",
    "        for t in track_v:\n",
    "            max_output.append(t)\n",
    "            print(int(t[1] * len(a['data'])),'[' +t[0]+ ']')\n",
    "        track_v.clear()\n",
    "        track_v.append(output)\n",
    "    else:\n",
    "        temp = 1\n",
    "        for i in range(len(track_v)):\n",
    "            if(sublist(track_v[i][0].split(),output[0].split())):\n",
    "                if(len(output[0].split()) > len(track_v[i][0].split())):\n",
    "                    track_v[i] = output\n",
    "                temp = 0\n",
    "        if(temp == 1):\n",
    "            track_v.append(output)\n",
    "\n",
    "for i in range(len(track_v)):\n",
    "    max_output.append(track_v[i])\n",
    "    if(i == len(track_v) - 1):\n",
    "        print(int(track_v[i][1] * len(a['data'])),'[' +track_v[i][0] + ']')\n",
    "    else:\n",
    "        print(int(track_v[i][1] * len(a['data'])),'[' +track_v[i][0] + ']')\n",
    "print()\n",
    "for i in range(len(max_output)):\n",
    "    foo = True\n",
    "    for j in range(len(max_output)):\n",
    "        if(sublist(max_output[i][0].split(),max_output[j][0].split())):\n",
    "            if(len(max_output[i][0].split()) < len(max_output[j][0].split())):\n",
    "                foo = False\n",
    "    if(foo):\n",
    "        print(int(max_output[i][1] * len(a['data'])),'[' + [max_output[i][0]][0] + ']')\n",
    "    \n"
   ]
  },
  {
   "cell_type": "code",
   "execution_count": 1,
   "metadata": {},
   "outputs": [],
   "source": [
    "import numpy as np\n",
    "def gini2(p1,p2):\n",
    "    return 1 - p1**2 - p2**2\n",
    "def ginid(p1,p2,p11,p12,p21,p22):\n",
    "    return (p1 * gini2(p11,p12) + p2 * gini2(p21,p22))\n",
    "def info(p1,p2):\n",
    "    if(p1 == 0):\n",
    "        return - p2*np.log2(p2)\n",
    "    elif (p2 == 0):\n",
    "        return - p1*np.log2(p1)\n",
    "    else:\n",
    "        return -p1 * np.log2(p1) - p2*np.log2(p2)\n",
    "def info3(p1,p2,p3,p11,p12,p21,p22,p31,p32):\n",
    "    return (p1 * info(p11,p12) + p2 * info(p21,p22) +p3 * info(p31,p32))\n",
    "def info2(p1,p2,p11,p12,p21,p22):\n",
    "    return (p1 * info(p11,p12) + p2 * info(p21,p22))\n",
    "def nb(pc,pxc):\n",
    "    result = 1\n",
    "    for i in pxc:\n",
    "        result *= i\n",
    "    return result * pc\n"
   ]
  },
  {
   "cell_type": "code",
   "execution_count": 3,
   "metadata": {},
   "outputs": [
    {
     "data": {
      "text/plain": [
       "0.4428571428571429"
      ]
     },
     "execution_count": 3,
     "metadata": {},
     "output_type": "execute_result"
    }
   ],
   "source": [
    "ginid(10/14,4/14,7/10,3/10,2/4,2/4)"
   ]
  },
  {
   "cell_type": "code",
   "execution_count": 13,
   "metadata": {},
   "outputs": [
    {
     "data": {
      "text/plain": [
       "0.8754887502163469"
      ]
     },
     "execution_count": 13,
     "metadata": {},
     "output_type": "execute_result"
    }
   ],
   "source": [
    "info3(/10,4/10,3/10,1/3,2/3,3/4,1/4,2/3,1/3)"
   ]
  },
  {
   "cell_type": "code",
   "execution_count": 6,
   "metadata": {},
   "outputs": [
    {
     "data": {
      "text/plain": [
       "0.006857142857142858"
      ]
     },
     "execution_count": 6,
     "metadata": {},
     "output_type": "execute_result"
    }
   ],
   "source": [
    "nb(5/14,[0.6,0.4,0.2,0.4])"
   ]
  },
  {
   "cell_type": "code",
   "execution_count": 14,
   "metadata": {},
   "outputs": [
    {
     "data": {
      "text/plain": [
       "0.8464393446710154"
      ]
     },
     "execution_count": 14,
     "metadata": {},
     "output_type": "execute_result"
    }
   ],
   "source": [
    "info2(5/10,5/10,2/5,3/5,4/5,1/5)"
   ]
  },
  {
   "cell_type": "code",
   "execution_count": 15,
   "metadata": {},
   "outputs": [
    {
     "data": {
      "text/plain": [
       "0.3999999999999999"
      ]
     },
     "execution_count": 15,
     "metadata": {},
     "output_type": "execute_result"
    }
   ],
   "source": [
    "ginid(5/10,5/10,2/5,3/5,4/5,1/5)"
   ]
  },
  {
   "cell_type": "code",
   "execution_count": null,
   "metadata": {},
   "outputs": [],
   "source": []
  }
 ],
 "metadata": {
  "kernelspec": {
   "display_name": "Python 3",
   "language": "python",
   "name": "python3"
  },
  "language_info": {
   "codemirror_mode": {
    "name": "ipython",
    "version": 3
   },
   "file_extension": ".py",
   "mimetype": "text/x-python",
   "name": "python",
   "nbconvert_exporter": "python",
   "pygments_lexer": "ipython3",
   "version": "3.7.2"
  }
 },
 "nbformat": 4,
 "nbformat_minor": 2
}
