{
  "cells": [
    {
      "metadata": {},
      "cell_type": "markdown",
      "source": "#   `lesson02`:  Image Processing I"
    },
    {
      "metadata": {},
      "cell_type": "markdown",
      "source": "Most of the Python processing you have done before now has probably consisted of plain-text and numerical data.  Visual and signal data are often accessed as images.  If you want to build a computer process around images, then you need a standardized way of storing and cleaning data, identifying features, and applying transformations.\n\n**Objectives:**\n-   Distinguish image formats and data structures, including color and greyscale representations.\n-   Manipulate image\n-   **Process images through a standardized pipeline for image analysis.**\n-   Identify image features such as bones and tumors.\n\n\nThis lesson is divided into two parts:\n\n1.  **(Class)**  We will cover the structure and format of image data and common features and statistics.\n2.  **(Team)**  You will fill out a basic image processing workflow using MRI brain scan data."
    },
    {
      "metadata": {
        "trusted": true
      },
      "cell_type": "code",
      "source": "# necessary for Azure due to NumPy 1.16 deprecations.\n!pip install --upgrade scikit-image==0.14.2 numpy==1.15.4",
      "execution_count": null,
      "outputs": []
    },
    {
      "metadata": {
        "trusted": true
      },
      "cell_type": "code",
      "source": "#   Some library boilerplate.\nimport numpy as np\nimport matplotlib.pyplot as plt\nfrom skimage import data,io,filters,exposure\nimport skimage",
      "execution_count": null,
      "outputs": []
    },
    {
      "metadata": {},
      "cell_type": "markdown",
      "source": "##  Image Data"
    },
    {
      "metadata": {},
      "cell_type": "markdown",
      "source": "A picture, in the real world, is a two-dimensional representation of something.  That _something_ can be three-dimensional or itself flat.\n\n<img src=\"https://whitehotmagazine.com//UserFiles/image/2012/Buckminster%20Fuller/Fuller_LaminarGeodesic.jpg\" width=\"75%;\" alt=\"Buckminster Fuller's _Laminar Geodesic Dome_\"/>\n\nSince computer screens are flat, we frequently interact with data as pictures rather than something more volumentric.\n\n<img src=\"https://i.kinja-img.com/gawker-media/image/upload/s--K2mqoGa6--/c_scale,f_auto,fl_progressive,q_80,w_800/aflxtfyesukzvfd5abnl.png\" width=\"75%;\" alt=\"Princess Leia as a space-occupying hologram.\"/>\n\nA computer screen is a grid of square pixels.  Each pixel is capable of displaying itself in one of about 16 million colors.\n\nOne can imagine storing a picture on a computer in a number of ways:  the actual location and value of each pixel (bitmaps); the path taken by a pen to redraw the image (vector graphics); or a decompression algorithm from numbers to a graphic (JPEG/PNG).  Image-processing libraries take care of that transformation for us and present an image as a collection of values in a grid corresponding to the pixels."
    },
    {
      "metadata": {},
      "cell_type": "markdown",
      "source": "To start off, let's load a simple black-and-white image.  We will use the [_scikit-image_](https://scikit-image.org/) package to handle the file.\n\n<img src=\"./img/buckminster-fuller-geodesic-tensegrity-sphere_bw.png\">"
    },
    {
      "metadata": {
        "trusted": true
      },
      "cell_type": "code",
      "source": "image_bw_path = './img/buckminster-fuller-geodesic-tensegrity-sphere_bw.png'\nimage_bw = io.imread( image_bw_path )",
      "execution_count": null,
      "outputs": []
    },
    {
      "metadata": {},
      "cell_type": "markdown",
      "source": "Examine the output of this image.  Look at its data type, its size and shape, and the values in it.  (How can you use NumPy to find these out?)"
    },
    {
      "metadata": {
        "trusted": true
      },
      "cell_type": "code",
      "source": "image_bw",
      "execution_count": null,
      "outputs": []
    },
    {
      "metadata": {
        "trusted": true
      },
      "cell_type": "code",
      "source": "",
      "execution_count": null,
      "outputs": []
    },
    {
      "metadata": {
        "trusted": true
      },
      "cell_type": "code",
      "source": "",
      "execution_count": null,
      "outputs": []
    },
    {
      "metadata": {
        "trusted": true
      },
      "cell_type": "code",
      "source": "",
      "execution_count": null,
      "outputs": []
    },
    {
      "metadata": {},
      "cell_type": "markdown",
      "source": "What do you see?  What is the range of values?\n\nBlack-and-white images are straightforward in that only two values need to be stored, typically `0` and `1` or `0` and `255`.  (More on why `255` below.)"
    },
    {
      "metadata": {},
      "cell_type": "markdown",
      "source": "Let's look at a grayscale image now, something with more variation.\n\n<img src=\"./img/buckminster-fuller-geodesic-tensegrity-sphere_gray.png\">\n\nIt looks very similar, but in fact has gray elements instead of just black ones."
    },
    {
      "metadata": {
        "trusted": true
      },
      "cell_type": "code",
      "source": "image_gray_path = './img/buckminster-fuller-geodesic-tensegrity-sphere_gray.png'\n# load the image as image_gray",
      "execution_count": null,
      "outputs": []
    },
    {
      "metadata": {
        "trusted": true
      },
      "cell_type": "code",
      "source": "image_gray = _____",
      "execution_count": null,
      "outputs": []
    },
    {
      "metadata": {},
      "cell_type": "markdown",
      "source": "Once again, what is the range of values, the shape, etc.?"
    },
    {
      "metadata": {
        "trusted": true
      },
      "cell_type": "code",
      "source": "",
      "execution_count": null,
      "outputs": []
    },
    {
      "metadata": {
        "trusted": true
      },
      "cell_type": "code",
      "source": "",
      "execution_count": null,
      "outputs": []
    },
    {
      "metadata": {
        "trusted": true
      },
      "cell_type": "code",
      "source": "",
      "execution_count": null,
      "outputs": []
    },
    {
      "metadata": {},
      "cell_type": "markdown",
      "source": "Before we move in, it's worth considering the tools that we need to successfully analyze an image.  Thus far, you can either show an image as an array:"
    },
    {
      "metadata": {
        "trusted": true
      },
      "cell_type": "code",
      "source": "image_gray",
      "execution_count": null,
      "outputs": []
    },
    {
      "metadata": {},
      "cell_type": "markdown",
      "source": "or you can display it as an image again:"
    },
    {
      "metadata": {
        "trusted": true
      },
      "cell_type": "code",
      "source": "io.imshow( image_bw )",
      "execution_count": null,
      "outputs": []
    },
    {
      "metadata": {
        "trusted": true
      },
      "cell_type": "code",
      "source": "io.imshow( image_gray )",
      "execution_count": null,
      "outputs": []
    },
    {
      "metadata": {},
      "cell_type": "markdown",
      "source": "### Image Statistics"
    },
    {
      "metadata": {},
      "cell_type": "markdown",
      "source": "If the human eye fails to pick out features, however, you risk missing key elements of the image.  To offset this risk, we can use image statistics to obtain a more fully-faceted idea of what the picture contains.\n\nThe first of these is the _histogram_.  Histograms, as you'll recall, count up the number of times something occurs.  For instance, for a class, the grade distribution of As, Bs, etc., is a histogram.  For an image, a histogram can describe the color distribution of pixels."
    },
    {
      "metadata": {
        "trusted": true
      },
      "cell_type": "code",
      "source": "# Get the histogram of the black-and-white image.\nhist_bw,hist_centers_bw = exposure.histogram( image_bw )\n\n# Get the histogram of the grayscale image.\nhist_gray,hist_centers_gray = exposure.histogram( image_gray )\n\nfig,ax = plt.subplots( ncols=2,figsize=( 10,8 ) )\n\nax[ 0 ].plot( hist_centers_bw,hist_bw,lw=1 )\nax[ 0 ].set_title( 'B&W' )\nax[ 1 ].plot( hist_centers_gray,hist_gray,lw=1 )\nax[ 1 ].set_title( 'Grayscale' )\n\nplt.show()",
      "execution_count": null,
      "outputs": []
    },
    {
      "metadata": {},
      "cell_type": "markdown",
      "source": "It's subtle, but you can see that the image on the left has sharp peaks at black (`0`) and white (`255`), while the image on the right has soften peaks and some fuzziness along the line, indicating the presence of a few gray pixels at intermediate values."
    },
    {
      "metadata": {},
      "cell_type": "markdown",
      "source": "Other images would, of course, have different histograms:"
    },
    {
      "metadata": {
        "trusted": true
      },
      "cell_type": "code",
      "source": "image_hist_path = './img/ansel-adams-moon-and-half-dome.jpg'\nimage_hist = io.imread( image_hist_path,as_gray=True )\n\nhist_,hist_centers_ = exposure.histogram( image_hist )\n\nfig,ax = plt.subplots( ncols=2,figsize=( 10,4 ) )\n\nax[ 0 ].imshow( image_hist,cmap='Greys_r' )\nax[ 0 ].set_title( 'Source Image' )\nax[ 1 ].plot( hist_centers_,hist_,lw=1 )\nax[ 1 ].set_title( 'Histogram' )\n\nplt.show()",
      "execution_count": null,
      "outputs": []
    },
    {
      "metadata": {},
      "cell_type": "markdown",
      "source": "### Color Images"
    },
    {
      "metadata": {},
      "cell_type": "markdown",
      "source": "If black-and-white and grayscale images are stored as values from `0` to `255`, how do computers deal with color?\n\nComputer screens use _additive color_, or color based on mixing red, green, and blue to produce other colors.\n\n![](https://upload.wikimedia.org/wikipedia/commons/thumb/c/c2/AdditiveColor.svg/145px-AdditiveColor.svg.png)\n\nEach screen pixel is addressed by location and set with a particular value.  This value has [32 bits](https://en.wikipedia.org/wiki/Color_depth#True_color_(24-bit)):  one byte each to describe the amount of red, green, and blue light, and the _alpha_ channel, or transparency of the pixel.  (For a gray pixel, the color values are all set equal and the alpha is set to `255`.)\n\n![](./img/pixel_color.png)\n\nEvery color that can be shown on a typical computer display is represented:\n\n<img src=\"https://upload.wikimedia.org/wikipedia/commons/e/e9/16777216colors.png\" width=\"75%;\" alt=\"A square showing 16 million colors.\"/>\n\n(Of course, the intensity can vary from black to white as well.)\n\nSince there are three colors (ignoring alpha), what shape would you expect a loaded image to have as an array?  Let's check your intuition.\n\n![](./img/mandelbrot-set.png)"
    },
    {
      "metadata": {
        "trusted": true
      },
      "cell_type": "code",
      "source": "image_color_path = './img/mandelbrot-set.png'\n# load the image as image_color",
      "execution_count": null,
      "outputs": []
    },
    {
      "metadata": {
        "trusted": true
      },
      "cell_type": "code",
      "source": "image_color = _____",
      "execution_count": null,
      "outputs": []
    },
    {
      "metadata": {
        "trusted": true
      },
      "cell_type": "code",
      "source": "",
      "execution_count": null,
      "outputs": []
    },
    {
      "metadata": {
        "trusted": true
      },
      "cell_type": "code",
      "source": "",
      "execution_count": null,
      "outputs": []
    },
    {
      "metadata": {},
      "cell_type": "markdown",
      "source": "The image, formerly just a grid, now has a third dimension, which we can think of as three layers.  The top layer corresponds to the redness of the image, the middle to the greenness, the bottom to the blueness.\n\n![](./img/image_layers.png)\n\nWe now have more information about the image than we had before.  For instance, some feature we are interested in may only show up in one color channel, or in all three."
    },
    {
      "metadata": {},
      "cell_type": "markdown",
      "source": "Imagine, for instance, a satellite image.  If you are tracking snowfall or cloud cover, you know that those features are \"white\" and close to equal intensity in all color channels.  Something that is intense in red and green but not blue would appear yellow and may be a desert.\n\n![](./img/satellite-caucasus.jpg)\n\nBy applying rules such as blue only for water and green only for vegetation, you can automate surveys and satellite analysis."
    },
    {
      "metadata": {},
      "cell_type": "markdown",
      "source": "Back to our Mandelbrot set image.\n\n![](./img/mandelbrot-set.png)\n\nIf we plot each color layer and its histogram separately, we can see how the features of the overall image interrelate.\n\nWe do this for red together.  You should also do this for green and blue."
    },
    {
      "metadata": {
        "trusted": true
      },
      "cell_type": "code",
      "source": "image_r = image_color[ :,:,0 ].copy()\nhist_r,hist_centers_r = exposure.histogram( image_r )\n\nfig,ax = plt.subplots( ncols=2,figsize=( 10,4 ) )\n\nax[ 0 ].imshow( image_r,cmap='binary_r' )\nax[ 0 ].set_title( 'Source Image, Red Channel' )\nax[ 1 ].plot( hist_centers_r,hist_r,lw=3 )\nax[ 1 ].set_title( 'Histogram' )\nax[ 1 ].set_ylim( ( 0,256**2 ) )\nax[ 1 ].set_xlim( ( 0,255 ) )\n\nplt.show()",
      "execution_count": null,
      "outputs": []
    },
    {
      "metadata": {
        "trusted": true
      },
      "cell_type": "code",
      "source": "",
      "execution_count": null,
      "outputs": []
    },
    {
      "metadata": {
        "trusted": true
      },
      "cell_type": "code",
      "source": "",
      "execution_count": null,
      "outputs": []
    },
    {
      "metadata": {},
      "cell_type": "markdown",
      "source": "What interesting features do you observe from those histograms?"
    },
    {
      "metadata": {},
      "cell_type": "markdown",
      "source": "We'll revisit color images in `lesson05` when we examine satellite image data.  For now, we'll explore feature identification in grayscale images."
    },
    {
      "metadata": {},
      "cell_type": "markdown",
      "source": "##  Image Features"
    },
    {
      "metadata": {},
      "cell_type": "markdown",
      "source": "Next, as a team, you will explore how automatic feature identification and manipulation works.\n\nMagnetic resonance imaging (MRI) data are frequently stored as grayscale images where lightness corresponds to a response in the signal.\n\n<img src=\"http://jnm.snmjournals.org/content/46/1_suppl/151S/F2.large.jpg\" width=\"75%;\" alt=\"A series of MRI pictures after brain surgery.\"/>\n\n(For this portion, we are indebted to [Richard Barnes](http://rbarnes.org/)' outline on [Stack Overflow](https://stackoverflow.com/questions/49834264/mri-brain-tumor-image-processing-and-segmentation-skull-removing).)"
    },
    {
      "metadata": {},
      "cell_type": "markdown",
      "source": "Elements that are commonly present, such as bones, are frequently removed in order to clean up the picture.  With a little bit of finesse, this process can be automated, since the skull generally occurs in the same place in all of the pictures.  This is called \"skull stripping,\" and we'll start by identifying and removing the skull from our set of images.\n\nWe will use a set of MRI images obtained from the [XNAT](https://central.xnat.org/) repository, the `IGT_GLIOMA` data set provided by Ferenc Jolesz.  Each of these images contains a brain scan for a [glioma](https://en.wikipedia.org/wiki/Glioma), a relatively common kind of brain tumor.\n\n<img src=\"https://prod-images.static.radiopaedia.org/images/16514952/bff0d7dde0729713759de61d0d0a8f_big_gallery.jpeg\" width=\"33%;\" alt=\"Left frontal low-grade glioma.\"/>"
    },
    {
      "metadata": {},
      "cell_type": "markdown",
      "source": "![](./img/scan.gif)\n\nSet up a display function for convenience in working with the image data.  Sometimes MRI data are stored in blue-green-red order instead of red-green-blue order, so we have a convenience function to deal with that."
    },
    {
      "metadata": {
        "trusted": true
      },
      "cell_type": "code",
      "source": "#   Some library boilerplate.\nimport numpy as np\nimport matplotlib.pyplot as plt\nfrom skimage import data,io,filters,exposure\nimport skimage",
      "execution_count": null,
      "outputs": []
    },
    {
      "metadata": {
        "trusted": true
      },
      "cell_type": "code",
      "source": "def ShowImage( title,img,ctype ):\n    plt.figure( figsize=( 10, 10 ) )\n    if ctype == 'bgr':  # switch to RGB\n        b = img[ :,:,0 ].copy()\n        g = img[ :,:,1 ].copy()\n        r = img[ :,:,2 ].copy()\n        rgb_img = np.stack( [ r,g,b ],axis=2 )\n        plt.imshow( rgb_img )\n    elif ctype == 'gray':\n        plt.imshow( img,cmap='gray' )\n    elif ctype == 'rgb':\n        plt.imshow( img )\n    else:\n        raise Exception( \"Unknown colour type\" )\n    plt.axis( 'off' )\n    plt.title( title )\n    plt.show()",
      "execution_count": null,
      "outputs": []
    },
    {
      "metadata": {},
      "cell_type": "markdown",
      "source": "First, we need to load an image to work with."
    },
    {
      "metadata": {
        "trusted": true
      },
      "cell_type": "code",
      "source": "brain_path = './data/000079.png'\nimage_brain = skimage.io.imread( brain_path )\nimage_brain = image_brain >> 8\nShowImage( 'Brain with Skull',image_brain,'gray' )",
      "execution_count": null,
      "outputs": []
    },
    {
      "metadata": {},
      "cell_type": "markdown",
      "source": "We examine the histogram of the image data in grayscale."
    },
    {
      "metadata": {
        "trusted": true
      },
      "cell_type": "code",
      "source": "hist_brain,hist_centers_brain = exposure.histogram( image_brain )\n\nfig,ax = plt.subplots( ncols=2,figsize=( 10,4 ) )\n\nax[ 0 ].imshow( image_brain,cmap='binary_r' )\nax[ 0 ].set_title( 'Source Image' )\nax[ 1 ].plot( hist_centers_brain,hist_brain )\nax[ 1 ].set_title( 'Histogram' )\n\nplt.show()",
      "execution_count": null,
      "outputs": []
    },
    {
      "metadata": {},
      "cell_type": "markdown",
      "source": "In principle, this distribution tells us something about the kinds of methods that can be used to identify features.  For instance, notice that the skull and brain are very distinct in color from the background, verified by the histogram.  We can use this to select the skull and brain separately from the background.  One technique for accomplishing this is Li's method, which splits the histogram between peaks."
    },
    {
      "metadata": {
        "trusted": true
      },
      "cell_type": "code",
      "source": "threshold = skimage.filters.threshold_li( image_brain )\nthresh = image_brain > threshold\nShowImage( 'Thresholded Image',thresh,'gray' )",
      "execution_count": null,
      "outputs": []
    },
    {
      "metadata": {},
      "cell_type": "markdown",
      "source": "`thresh` represents the original image classified into light and dark portions according to the histogram.  We use `thresh` as a \"mask\" to distinguish parts of the image.  Overlaying the mask and the original image, we can see the area of detection.  You should analyze and understand each line in the subsequent code block."
    },
    {
      "metadata": {
        "trusted": true
      },
      "cell_type": "code",
      "source": "colormask = np.zeros( ( image_brain.shape[ 0 ],image_brain.shape[ 1 ],3),dtype=np.uint8 )\ncolormask[ thresh!=0 ] = np.array( ( 0,256,128 ) )\nblended = ( np.dstack( ( image_brain, )*3 ) + colormask * 0.8 ) / ( 255 * 1.8 )\nShowImage( 'Blended Thresholded Image',blended,'bgr' )",
      "execution_count": null,
      "outputs": []
    },
    {
      "metadata": {},
      "cell_type": "markdown",
      "source": "The _scikit-image_ library, along with most image-processing libraries, is capable of identifying the separate components of a mask."
    },
    {
      "metadata": {
        "trusted": true
      },
      "cell_type": "code",
      "source": "import skimage.morphology\nmarkers = skimage.morphology.label( thresh )\nShowImage( 'Connected Components',markers,'rgb' )",
      "execution_count": null,
      "outputs": []
    },
    {
      "metadata": {},
      "cell_type": "markdown",
      "source": "We know there should be two components, not one huge one, so we have to find a way to separate the brain from the skull.  One way is to play with the threshold used in Li's method.  Another is to \"erode\" the image, or expand the holes in the mask until they meet and cut off one area from another.\n\nHere, we attempt the latter.  We make a \"disk\" and apply it at the edges of the mask like a stamp.  This slightly expands the mask and makes the areas more distinct from each other.  We don't want to overdo it though.  (Try changing the disk size to see what we mean.)"
    },
    {
      "metadata": {
        "trusted": true
      },
      "cell_type": "code",
      "source": "selem = skimage.morphology.disk(3)\neroded = skimage.morphology.erosion( thresh,selem )\nShowImage( 'Eroded Image',eroded,'gray' )",
      "execution_count": null,
      "outputs": []
    },
    {
      "metadata": {},
      "cell_type": "markdown",
      "source": "In this case, we can visually see two connected components, corresponding to the skull and the brain, and the computer agrees with this.  The larger of these is the brain, so we can find the larger component, select only it from the mask, and thus strip the skull from the image."
    },
    {
      "metadata": {},
      "cell_type": "markdown",
      "source": "Now we can re-segment the image."
    },
    {
      "metadata": {
        "trusted": true
      },
      "cell_type": "code",
      "source": "markers = skimage.morphology.label( drawn,connectivity=1 )\nShowImage( 'Connected Components',markers,'rgb' )",
      "execution_count": null,
      "outputs": []
    },
    {
      "metadata": {
        "trusted": true
      },
      "cell_type": "code",
      "source": "# Get the area taken by each component.  (Ignore label 0 since this is the background.)\nmarker_area = [ np.sum( markers==m ) for m in range( np.max( markers ) ) if m!=0 ] \n\n# Get label of largest component by area\nlargest_component = np.argmax( marker_area ) + 1  # add 1 since we dropped zero above                        \n\n# Get pixels which correspond to the brain.\nbrain_mask = ( markers==largest_component )\n\n# Make a copy of the original image and select only those pixels corresponding to the brain.\nimage_brain_out = np.dstack( ( image_brain, )*3 )\nimage_brain_out[ brain_mask==False ] = ( 0,0,0 )\nShowImage( 'Extracted Brain',image_brain_out,'rgb' )",
      "execution_count": null,
      "outputs": []
    },
    {
      "metadata": {},
      "cell_type": "markdown",
      "source": "That's okay, isn't it?  It's missing a few pieces due to the erosion, but we can relax the image back out a bit by eroding the mask instead of the image."
    },
    {
      "metadata": {
        "trusted": true
      },
      "cell_type": "code",
      "source": "grown = np.invert( brain_mask )\nselem = skimage.morphology.disk(4)\ngrown = skimage.morphology.erosion( grown,selem )\ngrown = np.invert( grown )\nShowImage( 'Dilated (Reverse-Eroded) Image',grown,'gray' )",
      "execution_count": null,
      "outputs": []
    },
    {
      "metadata": {
        "trusted": true
      },
      "cell_type": "code",
      "source": "",
      "execution_count": null,
      "outputs": []
    },
    {
      "metadata": {
        "trusted": true
      },
      "cell_type": "code",
      "source": "# Get the area taken by each component.  (Ignore label 0 since this is the background.)\nmarker_area = [ np.sum( markers==m ) for m in range( np.max( markers ) ) if m!=0 ] \n\n# Get label of largest component by area\nlargest_component = np.argmax( marker_area ) + 1  # add 1 since we dropped zero above                        \n\n# Get pixels which correspond to the brain.\nbrain_mask = ( markers==largest_component )\n\n# Make a copy of the original image and select only those pixels corresponding to the brain.\nimage_brain_out = np.dstack( ( image_brain, )*3 )\nimage_brain_out[ grown==False ] = ( 0,0,0 )\nShowImage( 'Extracted Brain',image_brain_out,'rgb' )",
      "execution_count": null,
      "outputs": []
    },
    {
      "metadata": {},
      "cell_type": "markdown",
      "source": "The dura mater (hard encasing of the brain inside the skull) is still partiall visible, but the image is much cleaner without the skull.  You can repeat this process with a new threshold to pick out the tumor or to remove the dura mater completely."
    },
    {
      "metadata": {},
      "cell_type": "markdown",
      "source": "At this point, we can build a pipeline to handle _all_ of the images in the data set at the same time.  We have two options:  we can load all of the images at once and process them, or load them one at a time and process them one at a time.  The former requires more memory, so it may not be preferred for extremely large data sets, but we'll use it here since there are some tools to handle that process."
    },
    {
      "metadata": {
        "trusted": true
      },
      "cell_type": "code",
      "source": "brain_files_path = './data/0000*.png'\nbrain_images = skimage.io.imread_collection( brain_files_path )",
      "execution_count": null,
      "outputs": []
    },
    {
      "metadata": {},
      "cell_type": "markdown",
      "source": "If we rebuild our immediately preceding pipeline as a function, we can loop over and output the stripped images.\n\nCompose a function `strip_skull` which accepts an image (as a NumPy array) as argument and returns the stripped image as a NumPy array.  (It shouldn't worry about the `drawn` portion since that can't be easily generalized.  Just erode more aggressively.)  Verify that it works for one of the images besides the one we just tested.  Then apply it to the whole pipeline."
    },
    {
      "metadata": {
        "trusted": true
      },
      "cell_type": "code",
      "source": "def strip_skull( image ):\n    pass",
      "execution_count": null,
      "outputs": []
    },
    {
      "metadata": {
        "trusted": true
      },
      "cell_type": "code",
      "source": "for ( brain_image,brain_image_path ) in zip( brain_images,brain_images.files ):\n    brain_stripped = strip_skull( brain_image )\n    ShowImage( brain_stripped )\n    stripped_image_path = brain_image_path.replace( '.png','-stripped.png' )\n    skimage.io.imsave( stripped_image_path,brain_stripped )",
      "execution_count": null,
      "outputs": []
    }
  ],
  "metadata": {
    "kernelspec": {
      "name": "python3",
      "display_name": "Python 3",
      "language": "python"
    },
    "language_info": {
      "mimetype": "text/x-python",
      "nbconvert_exporter": "python",
      "name": "python",
      "pygments_lexer": "ipython3",
      "version": "3.5.4",
      "file_extension": ".py",
      "codemirror_mode": {
        "version": 3,
        "name": "ipython"
      }
    }
  },
  "nbformat": 4,
  "nbformat_minor": 2
}