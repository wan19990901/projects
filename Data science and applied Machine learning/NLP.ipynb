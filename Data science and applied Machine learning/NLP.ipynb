{
 "cells": [
  {
   "cell_type": "code",
   "execution_count": 19,
   "metadata": {},
   "outputs": [],
   "source": [
    "import pandas as pd\n",
    "import numpy as np\n",
    "import matplotlib.pyplot as plt\n",
    "from sklearn.feature_extraction.text import CountVectorizer \n",
    "from sklearn.neighbors import NearestNeighbors\n",
    "from sklearn.linear_model import LogisticRegression\n",
    "from sklearn.metrics import roc_curve, precision_recall_curve, auc, make_scorer, recall_score, accuracy_score, precision_score, confusion_matrix"
   ]
  },
  {
   "cell_type": "code",
   "execution_count": 21,
   "metadata": {},
   "outputs": [
    {
     "name": "stderr",
     "output_type": "stream",
     "text": [
      "/home/guangya/anaconda3/lib/python3.7/site-packages/ipykernel_launcher.py:5: SettingWithCopyWarning: \n",
      "A value is trying to be set on a copy of a slice from a DataFrame.\n",
      "Try using .loc[row_indexer,col_indexer] = value instead\n",
      "\n",
      "See the caveats in the documentation: http://pandas.pydata.org/pandas-docs/stable/indexing.html#indexing-view-versus-copy\n",
      "  \"\"\"\n"
     ]
    },
    {
     "name": "stdout",
     "output_type": "stream",
     "text": [
      "for\n",
      "the\n",
      "in\n",
      "to\n",
      "was\n",
      "my\n",
      "is\n",
      "and\n",
      "of\n",
      "it\n"
     ]
    }
   ],
   "source": [
    "yelp = pd.read_csv('yelp_2k.csv')\n",
    "data = yelp[['text','stars']]\n",
    "def lower_case(x):\n",
    "    return x.lower()\n",
    "data['text'] = data['text'].apply(lower_case)\n",
    "vector = CountVectorizer()\n",
    "s = []\n",
    "for i in data['text']:\n",
    "    s.append(i)\n",
    "rank_word = sorted(np.sum(np.array(vector.fit_transform(s).toarray()),axis = 0))[::-1]\n",
    "plt.figure()\n",
    "plt.scatter(x = range(len(rank_word)),y = rank_word,label = 'counts')\n",
    "plt.xlabel('Wordrank')\n",
    "plt.ylabel('Wordcount')\n",
    "plt.title('word frequency')\n",
    "plt.legend()\n",
    "plt.savefig('1.png')\n",
    "plt.close()\n"
   ]
  },
  {
   "cell_type": "code",
   "execution_count": 22,
   "metadata": {},
   "outputs": [
    {
     "data": {
      "image/png": "[encoded data removed]",
      "text/plain": [
       "<Figure size 432x288 with 1 Axes>"
      ]
     },
     "metadata": {
      "needs_background": "light"
     },
     "output_type": "display_data"
    }
   ],
   "source": [
    "plt.scatter(x = range(len(rank_word)),y = rank_word,label = 'counts')\n",
    "plt.xlabel('Wordrank')\n",
    "plt.ylabel('Wordcount')\n",
    "plt.title('word frequency')\n",
    "plt.legend()\n",
    "plt.savefig('2.png')"
   ]
  },
  {
   "cell_type": "code",
   "execution_count": 5,
   "metadata": {},
   "outputs": [],
   "source": [
    "count_vec = np.sum(np.array(vector.fit_transform(s).toarray()),axis = 0)\n",
    "# I decide to make stop word as the top10 word\n",
    "remove_index = []\n",
    "for i in rank_word[:10]:\n",
    "    remove_index.append(np.argwhere(count_vec == i)[0][0])\n",
    "stop_words = []\n",
    "for k,v in vector.vocabulary_.items():\n",
    "    if(v in remove_index):\n",
    "        print(k) # stop words\n",
    "        stop_words.append(k)\n",
    "vector = CountVectorizer(stop_words=stop_words, max_df=0.95,min_df= 5)\n",
    "rank_word = sorted(np.sum(np.array(vector.fit_transform(s).toarray()),axis = 0))[::-1]\n",
    "\n",
    "cus_x = vector.transform(['horrible customer service']).toarray()\n",
    "\n",
    "knn = NearestNeighbors(5,metric='cosine')\n",
    "knn.fit(data_x)\n",
    "result = knn.kneighbors(cus_x)"
   ]
  },
  {
   "cell_type": "code",
   "execution_count": 35,
   "metadata": {},
   "outputs": [
    {
     "name": "stdout",
     "output_type": "stream",
     "text": [
      "This is for review 1808 : \n",
      "rogers ...\n",
      "\n",
      "1) is over priced\n",
      "2) have horrible customer service\n",
      "3) faulty and incorrect billing\n",
      "4) poor customer service\n",
      "5) not enough options\n",
      "6) never arrive for an appointment \n",
      "The scores for this result is  0.3845425451033363 \n",
      "\n",
      "\n",
      "This is for review 90 : \n",
      "horrible service, horrible customer service, and horrible quality of service!  do not waste your time or money using this company for your pool needs.  dan (602)363-8267 broke my pool filtration system and left it in a nonworking condition.  he will not repair the issue he caused, and told me to go somewhere else.  \n",
      "\n",
      "save yourself the hassle, there are plenty of other quality pool companies out there.  \n",
      "\n",
      "take care! \n",
      "The scores for this result is  0.550949790630291 \n",
      "\n",
      "\n",
      "This is for review 729 : \n",
      "service was horrible came with a major attitude. payed 30 for lasagna and was no where worth it. won't ever be going back and will never recommend this place. was treated absolutely horrible. horrible. \n",
      "The scores for this result is  0.578362978644216 \n",
      "\n",
      "\n",
      "This is for review 1721 : \n",
      "went to marca today to get a haircut and was given a great service both by front desk - customer service and by georgia, girl who did my hair. i guess i got lucky with her as she has years of experience doing this job. she has excellent customer service skills and takes excellent care of her customers. \n",
      "The scores for this result is  0.627322003750035 \n",
      "\n",
      "\n",
      "This is for review 980 : \n",
      "i come here now for all my car service needs.  in my experiences, the work is always performed in an efficient, effective manner and in good humor.  i appreciate the consistent attention paid to provide above par customer service.  service is routinely administered in an expedient fashion, which is respectful of my personal time, and extremely contributive to my loyalty to the location. \n",
      "The scores for this result is  0.639332146133027 \n",
      "\n",
      "\n"
     ]
    }
   ],
   "source": [
    "for i in range(len(result[1][0])):\n",
    "    idx = result[1][0][i]\n",
    "    print('This is for review ' + str(idx) + \" : \\n\" + data['text'][idx],'\\n' + \"The scores for this result is \",result[0][0][i],'\\n')\n",
    "    print()"
   ]
  },
  {
   "cell_type": "code",
   "execution_count": 8,
   "metadata": {},
   "outputs": [],
   "source": [
    "from sklearn.model_selection import train_test_split\n",
    "X_train, X_test, y_train, y_test = train_test_split(data_x, data['stars'].values, test_size=0.1, random_state=42)"
   ]
  },
  {
   "cell_type": "code",
   "execution_count": 9,
   "metadata": {},
   "outputs": [],
   "source": [
    "# The first 3 are pretty good, but the last 2 do not match"
   ]
  },
  {
   "cell_type": "code",
   "execution_count": 10,
   "metadata": {},
   "outputs": [],
   "source": [
    "Logit = LogisticRegression(solver = 'liblinear')"
   ]
  },
  {
   "cell_type": "code",
   "execution_count": 11,
   "metadata": {},
   "outputs": [
    {
     "data": {
      "text/plain": [
       "LogisticRegression(C=1.0, class_weight=None, dual=False, fit_intercept=True,\n",
       "          intercept_scaling=1, max_iter=100, multi_class='warn',\n",
       "          n_jobs=None, penalty='l2', random_state=None, solver='liblinear',\n",
       "          tol=0.0001, verbose=0, warm_start=False)"
      ]
     },
     "execution_count": 11,
     "metadata": {},
     "output_type": "execute_result"
    }
   ],
   "source": [
    "Logit.fit(X_train,y_train)"
   ]
  },
  {
   "cell_type": "code",
   "execution_count": 12,
   "metadata": {},
   "outputs": [
    {
     "data": {
      "text/plain": [
       "0.92"
      ]
     },
     "execution_count": 12,
     "metadata": {},
     "output_type": "execute_result"
    }
   ],
   "source": [
    "def get_accuracy(y_pred,y_test):\n",
    "    return sum(y_pred == y_test) / len(y_test)\n",
    "get_accuracy(Logit.predict(X_test),y_test) # testing"
   ]
  },
  {
   "cell_type": "code",
   "execution_count": 13,
   "metadata": {},
   "outputs": [
    {
     "data": {
      "text/plain": [
       "0.9994444444444445"
      ]
     },
     "execution_count": 13,
     "metadata": {},
     "output_type": "execute_result"
    }
   ],
   "source": [
    "get_accuracy(Logit.predict(X_train),y_train) # training"
   ]
  },
  {
   "cell_type": "code",
   "execution_count": 14,
   "metadata": {},
   "outputs": [
    {
     "data": {
      "text/plain": [
       "Text(0,0.5,'Count')"
      ]
     },
     "execution_count": 14,
     "metadata": {},
     "output_type": "execute_result"
    },
    {
     "data": {
      "image/png": "[encoded data removed]",
      "text/plain": [
       "<Figure size 432x288 with 1 Axes>"
      ]
     },
     "metadata": {
      "needs_background": "light"
     },
     "output_type": "display_data"
    }
   ],
   "source": [
    "prob_data = np.hstack((y_train[:,np.newaxis],Logit.predict_proba(X_train)[:,1][:,np.newaxis])) \n",
    "plt.hist(prob_data[prob_data[:,0] == 1][:,1], color = 'black',label = 'Negetive',bins = 30)\n",
    "plt.hist(prob_data[prob_data[:,0] == 5][:,1], color = 'blue',label = 'Positive',bins = 30)\n",
    "plt.legend()\n",
    "plt.title('Histogram of predicted scores')\n",
    "plt.xlabel('Predicted scores')\n",
    "plt.ylabel('Count')"
   ]
  },
  {
   "cell_type": "code",
   "execution_count": 15,
   "metadata": {},
   "outputs": [],
   "source": [
    "def adjust_threshold(prob,t):\n",
    "    results = []\n",
    "    for p in prob:\n",
    "        if(p[1] >= t):\n",
    "            results.append(5)\n",
    "        else:\n",
    "            results.append(1)\n",
    "    return results"
   ]
  },
  {
   "cell_type": "code",
   "execution_count": 76,
   "metadata": {},
   "outputs": [
    {
     "data": {
      "text/plain": [
       "0.93"
      ]
     },
     "execution_count": 76,
     "metadata": {},
     "output_type": "execute_result"
    }
   ],
   "source": [
    "Threshold = 0.216 # since the tails of positive group seems to be longer, which means it might have more outliers\n",
    "y_pred_test = adjust_threshold(Logit.predict_proba(X_test),Threshold)\n",
    "y_pred_train = adjust_threshold(Logit.predict_proba(X_train),Threshold)\n",
    "get_accuracy(y_pred_test,y_test) # test set improves, "
   ]
  },
  {
   "cell_type": "code",
   "execution_count": 77,
   "metadata": {},
   "outputs": [
    {
     "data": {
      "text/plain": [
       "0.9938888888888889"
      ]
     },
     "execution_count": 77,
     "metadata": {},
     "output_type": "execute_result"
    }
   ],
   "source": [
    "get_accuracy(y_pred_train,y_train)"
   ]
  },
  {
   "cell_type": "code",
   "execution_count": 18,
   "metadata": {},
   "outputs": [
    {
     "data": {
      "image/png": "[encoded data removed]",
      "text/plain": [
       "<Figure size 576x576 with 1 Axes>"
      ]
     },
     "metadata": {
      "needs_background": "light"
     },
     "output_type": "display_data"
    }
   ],
   "source": [
    "def plot_roc_curve(fpr, tpr):\n",
    "    plt.figure(figsize=(8,8))\n",
    "    plt.title('ROC Curve')\n",
    "    plt.plot(fpr, tpr, linewidth=2, label=('Roc curve area = ' + str(auc(fpr, tpr))))\n",
    "    plt.plot([0, 1], [0, 1], 'k--')\n",
    "    plt.axis([-0.005, 1, 0, 1.005])\n",
    "    plt.xticks(np.arange(0,1, 0.05), rotation=90)\n",
    "    plt.xlabel(\"False Positive Rate\")\n",
    "    plt.ylabel(\"True Positive Rate\")\n",
    "    plt.legend(loc='best')\n",
    "    plt.savefig('3.png')\n",
    "fpr, tpr, auc_thresholds = roc_curve(y_test,Logit.predict_proba(X_test)[:,1],pos_label=5)\n",
    "plot_roc_curve(fpr, tpr)"
   ]
  },
  {
   "cell_type": "code",
   "execution_count": 70,
   "metadata": {},
   "outputs": [
    {
     "name": "stdout",
     "output_type": "stream",
     "text": [
      "[0.         0.         0.         0.01020408 0.01020408 0.02040816\n",
      " 0.02040816 0.03061224 0.03061224 0.05102041 0.05102041 0.07142857\n",
      " 0.07142857 0.08163265 0.08163265 0.09183673 0.09183673 0.1122449\n",
      " 0.1122449  0.41836735 0.41836735 0.53061224 0.53061224 0.57142857\n",
      " 0.57142857 1.        ]\n"
     ]
    }
   ],
   "source": [
    "print(fpr)"
   ]
  },
  {
   "cell_type": "code",
   "execution_count": 71,
   "metadata": {},
   "outputs": [
    {
     "name": "stdout",
     "output_type": "stream",
     "text": [
      "[0.         0.00980392 0.6372549  0.6372549  0.68627451 0.68627451\n",
      " 0.74509804 0.74509804 0.85294118 0.85294118 0.90196078 0.90196078\n",
      " 0.91176471 0.91176471 0.93137255 0.93137255 0.95098039 0.95098039\n",
      " 0.97058824 0.97058824 0.98039216 0.98039216 0.99019608 0.99019608\n",
      " 1.         1.        ]\n"
     ]
    }
   ],
   "source": [
    "print(tpr)"
   ]
  },
  {
   "cell_type": "code",
   "execution_count": 75,
   "metadata": {},
   "outputs": [
    {
     "name": "stdout",
     "output_type": "stream",
     "text": [
      "0.2160892107144966\n"
     ]
    }
   ],
   "source": [
    "print(auc_thresholds[18])"
   ]
  },
  {
   "cell_type": "code",
   "execution_count": null,
   "metadata": {},
   "outputs": [],
   "source": []
  }
 ],
 "metadata": {
  "kernelspec": {
   "display_name": "Python 3",
   "language": "python",
   "name": "python3"
  },
  "language_info": {
   "codemirror_mode": {
    "name": "ipython",
    "version": 3
   },
   "file_extension": ".py",
   "mimetype": "text/x-python",
   "name": "python",
   "nbconvert_exporter": "python",
   "pygments_lexer": "ipython3",
   "version": "3.7.2"
  }
 },
 "nbformat": 4,
 "nbformat_minor": 2
}
