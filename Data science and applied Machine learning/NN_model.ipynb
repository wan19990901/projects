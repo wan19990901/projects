{
 "cells": [
  {
   "cell_type": "code",
   "execution_count": 38,
   "metadata": {},
   "outputs": [],
   "source": [
    "import numpy as np\n",
    "import keras\n",
    "import scipy.stats as stats\n",
    "import pylab as pl\n",
    "import time\n",
    "import json\n",
    "import pandas as pd\n",
    "from matplotlib import pyplot as plt\n",
    "from keras.models import Sequential\n",
    "from sklearn.model_selection import train_test_split\n",
    "from sklearn import preprocessing\n",
    "from keras.layers import Dense, Dropout\n",
    "\n",
    "from keras.wrappers.scikit_learn import KerasRegressor\n",
    "from sklearn.model_selection import cross_val_score\n",
    "from sklearn.model_selection import KFold\n",
    "from sklearn.pipeline import Pipeline\n",
    "from sklearn import metrics"
   ]
  },
  {
   "cell_type": "code",
   "execution_count": 2,
   "metadata": {},
   "outputs": [],
   "source": [
    "origin_data = np.loadtxt(\"data.txt\")"
   ]
  },
  {
   "cell_type": "code",
   "execution_count": 3,
   "metadata": {},
   "outputs": [],
   "source": [
    "origin_data2 = pd.read_csv(\"R_modelling/selected_features_remove_outliers.csv\")\n",
    "origin_data2 = origin_data2.values"
   ]
  },
  {
   "cell_type": "code",
   "execution_count": 4,
   "metadata": {},
   "outputs": [
    {
     "data": {
      "text/plain": [
       "(10580, 181)"
      ]
     },
     "execution_count": 4,
     "metadata": {},
     "output_type": "execute_result"
    }
   ],
   "source": [
    "data = origin_data\n",
    "data.shape"
   ]
  },
  {
   "cell_type": "code",
   "execution_count": 5,
   "metadata": {},
   "outputs": [],
   "source": [
    "dataX = data[:,0:-1]\n",
    "dataY = data[:,-1]\n",
    "dataY = dataY.reshape(-1,1)"
   ]
  },
  {
   "cell_type": "markdown",
   "metadata": {},
   "source": [
    "# Some stats"
   ]
  },
  {
   "cell_type": "code",
   "execution_count": 6,
   "metadata": {},
   "outputs": [
    {
     "name": "stdout",
     "output_type": "stream",
     "text": [
      "max: 21472.926260118013 \n",
      "min: 0.04991243502339581 \n",
      "mean: 344.4511560060772 \n",
      "std: 625.2633153192716\n"
     ]
    },
    {
     "data": {
      "image/png": "[encoded data removed]",
      "text/plain": [
       "<Figure size 432x288 with 1 Axes>"
      ]
     },
     "metadata": {
      "needs_background": "light"
     },
     "output_type": "display_data"
    }
   ],
   "source": [
    "sorted_mir = -np.sort(-origin_data[:,-1])\n",
    "print(\"max:\", max(sorted_mir),\"\\nmin:\", min(sorted_mir), \"\\nmean:\", sorted_mir.mean(), \"\\nstd:\", sorted_mir.std())\n",
    "fit_mir = stats.norm.pdf(sorted_mir, np.mean(sorted_mir), np.std(sorted_mir))\n",
    "pl.plot(sorted_mir, fit_mir, '-o')\n",
    "pl.hist(sorted_mir, density=True)\n",
    "pl.show()"
   ]
  },
  {
   "cell_type": "code",
   "execution_count": 7,
   "metadata": {},
   "outputs": [
    {
     "data": {
      "text/plain": [
       "[<matplotlib.lines.Line2D at 0x7f512d34e208>]"
      ]
     },
     "execution_count": 7,
     "metadata": {},
     "output_type": "execute_result"
    },
    {
     "data": {
      "image/png": "[encoded data removed]",
      "text/plain": [
       "<Figure size 432x288 with 1 Axes>"
      ]
     },
     "metadata": {
      "needs_background": "light"
     },
     "output_type": "display_data"
    }
   ],
   "source": [
    "plt.plot(dataY, \"*\")"
   ]
  },
  {
   "cell_type": "code",
   "execution_count": 8,
   "metadata": {},
   "outputs": [
    {
     "name": "stdout",
     "output_type": "stream",
     "text": [
      "[[5.60279884]\n",
      " [2.78897127]\n",
      " [0.40389807]\n",
      " ...\n",
      " [0.37960693]\n",
      " [0.16216429]\n",
      " [0.24599199]]\n",
      "(array([   0,   66,  110,  138,  140,  141,  147,  169,  170,  175,  207,\n",
      "        234,  237,  241,  270,  279,  280,  322,  325,  390,  448, 1607,\n",
      "       1658, 1681, 1686, 1797, 1952, 2330, 3020, 3021, 3048, 3052, 3054,\n",
      "       3056, 3059, 3060, 3063, 3071, 3079, 3080, 3081, 3082, 3086, 3122,\n",
      "       3130, 3141, 3158, 3161, 3166, 3167, 3189, 3190, 3193, 3194, 3195,\n",
      "       3197, 3210, 3211, 3213, 3227, 3230, 3234, 3236, 3254, 3257, 3261,\n",
      "       3299, 3300, 3306, 3344, 3345, 3346, 3406, 3407, 3408, 3409, 3410,\n",
      "       3412, 3461, 3463, 3464, 3469, 3524, 3538, 3563, 3571, 3579, 3595,\n",
      "       3607, 3610, 3618, 3621, 3624, 3626, 3627, 3638, 4089, 4221, 4229,\n",
      "       4307, 4532, 4564, 4598, 4678, 4700, 4701, 4706, 4738, 5026, 5048,\n",
      "       5081, 6043, 6109, 6184, 6218, 6323, 6432, 6561, 7622, 7731, 7790,\n",
      "       7836, 8051, 8842, 9067, 9068, 9095, 9129, 9133, 9169, 9177, 9208,\n",
      "       9236, 9237, 9242, 9252, 9254, 9257, 9260, 9274, 9346, 9347, 9392,\n",
      "       9393, 9456, 9457, 9459, 9508, 9516, 9563, 9585, 9618]), array([0, 0, 0, 0, 0, 0, 0, 0, 0, 0, 0, 0, 0, 0, 0, 0, 0, 0, 0, 0, 0, 0,\n",
      "       0, 0, 0, 0, 0, 0, 0, 0, 0, 0, 0, 0, 0, 0, 0, 0, 0, 0, 0, 0, 0, 0,\n",
      "       0, 0, 0, 0, 0, 0, 0, 0, 0, 0, 0, 0, 0, 0, 0, 0, 0, 0, 0, 0, 0, 0,\n",
      "       0, 0, 0, 0, 0, 0, 0, 0, 0, 0, 0, 0, 0, 0, 0, 0, 0, 0, 0, 0, 0, 0,\n",
      "       0, 0, 0, 0, 0, 0, 0, 0, 0, 0, 0, 0, 0, 0, 0, 0, 0, 0, 0, 0, 0, 0,\n",
      "       0, 0, 0, 0, 0, 0, 0, 0, 0, 0, 0, 0, 0, 0, 0, 0, 0, 0, 0, 0, 0, 0,\n",
      "       0, 0, 0, 0, 0, 0, 0, 0, 0, 0, 0, 0, 0, 0, 0, 0, 0, 0, 0, 0]))\n",
      "152\n"
     ]
    }
   ],
   "source": [
    "mir_zscore = np.abs(stats.zscore(dataY))\n",
    "print(mir_zscore)\n",
    "outliers_zscore = np.where(mir_zscore > 3)\n",
    "print(outliers_zscore)\n",
    "print(len(outliers_zscore[0]))"
   ]
  },
  {
   "cell_type": "code",
   "execution_count": 9,
   "metadata": {},
   "outputs": [],
   "source": [
    "dataX = origin_data[:,0:-1]\n",
    "dataY = origin_data[:,-1]\n",
    "dataY = dataY.reshape(-1,1)"
   ]
  },
  {
   "cell_type": "code",
   "execution_count": 10,
   "metadata": {},
   "outputs": [],
   "source": [
    "dataX_drop = np.delete(dataX, outliers_zscore[0], axis=0)\n",
    "dataY_drop = np.delete(dataY, outliers_zscore[0], axis=0)"
   ]
  },
  {
   "cell_type": "code",
   "execution_count": 11,
   "metadata": {},
   "outputs": [],
   "source": [
    "dataX = dataX_drop\n",
    "dataY = dataY_drop"
   ]
  },
  {
   "cell_type": "code",
   "execution_count": 12,
   "metadata": {},
   "outputs": [
    {
     "data": {
      "text/plain": [
       "(10428, 180)"
      ]
     },
     "execution_count": 12,
     "metadata": {},
     "output_type": "execute_result"
    }
   ],
   "source": [
    "dataX.shape"
   ]
  },
  {
   "cell_type": "code",
   "execution_count": 13,
   "metadata": {},
   "outputs": [
    {
     "name": "stdout",
     "output_type": "stream",
     "text": [
      "max: 2219.373481882368 \n",
      "min: 0.04991243502339581 \n",
      "mean: 292.8973937355639 \n",
      "std: 359.5003189990006\n"
     ]
    },
    {
     "data": {
      "image/png": "[encoded data removed]",
      "text/plain": [
       "<Figure size 432x288 with 1 Axes>"
      ]
     },
     "metadata": {
      "needs_background": "light"
     },
     "output_type": "display_data"
    }
   ],
   "source": [
    "sorted_mir = -np.sort(-dataY[:,0])\n",
    "print(\"max:\", max(sorted_mir),\"\\nmin:\", min(sorted_mir), \"\\nmean:\", sorted_mir.mean(), \"\\nstd:\", sorted_mir.std())\n",
    "fit_mir = stats.norm.pdf(sorted_mir, np.mean(sorted_mir), np.std(sorted_mir))\n",
    "pl.plot(sorted_mir, fit_mir, '-o')\n",
    "pl.hist(sorted_mir, density=True)\n",
    "pl.show()"
   ]
  },
  {
   "cell_type": "code",
   "execution_count": 14,
   "metadata": {},
   "outputs": [
    {
     "data": {
      "text/plain": [
       "[<matplotlib.lines.Line2D at 0x7f512d2367f0>]"
      ]
     },
     "execution_count": 14,
     "metadata": {},
     "output_type": "execute_result"
    },
    {
     "data": {
      "image/png": "[encoded data removed]",
      "text/plain": [
       "<Figure size 432x288 with 1 Axes>"
      ]
     },
     "metadata": {
      "needs_background": "light"
     },
     "output_type": "display_data"
    }
   ],
   "source": [
    "plt.plot(dataY, \"*\")"
   ]
  },
  {
   "cell_type": "code",
   "execution_count": 15,
   "metadata": {},
   "outputs": [
    {
     "data": {
      "text/plain": [
       "2219.373481882368"
      ]
     },
     "execution_count": 15,
     "metadata": {},
     "output_type": "execute_result"
    }
   ],
   "source": [
    "np.max(dataY)"
   ]
  },
  {
   "cell_type": "markdown",
   "metadata": {},
   "source": [
    "# Neural Network"
   ]
  },
  {
   "cell_type": "code",
   "execution_count": 27,
   "metadata": {},
   "outputs": [],
   "source": [
    "# generate training set and test set\n",
    "trainX, testX, trainY, testY = train_test_split(dataX, dataY, test_size = 0.33, shuffle = True)"
   ]
  },
  {
   "cell_type": "code",
   "execution_count": 30,
   "metadata": {},
   "outputs": [
    {
     "data": {
      "text/plain": [
       "-0.814351363757498"
      ]
     },
     "execution_count": 30,
     "metadata": {},
     "output_type": "execute_result"
    }
   ],
   "source": [
    "np.min(testY_scaled)"
   ]
  },
  {
   "cell_type": "code",
   "execution_count": 29,
   "metadata": {},
   "outputs": [],
   "source": [
    "# Scaling (Normalization)\n",
    "# z-score (z = (x-u)/s)\n",
    "scaler_trainX, scaler_trainY, trainX_scaled, testX_scaled, trainY_scaled, testY_scaled = data_scale(\n",
    "    trainX, testX, trainY, testY, scale_type=\"z-score\")\n",
    "# min-max (x-x_min)/(x_max-x_min) * (max-min) + min\n",
    "#scaler_trainX, scaler_trainY, trainX_scaled, testX_scaled, trainY_scaled, testY_scaled = data_scale(\n",
    "#    trainX, testX, trainY, testY, scale_type=\"z-score\")"
   ]
  },
  {
   "cell_type": "code",
   "execution_count": 23,
   "metadata": {},
   "outputs": [],
   "source": [
    "def data_scale(trainX, testX, trainY, testY, scale_type = \"z-score\"):\n",
    "    scaler_trainX = None\n",
    "    scaler_trainY = None\n",
    "    \n",
    "    if scale_type == \"z-score\":\n",
    "        scaler_trainX = preprocessing.StandardScaler().fit(trainX)\n",
    "        trainX_scaled = scaler_trainX.transform(trainX)\n",
    "        testX_scaled = scaler_trainX.transform(testX)\n",
    "\n",
    "        scaler_trainY = preprocessing.StandardScaler().fit(trainY)\n",
    "        trainY_scaled = scaler_trainY.transform(trainY)\n",
    "        testY_scaled = scaler_trainY.transform(testY)\n",
    "    \n",
    "    elif scale_type == \"min-max\":\n",
    "        scaler_trainX = preprocessing.MinMaxScaler().fit(trainX)\n",
    "        trainX_scaled = scaler_trainX.transform(trainX)\n",
    "        testX_scaled = scaler_trainX.transform(testX)\n",
    "\n",
    "        scaler_trainY = preprocessing.MinMaxScaler().fit(trainY)\n",
    "        trainY_scaled = scaler_trainY.transform(trainY)\n",
    "        testY_scaled = scaler_trainY.transform(testY)\n",
    "        \n",
    "    return scaler_trainX, scaler_trainY, trainX_scaled, testX_scaled, trainY_scaled, testY_scaled\n",
    "        "
   ]
  },
  {
   "cell_type": "code",
   "execution_count": 24,
   "metadata": {},
   "outputs": [],
   "source": [
    "def reconstruct_from_sclae(scaler, data):\n",
    "    return scaler.inverse_transform(data)"
   ]
  },
  {
   "cell_type": "code",
   "execution_count": 25,
   "metadata": {},
   "outputs": [],
   "source": [
    "def model_NN_test(model_NN, dataX, dataY, scaler_trainX, scaler_trainY):\n",
    "    print(\"Model performance\")\n",
    "    predict_data = model_NN.predict(dataX)\n",
    "    \n",
    "    if scaler_trainX != None and scaler_trainY != None:\n",
    "        dataX = reconstruct_from_sclae(scaler_trainX, dataX)\n",
    "        dataY = reconstruct_from_sclae(scaler_trainY, dataY)\n",
    "        predict_data = reconstruct_from_sclae(scaler_trainY, predict_data)\n",
    "    \n",
    "    # Some stats\n",
    "    print(\"MSE:\", metrics.mean_squared_error(dataY, predict_data))\n",
    "    print(\"MAE:\", metrics.mean_absolute_error(dataY, predict_data))\n",
    "    print(\"R2:\", metrics.r2_score(dataY, predict_data))\n",
    "    errors = abs((dataY - predict_data) / dataY)\n",
    "    mean_errors = np.mean(errors)\n",
    "    mean_accuracy = 1 - mean_errors\n",
    "    print(\"Mean Accuracy:\", mean_accuracy * 100, \"%\")\n",
    "    \n",
    "    plt.figure(1)\n",
    "    plt.xlabel('True MIR')\n",
    "    plt.ylabel('Predicted MIR')\n",
    "    plt.plot(dataY, predict_data, \"*\")\n",
    "    plt.show()\n",
    "    \n",
    "    plt.figure(2)\n",
    "    plt.plot(dataY, label = 'actual data')\n",
    "    plt.plot(predict_data, label = 'predict data')\n",
    "    plt.xlabel('Tract')\n",
    "    plt.ylabel('MIR')\n",
    "    plt.legend(loc = 'best')\n",
    "    plt.show()\n",
    "    \n",
    "    return errors"
   ]
  },
  {
   "cell_type": "code",
   "execution_count": 26,
   "metadata": {},
   "outputs": [],
   "source": [
    "def NN_model():\n",
    "    dropout_rate = 0\n",
    "    \n",
    "    model = Sequential()\n",
    "    model.add(Dense(256, activation = \"elu\", input_dim = 180))\n",
    "    model.add(Dropout(dropout_rate))\n",
    "    model.add(Dense(128, activation = \"elu\"))\n",
    "    model.add(Dropout(dropout_rate))\n",
    "    model.add(Dense(64, activation = \"elu\"))\n",
    "    model.add(Dropout(dropout_rate))\n",
    "    model.add(Dense(32, activation = \"elu\"))\n",
    "    model.add(Dropout(dropout_rate))\n",
    "    model.add(Dense(16, activation = \"elu\"))\n",
    "    model.add(Dropout(dropout_rate))\n",
    "    model.add(Dense(8, activation = \"elu\"))\n",
    "    model.add(Dropout(dropout_rate))\n",
    "    model.add(Dense(1, kernel_initializer='normal'))\n",
    "    \n",
    "    model.compile(loss = \"mean_squared_error\", optimizer = \"adam\") \n",
    "    return model"
   ]
  },
  {
   "cell_type": "code",
   "execution_count": 35,
   "metadata": {
    "scrolled": true
   },
   "outputs": [
    {
     "ename": "TypeError",
     "evalue": "estimator should be an estimator implementing 'fit' method, [('standardize', StandardScaler(copy=True, with_mean=True, with_std=True)), ('mlp', <keras.wrappers.scikit_learn.KerasRegressor object at 0x7f5129ad8588>)] was passed",
     "output_type": "error",
     "traceback": [
      "\u001b[0;31m---------------------------------------------------------------------------\u001b[0m",
      "\u001b[0;31mTypeError\u001b[0m                                 Traceback (most recent call last)",
      "\u001b[0;32m<ipython-input-35-389c4010c2b4>\u001b[0m in \u001b[0;36m<module>\u001b[0;34m\u001b[0m\n\u001b[1;32m      6\u001b[0m \u001b[0mpipeline\u001b[0m \u001b[0;34m=\u001b[0m \u001b[0mPipeline\u001b[0m\u001b[0;34m(\u001b[0m\u001b[0mestimators\u001b[0m\u001b[0;34m)\u001b[0m\u001b[0;34m\u001b[0m\u001b[0;34m\u001b[0m\u001b[0m\n\u001b[1;32m      7\u001b[0m \u001b[0mkfold\u001b[0m \u001b[0;34m=\u001b[0m \u001b[0mKFold\u001b[0m\u001b[0;34m(\u001b[0m\u001b[0mn_splits\u001b[0m\u001b[0;34m=\u001b[0m\u001b[0;36m3\u001b[0m\u001b[0;34m,\u001b[0m \u001b[0mrandom_state\u001b[0m\u001b[0;34m=\u001b[0m\u001b[0mseed\u001b[0m\u001b[0;34m)\u001b[0m\u001b[0;34m\u001b[0m\u001b[0;34m\u001b[0m\u001b[0m\n\u001b[0;32m----> 8\u001b[0;31m \u001b[0mresults\u001b[0m \u001b[0;34m=\u001b[0m \u001b[0mcross_val_score\u001b[0m\u001b[0;34m(\u001b[0m\u001b[0mestimators\u001b[0m\u001b[0;34m,\u001b[0m \u001b[0mdataX\u001b[0m\u001b[0;34m,\u001b[0m \u001b[0mdataY\u001b[0m\u001b[0;34m,\u001b[0m \u001b[0mcv\u001b[0m\u001b[0;34m=\u001b[0m\u001b[0mkfold\u001b[0m\u001b[0;34m)\u001b[0m\u001b[0;34m\u001b[0m\u001b[0;34m\u001b[0m\u001b[0m\n\u001b[0m",
      "\u001b[0;32m~/software/anaconda3/lib/python3.7/site-packages/sklearn/model_selection/_validation.py\u001b[0m in \u001b[0;36mcross_val_score\u001b[0;34m(estimator, X, y, groups, scoring, cv, n_jobs, verbose, fit_params, pre_dispatch, error_score)\u001b[0m\n\u001b[1;32m    380\u001b[0m     \"\"\"\n\u001b[1;32m    381\u001b[0m     \u001b[0;31m# To ensure multimetric format is not supported\u001b[0m\u001b[0;34m\u001b[0m\u001b[0;34m\u001b[0m\u001b[0;34m\u001b[0m\u001b[0m\n\u001b[0;32m--> 382\u001b[0;31m     \u001b[0mscorer\u001b[0m \u001b[0;34m=\u001b[0m \u001b[0mcheck_scoring\u001b[0m\u001b[0;34m(\u001b[0m\u001b[0mestimator\u001b[0m\u001b[0;34m,\u001b[0m \u001b[0mscoring\u001b[0m\u001b[0;34m=\u001b[0m\u001b[0mscoring\u001b[0m\u001b[0;34m)\u001b[0m\u001b[0;34m\u001b[0m\u001b[0;34m\u001b[0m\u001b[0m\n\u001b[0m\u001b[1;32m    383\u001b[0m \u001b[0;34m\u001b[0m\u001b[0m\n\u001b[1;32m    384\u001b[0m     cv_results = cross_validate(estimator=estimator, X=X, y=y, groups=groups,\n",
      "\u001b[0;32m~/software/anaconda3/lib/python3.7/site-packages/sklearn/metrics/scorer.py\u001b[0m in \u001b[0;36mcheck_scoring\u001b[0;34m(estimator, scoring, allow_none)\u001b[0m\n\u001b[1;32m    268\u001b[0m     \u001b[0;32mif\u001b[0m \u001b[0;32mnot\u001b[0m \u001b[0mhasattr\u001b[0m\u001b[0;34m(\u001b[0m\u001b[0mestimator\u001b[0m\u001b[0;34m,\u001b[0m \u001b[0;34m'fit'\u001b[0m\u001b[0;34m)\u001b[0m\u001b[0;34m:\u001b[0m\u001b[0;34m\u001b[0m\u001b[0;34m\u001b[0m\u001b[0m\n\u001b[1;32m    269\u001b[0m         raise TypeError(\"estimator should be an estimator implementing \"\n\u001b[0;32m--> 270\u001b[0;31m                         \"'fit' method, %r was passed\" % estimator)\n\u001b[0m\u001b[1;32m    271\u001b[0m     \u001b[0;32mif\u001b[0m \u001b[0misinstance\u001b[0m\u001b[0;34m(\u001b[0m\u001b[0mscoring\u001b[0m\u001b[0;34m,\u001b[0m \u001b[0mstr\u001b[0m\u001b[0;34m)\u001b[0m\u001b[0;34m:\u001b[0m\u001b[0;34m\u001b[0m\u001b[0;34m\u001b[0m\u001b[0m\n\u001b[1;32m    272\u001b[0m         \u001b[0;32mreturn\u001b[0m \u001b[0mget_scorer\u001b[0m\u001b[0;34m(\u001b[0m\u001b[0mscoring\u001b[0m\u001b[0;34m)\u001b[0m\u001b[0;34m\u001b[0m\u001b[0;34m\u001b[0m\u001b[0m\n",
      "\u001b[0;31mTypeError\u001b[0m: estimator should be an estimator implementing 'fit' method, [('standardize', StandardScaler(copy=True, with_mean=True, with_std=True)), ('mlp', <keras.wrappers.scikit_learn.KerasRegressor object at 0x7f5129ad8588>)] was passed"
     ]
    }
   ],
   "source": [
    "seed = 0\n",
    "np.random.seed(seed)\n",
    "estimators = []\n",
    "estimators.append(('standardize', preprocessing.StandardScaler()))\n",
    "estimators.append(('mlp', KerasRegressor(build_fn=NN_model, epochs = 100, batch_size = 32)))\n",
    "pipeline = Pipeline(estimators) \n",
    "kfold = KFold(n_splits=3, random_state=seed)\n",
    "results = cross_val_score(estimators, dataX, dataY, cv=kfold)"
   ]
  },
  {
   "cell_type": "code",
   "execution_count": 25,
   "metadata": {},
   "outputs": [
    {
     "ename": "NameError",
     "evalue": "name 'results' is not defined",
     "output_type": "error",
     "traceback": [
      "\u001b[0;31m---------------------------------------------------------------------------\u001b[0m",
      "\u001b[0;31mNameError\u001b[0m                                 Traceback (most recent call last)",
      "\u001b[0;32m<ipython-input-25-14741f1863b3>\u001b[0m in \u001b[0;36m<module>\u001b[0;34m\u001b[0m\n\u001b[0;32m----> 1\u001b[0;31m \u001b[0mresults\u001b[0m\u001b[0;34m.\u001b[0m\u001b[0mmean\u001b[0m\u001b[0;34m(\u001b[0m\u001b[0;34m)\u001b[0m\u001b[0;34m\u001b[0m\u001b[0;34m\u001b[0m\u001b[0m\n\u001b[0m",
      "\u001b[0;31mNameError\u001b[0m: name 'results' is not defined"
     ]
    }
   ],
   "source": [
    "results.mean()"
   ]
  },
  {
   "cell_type": "code",
   "execution_count": 71,
   "metadata": {
    "scrolled": true
   },
   "outputs": [
    {
     "name": "stdout",
     "output_type": "stream",
     "text": [
      "Train on 6986 samples, validate on 3442 samples\n",
      "Epoch 1/500\n",
      "6986/6986 [==============================] - 1s 202us/step - loss: 0.7890 - val_loss: 0.6915\n",
      "Epoch 2/500\n",
      "6986/6986 [==============================] - 1s 103us/step - loss: 0.7514 - val_loss: 0.6786\n",
      "Epoch 3/500\n",
      "6986/6986 [==============================] - 1s 98us/step - loss: 0.7367 - val_loss: 0.6737\n",
      "Epoch 4/500\n",
      "6986/6986 [==============================] - 1s 86us/step - loss: 0.7318 - val_loss: 0.6667\n",
      "Epoch 5/500\n",
      "6986/6986 [==============================] - 1s 87us/step - loss: 0.7282 - val_loss: 0.6656\n",
      "Epoch 6/500\n",
      "6986/6986 [==============================] - 1s 88us/step - loss: 0.7331 - val_loss: 0.6715\n",
      "Epoch 7/500\n",
      "6986/6986 [==============================] - 1s 87us/step - loss: 0.7189 - val_loss: 0.6636\n",
      "Epoch 8/500\n",
      "6986/6986 [==============================] - 1s 91us/step - loss: 0.7242 - val_loss: 0.6581\n",
      "Epoch 9/500\n",
      "6986/6986 [==============================] - 1s 92us/step - loss: 0.7162 - val_loss: 0.6773\n",
      "Epoch 10/500\n",
      "6986/6986 [==============================] - 1s 87us/step - loss: 0.7191 - val_loss: 0.6711\n",
      "Epoch 11/500\n",
      "6986/6986 [==============================] - 1s 87us/step - loss: 0.7111 - val_loss: 0.6554\n",
      "Epoch 12/500\n",
      "6986/6986 [==============================] - 1s 84us/step - loss: 0.7068 - val_loss: 0.6553\n",
      "Epoch 13/500\n",
      "6986/6986 [==============================] - 1s 87us/step - loss: 0.7121 - val_loss: 0.6588\n",
      "Epoch 14/500\n",
      "6986/6986 [==============================] - 1s 93us/step - loss: 0.7142 - val_loss: 0.6649\n",
      "Epoch 15/500\n",
      "6986/6986 [==============================] - 1s 89us/step - loss: 0.7072 - val_loss: 0.6525\n",
      "Epoch 16/500\n",
      "6986/6986 [==============================] - 1s 89us/step - loss: 0.7098 - val_loss: 0.6610\n",
      "Epoch 17/500\n",
      "6986/6986 [==============================] - 1s 89us/step - loss: 0.7054 - val_loss: 0.6606\n",
      "Epoch 18/500\n",
      "6986/6986 [==============================] - 1s 98us/step - loss: 0.6970 - val_loss: 0.6488\n",
      "Epoch 19/500\n",
      "6986/6986 [==============================] - 1s 95us/step - loss: 0.7020 - val_loss: 0.6622\n",
      "Epoch 20/500\n",
      "6986/6986 [==============================] - 1s 96us/step - loss: 0.7042 - val_loss: 0.6493\n",
      "Epoch 21/500\n",
      "6986/6986 [==============================] - 1s 100us/step - loss: 0.7001 - val_loss: 0.6592\n",
      "Epoch 22/500\n",
      "6986/6986 [==============================] - 1s 91us/step - loss: 0.6972 - val_loss: 0.6523\n",
      "Epoch 23/500\n",
      "6986/6986 [==============================] - 1s 92us/step - loss: 0.7019 - val_loss: 0.6496\n",
      "Epoch 24/500\n",
      "6986/6986 [==============================] - 1s 93us/step - loss: 0.7028 - val_loss: 0.6458\n",
      "Epoch 25/500\n",
      "6986/6986 [==============================] - 1s 108us/step - loss: 0.6929 - val_loss: 0.6406\n",
      "Epoch 26/500\n",
      "6986/6986 [==============================] - 1s 93us/step - loss: 0.6973 - val_loss: 0.6423\n",
      "Epoch 27/500\n",
      "6986/6986 [==============================] - 1s 91us/step - loss: 0.6979 - val_loss: 0.6469\n",
      "Epoch 28/500\n",
      "6986/6986 [==============================] - 1s 108us/step - loss: 0.6970 - val_loss: 0.6408\n",
      "Epoch 29/500\n",
      "6986/6986 [==============================] - 1s 93us/step - loss: 0.7000 - val_loss: 0.6372\n",
      "Epoch 30/500\n",
      "6986/6986 [==============================] - 1s 92us/step - loss: 0.6921 - val_loss: 0.6526\n",
      "Epoch 31/500\n",
      "6986/6986 [==============================] - 1s 100us/step - loss: 0.6975 - val_loss: 0.6399\n",
      "Epoch 32/500\n",
      "6986/6986 [==============================] - 1s 101us/step - loss: 0.7020 - val_loss: 0.6530\n",
      "Epoch 33/500\n",
      "6986/6986 [==============================] - 1s 87us/step - loss: 0.6885 - val_loss: 0.6403\n",
      "Epoch 34/500\n",
      "6986/6986 [==============================] - 1s 92us/step - loss: 0.6886 - val_loss: 0.6579\n",
      "Epoch 35/500\n",
      "6986/6986 [==============================] - 1s 108us/step - loss: 0.6995 - val_loss: 0.6374\n",
      "Epoch 36/500\n",
      "6986/6986 [==============================] - 1s 88us/step - loss: 0.6965 - val_loss: 0.6405\n",
      "Epoch 37/500\n",
      "6986/6986 [==============================] - 1s 95us/step - loss: 0.6973 - val_loss: 0.6444\n",
      "Epoch 38/500\n",
      "6986/6986 [==============================] - 1s 98us/step - loss: 0.6877 - val_loss: 0.6404\n",
      "Epoch 39/500\n",
      "6986/6986 [==============================] - 1s 109us/step - loss: 0.6885 - val_loss: 0.6425\n",
      "Epoch 40/500\n",
      "6986/6986 [==============================] - 1s 96us/step - loss: 0.6907 - val_loss: 0.6505\n",
      "Epoch 41/500\n",
      "6986/6986 [==============================] - 1s 96us/step - loss: 0.6855 - val_loss: 0.6631\n",
      "Epoch 42/500\n",
      "6986/6986 [==============================] - 1s 91us/step - loss: 0.6867 - val_loss: 0.6473\n",
      "Epoch 43/500\n",
      "6986/6986 [==============================] - 1s 94us/step - loss: 0.6880 - val_loss: 0.6425\n",
      "Epoch 44/500\n",
      "6986/6986 [==============================] - 1s 110us/step - loss: 0.6938 - val_loss: 0.6451\n",
      "Epoch 45/500\n",
      "6986/6986 [==============================] - 1s 94us/step - loss: 0.6848 - val_loss: 0.6364\n",
      "Epoch 46/500\n",
      "6986/6986 [==============================] - 1s 109us/step - loss: 0.6910 - val_loss: 0.6391\n",
      "Epoch 47/500\n",
      "6986/6986 [==============================] - 1s 93us/step - loss: 0.6768 - val_loss: 0.6406\n",
      "Epoch 48/500\n",
      "6986/6986 [==============================] - 1s 93us/step - loss: 0.6913 - val_loss: 0.6381\n",
      "Epoch 49/500\n",
      "6986/6986 [==============================] - 1s 93us/step - loss: 0.6927 - val_loss: 0.6425\n",
      "Epoch 50/500\n",
      "6986/6986 [==============================] - 1s 93us/step - loss: 0.6910 - val_loss: 0.6500\n",
      "Epoch 51/500\n",
      "6986/6986 [==============================] - 1s 92us/step - loss: 0.6801 - val_loss: 0.6398\n",
      "Epoch 52/500\n",
      "6986/6986 [==============================] - 1s 95us/step - loss: 0.6915 - val_loss: 0.6397\n",
      "Epoch 53/500\n",
      "6986/6986 [==============================] - 1s 105us/step - loss: 0.6798 - val_loss: 0.6513\n",
      "Epoch 54/500\n",
      "6986/6986 [==============================] - 1s 95us/step - loss: 0.6906 - val_loss: 0.6353\n",
      "Epoch 55/500\n",
      "6986/6986 [==============================] - 1s 95us/step - loss: 0.6814 - val_loss: 0.6398\n",
      "Epoch 56/500\n",
      "6986/6986 [==============================] - 1s 101us/step - loss: 0.6808 - val_loss: 0.6410\n",
      "Epoch 57/500\n",
      "6986/6986 [==============================] - 1s 93us/step - loss: 0.6726 - val_loss: 0.6492\n",
      "Epoch 58/500\n",
      "6986/6986 [==============================] - 1s 94us/step - loss: 0.6718 - val_loss: 0.6416\n",
      "Epoch 59/500\n",
      "6986/6986 [==============================] - 1s 104us/step - loss: 0.6851 - val_loss: 0.6349\n",
      "Epoch 60/500\n",
      "6986/6986 [==============================] - 1s 99us/step - loss: 0.6721 - val_loss: 0.6408\n",
      "Epoch 61/500\n",
      "6986/6986 [==============================] - 1s 94us/step - loss: 0.6661 - val_loss: 0.6383\n",
      "Epoch 62/500\n",
      "6986/6986 [==============================] - 1s 95us/step - loss: 0.6859 - val_loss: 0.6544\n",
      "Epoch 63/500\n",
      "6986/6986 [==============================] - 1s 103us/step - loss: 0.6763 - val_loss: 0.6487\n",
      "Epoch 64/500\n",
      "6986/6986 [==============================] - 1s 94us/step - loss: 0.6848 - val_loss: 0.6392\n",
      "Epoch 65/500\n",
      "6986/6986 [==============================] - 1s 95us/step - loss: 0.6899 - val_loss: 0.6508\n",
      "Epoch 66/500\n",
      "6986/6986 [==============================] - 1s 108us/step - loss: 0.6770 - val_loss: 0.6424\n",
      "Epoch 67/500\n",
      "6986/6986 [==============================] - 1s 94us/step - loss: 0.6823 - val_loss: 0.6375\n",
      "Epoch 68/500\n",
      "6986/6986 [==============================] - 1s 95us/step - loss: 0.6828 - val_loss: 0.6474\n",
      "Epoch 69/500\n",
      "6986/6986 [==============================] - 1s 100us/step - loss: 0.6876 - val_loss: 0.6383\n",
      "Epoch 70/500\n",
      "6986/6986 [==============================] - 1s 98us/step - loss: 0.6828 - val_loss: 0.6435\n",
      "Epoch 71/500\n",
      "6986/6986 [==============================] - 1s 94us/step - loss: 0.6758 - val_loss: 0.6417\n",
      "Epoch 72/500\n",
      "6986/6986 [==============================] - 1s 93us/step - loss: 0.6772 - val_loss: 0.6334\n",
      "Epoch 73/500\n",
      "6986/6986 [==============================] - 1s 109us/step - loss: 0.6842 - val_loss: 0.6432\n",
      "Epoch 74/500\n",
      "6986/6986 [==============================] - 1s 93us/step - loss: 0.6746 - val_loss: 0.6408\n",
      "Epoch 75/500\n",
      "6986/6986 [==============================] - 1s 96us/step - loss: 0.6847 - val_loss: 0.6451\n",
      "Epoch 76/500\n",
      "6986/6986 [==============================] - 1s 108us/step - loss: 0.6803 - val_loss: 0.6419\n",
      "Epoch 77/500\n",
      "6986/6986 [==============================] - 1s 98us/step - loss: 0.6751 - val_loss: 0.6375\n",
      "Epoch 78/500\n"
     ]
    },
    {
     "name": "stdout",
     "output_type": "stream",
     "text": [
      "6986/6986 [==============================] - 1s 84us/step - loss: 0.6643 - val_loss: 0.6486\n",
      "Epoch 79/500\n",
      "6986/6986 [==============================] - 1s 82us/step - loss: 0.6802 - val_loss: 0.6349\n",
      "Epoch 80/500\n",
      "6986/6986 [==============================] - 1s 79us/step - loss: 0.6753 - val_loss: 0.6412\n",
      "Epoch 81/500\n",
      "6986/6986 [==============================] - 1s 94us/step - loss: 0.6722 - val_loss: 0.6406\n",
      "Epoch 82/500\n",
      "6986/6986 [==============================] - 1s 79us/step - loss: 0.6748 - val_loss: 0.6335\n",
      "Epoch 83/500\n",
      "6986/6986 [==============================] - 1s 92us/step - loss: 0.6827 - val_loss: 0.6466\n",
      "Epoch 84/500\n",
      "6986/6986 [==============================] - 1s 86us/step - loss: 0.6698 - val_loss: 0.6389\n",
      "Epoch 85/500\n",
      "6986/6986 [==============================] - 1s 85us/step - loss: 0.6787 - val_loss: 0.6389\n",
      "Epoch 86/500\n",
      "6986/6986 [==============================] - 1s 82us/step - loss: 0.6745 - val_loss: 0.6391\n",
      "Epoch 87/500\n",
      "6986/6986 [==============================] - 1s 85us/step - loss: 0.6702 - val_loss: 0.6438\n",
      "Epoch 88/500\n",
      "6986/6986 [==============================] - 1s 83us/step - loss: 0.6716 - val_loss: 0.6406\n",
      "Epoch 89/500\n",
      "6986/6986 [==============================] - 1s 80us/step - loss: 0.6839 - val_loss: 0.6416\n",
      "Epoch 90/500\n",
      "6986/6986 [==============================] - 1s 88us/step - loss: 0.6748 - val_loss: 0.6453\n",
      "Epoch 91/500\n",
      "6986/6986 [==============================] - 1s 90us/step - loss: 0.6600 - val_loss: 0.6588\n",
      "Epoch 92/500\n",
      "6986/6986 [==============================] - 1s 84us/step - loss: 0.6722 - val_loss: 0.6389\n",
      "Epoch 93/500\n",
      "6986/6986 [==============================] - 1s 85us/step - loss: 0.6651 - val_loss: 0.6436\n",
      "Epoch 94/500\n",
      "6986/6986 [==============================] - 1s 85us/step - loss: 0.6793 - val_loss: 0.6441\n",
      "Epoch 95/500\n",
      "6986/6986 [==============================] - 1s 84us/step - loss: 0.6716 - val_loss: 0.6455\n",
      "Epoch 96/500\n",
      "6986/6986 [==============================] - 1s 84us/step - loss: 0.6586 - val_loss: 0.6422\n",
      "Epoch 97/500\n",
      "6986/6986 [==============================] - 1s 84us/step - loss: 0.6744 - val_loss: 0.6320\n",
      "Epoch 98/500\n",
      "6986/6986 [==============================] - 1s 85us/step - loss: 0.6702 - val_loss: 0.6378\n",
      "Epoch 99/500\n",
      "6986/6986 [==============================] - 1s 88us/step - loss: 0.6723 - val_loss: 0.6444\n",
      "Epoch 100/500\n",
      "6986/6986 [==============================] - 1s 99us/step - loss: 0.6561 - val_loss: 0.6315\n",
      "Epoch 101/500\n",
      "6986/6986 [==============================] - 1s 86us/step - loss: 0.6745 - val_loss: 0.6346\n",
      "Epoch 102/500\n",
      "6986/6986 [==============================] - 1s 85us/step - loss: 0.6686 - val_loss: 0.6345\n",
      "Epoch 103/500\n",
      "6986/6986 [==============================] - 1s 85us/step - loss: 0.6652 - val_loss: 0.6410\n",
      "Epoch 104/500\n",
      "6986/6986 [==============================] - 1s 85us/step - loss: 0.6738 - val_loss: 0.6417\n",
      "Epoch 105/500\n",
      "6986/6986 [==============================] - 1s 87us/step - loss: 0.6688 - val_loss: 0.6464\n",
      "Epoch 106/500\n",
      "6986/6986 [==============================] - 1s 86us/step - loss: 0.6632 - val_loss: 0.6389\n",
      "Epoch 107/500\n",
      "6986/6986 [==============================] - 1s 91us/step - loss: 0.6649 - val_loss: 0.6371\n",
      "Epoch 108/500\n",
      "6986/6986 [==============================] - 1s 93us/step - loss: 0.6627 - val_loss: 0.6447\n",
      "Epoch 109/500\n",
      "6986/6986 [==============================] - 1s 87us/step - loss: 0.6583 - val_loss: 0.6427\n",
      "Epoch 110/500\n",
      "6986/6986 [==============================] - 1s 86us/step - loss: 0.6643 - val_loss: 0.6383\n",
      "Epoch 111/500\n",
      "6986/6986 [==============================] - 1s 87us/step - loss: 0.6628 - val_loss: 0.6434\n",
      "Epoch 112/500\n",
      "6986/6986 [==============================] - 1s 86us/step - loss: 0.6674 - val_loss: 0.6370\n",
      "Epoch 113/500\n",
      "6986/6986 [==============================] - 1s 95us/step - loss: 0.6845 - val_loss: 0.6426\n",
      "Epoch 114/500\n",
      "6986/6986 [==============================] - 1s 92us/step - loss: 0.6705 - val_loss: 0.6496\n",
      "Epoch 115/500\n",
      "6986/6986 [==============================] - 1s 88us/step - loss: 0.6701 - val_loss: 0.6397\n",
      "Epoch 116/500\n",
      "6986/6986 [==============================] - 1s 87us/step - loss: 0.6649 - val_loss: 0.6395\n",
      "Epoch 117/500\n",
      "6986/6986 [==============================] - 1s 99us/step - loss: 0.6563 - val_loss: 0.6495\n",
      "Epoch 118/500\n",
      "6986/6986 [==============================] - 1s 91us/step - loss: 0.6602 - val_loss: 0.6297\n",
      "Epoch 119/500\n",
      "6986/6986 [==============================] - 1s 88us/step - loss: 0.6590 - val_loss: 0.6442\n",
      "Epoch 120/500\n",
      "6986/6986 [==============================] - 1s 86us/step - loss: 0.6660 - val_loss: 0.6390\n",
      "Epoch 121/500\n",
      "6986/6986 [==============================] - 1s 101us/step - loss: 0.6653 - val_loss: 0.6423\n",
      "Epoch 122/500\n",
      "6986/6986 [==============================] - 1s 85us/step - loss: 0.6745 - val_loss: 0.6412\n",
      "Epoch 123/500\n",
      "6986/6986 [==============================] - 1s 87us/step - loss: 0.6691 - val_loss: 0.6451\n",
      "Epoch 124/500\n",
      "6986/6986 [==============================] - 1s 91us/step - loss: 0.6624 - val_loss: 0.6384\n",
      "Epoch 125/500\n",
      "6986/6986 [==============================] - 1s 99us/step - loss: 0.6628 - val_loss: 0.6392\n",
      "Epoch 126/500\n",
      "6986/6986 [==============================] - 1s 90us/step - loss: 0.6616 - val_loss: 0.6361\n",
      "Epoch 127/500\n",
      "6986/6986 [==============================] - 1s 95us/step - loss: 0.6717 - val_loss: 0.6362\n",
      "Epoch 128/500\n",
      "6986/6986 [==============================] - 1s 95us/step - loss: 0.6589 - val_loss: 0.6429\n",
      "Epoch 129/500\n",
      "6986/6986 [==============================] - 1s 95us/step - loss: 0.6538 - val_loss: 0.6377\n",
      "Epoch 130/500\n",
      "6986/6986 [==============================] - 1s 89us/step - loss: 0.6649 - val_loss: 0.6344\n",
      "Epoch 131/500\n",
      "6986/6986 [==============================] - 1s 95us/step - loss: 0.6535 - val_loss: 0.6378\n",
      "Epoch 132/500\n",
      "6986/6986 [==============================] - 1s 93us/step - loss: 0.6614 - val_loss: 0.6481\n",
      "Epoch 133/500\n",
      "6986/6986 [==============================] - 1s 86us/step - loss: 0.6599 - val_loss: 0.6480\n",
      "Epoch 134/500\n",
      "6986/6986 [==============================] - 1s 87us/step - loss: 0.6512 - val_loss: 0.6376\n",
      "Epoch 135/500\n",
      "6986/6986 [==============================] - 1s 86us/step - loss: 0.6581 - val_loss: 0.6382\n",
      "Epoch 136/500\n",
      "6986/6986 [==============================] - 1s 101us/step - loss: 0.6598 - val_loss: 0.6364\n",
      "Epoch 137/500\n",
      "6986/6986 [==============================] - 1s 86us/step - loss: 0.6662 - val_loss: 0.6411\n",
      "Epoch 138/500\n",
      "6986/6986 [==============================] - 1s 88us/step - loss: 0.6686 - val_loss: 0.6586\n",
      "Epoch 139/500\n",
      "6986/6986 [==============================] - 1s 94us/step - loss: 0.6625 - val_loss: 0.6373\n",
      "Epoch 140/500\n",
      "6986/6986 [==============================] - 1s 87us/step - loss: 0.6521 - val_loss: 0.6374\n",
      "Epoch 141/500\n",
      "6986/6986 [==============================] - 1s 88us/step - loss: 0.6682 - val_loss: 0.6471\n",
      "Epoch 142/500\n",
      "6986/6986 [==============================] - 1s 88us/step - loss: 0.6629 - val_loss: 0.6364\n",
      "Epoch 143/500\n",
      "6986/6986 [==============================] - 1s 91us/step - loss: 0.6484 - val_loss: 0.6406\n",
      "Epoch 144/500\n",
      "6986/6986 [==============================] - 1s 100us/step - loss: 0.6476 - val_loss: 0.6520\n",
      "Epoch 145/500\n",
      "6986/6986 [==============================] - 1s 91us/step - loss: 0.6620 - val_loss: 0.6409\n",
      "Epoch 146/500\n",
      "6986/6986 [==============================] - 1s 88us/step - loss: 0.6607 - val_loss: 0.6455\n",
      "Epoch 147/500\n",
      "6986/6986 [==============================] - 1s 87us/step - loss: 0.6394 - val_loss: 0.6463\n",
      "Epoch 148/500\n",
      "6986/6986 [==============================] - 1s 88us/step - loss: 0.6567 - val_loss: 0.6488\n",
      "Epoch 149/500\n",
      "6986/6986 [==============================] - 1s 98us/step - loss: 0.6499 - val_loss: 0.6435\n",
      "Epoch 150/500\n",
      "6986/6986 [==============================] - 1s 88us/step - loss: 0.6593 - val_loss: 0.6484\n",
      "Epoch 151/500\n",
      "6986/6986 [==============================] - 1s 102us/step - loss: 0.6449 - val_loss: 0.6471\n",
      "Epoch 152/500\n",
      "6986/6986 [==============================] - 1s 92us/step - loss: 0.6636 - val_loss: 0.6501\n",
      "Epoch 153/500\n",
      "6986/6986 [==============================] - 1s 89us/step - loss: 0.6473 - val_loss: 0.6398\n",
      "Epoch 154/500\n",
      "6986/6986 [==============================] - 1s 91us/step - loss: 0.6607 - val_loss: 0.6342\n",
      "Epoch 155/500\n"
     ]
    },
    {
     "name": "stdout",
     "output_type": "stream",
     "text": [
      "6986/6986 [==============================] - 1s 81us/step - loss: 0.6583 - val_loss: 0.6416\n",
      "Epoch 156/500\n",
      "6986/6986 [==============================] - 1s 79us/step - loss: 0.6527 - val_loss: 0.6416\n",
      "Epoch 157/500\n",
      "6986/6986 [==============================] - 1s 80us/step - loss: 0.6627 - val_loss: 0.6428\n",
      "Epoch 158/500\n",
      "6986/6986 [==============================] - 1s 86us/step - loss: 0.6587 - val_loss: 0.6389\n",
      "Epoch 159/500\n",
      "6986/6986 [==============================] - 1s 85us/step - loss: 0.6597 - val_loss: 0.6428\n",
      "Epoch 160/500\n",
      "6986/6986 [==============================] - 1s 80us/step - loss: 0.6470 - val_loss: 0.6447\n",
      "Epoch 161/500\n",
      "6986/6986 [==============================] - 1s 95us/step - loss: 0.6514 - val_loss: 0.6383\n",
      "Epoch 162/500\n",
      "6986/6986 [==============================] - 1s 84us/step - loss: 0.6569 - val_loss: 0.6399\n",
      "Epoch 163/500\n",
      "6986/6986 [==============================] - 1s 85us/step - loss: 0.6463 - val_loss: 0.6421\n",
      "Epoch 164/500\n",
      "6986/6986 [==============================] - 1s 84us/step - loss: 0.6604 - val_loss: 0.6364\n",
      "Epoch 165/500\n",
      "6986/6986 [==============================] - 1s 84us/step - loss: 0.6500 - val_loss: 0.6413\n",
      "Epoch 166/500\n",
      "6986/6986 [==============================] - 1s 99us/step - loss: 0.6654 - val_loss: 0.6436\n",
      "Epoch 167/500\n",
      "6986/6986 [==============================] - 1s 83us/step - loss: 0.6433 - val_loss: 0.6441\n",
      "Epoch 168/500\n",
      "6986/6986 [==============================] - 1s 85us/step - loss: 0.6620 - val_loss: 0.6283\n",
      "Epoch 169/500\n",
      "6986/6986 [==============================] - 1s 98us/step - loss: 0.6607 - val_loss: 0.6335\n",
      "Epoch 170/500\n",
      "6986/6986 [==============================] - 1s 85us/step - loss: 0.6515 - val_loss: 0.6410\n",
      "Epoch 171/500\n",
      "6986/6986 [==============================] - 1s 89us/step - loss: 0.6478 - val_loss: 0.6362\n",
      "Epoch 172/500\n",
      "6986/6986 [==============================] - 1s 88us/step - loss: 0.6566 - val_loss: 0.6335\n",
      "Epoch 173/500\n",
      "6986/6986 [==============================] - 1s 84us/step - loss: 0.6592 - val_loss: 0.6554\n",
      "Epoch 174/500\n",
      "6986/6986 [==============================] - 1s 109us/step - loss: 0.6587 - val_loss: 0.6415\n",
      "Epoch 175/500\n",
      "6986/6986 [==============================] - 1s 87us/step - loss: 0.6607 - val_loss: 0.6392\n",
      "Epoch 176/500\n",
      "6986/6986 [==============================] - 1s 86us/step - loss: 0.6610 - val_loss: 0.6524\n",
      "Epoch 177/500\n",
      "6986/6986 [==============================] - 1s 94us/step - loss: 0.6566 - val_loss: 0.6421\n",
      "Epoch 178/500\n",
      "6986/6986 [==============================] - 1s 82us/step - loss: 0.6443 - val_loss: 0.6361\n",
      "Epoch 179/500\n",
      "6986/6986 [==============================] - 1s 95us/step - loss: 0.6482 - val_loss: 0.6421\n",
      "Epoch 180/500\n",
      "6986/6986 [==============================] - 1s 87us/step - loss: 0.6478 - val_loss: 0.6441\n",
      "Epoch 181/500\n",
      "6986/6986 [==============================] - 1s 100us/step - loss: 0.6593 - val_loss: 0.6347\n",
      "Epoch 182/500\n",
      "6986/6986 [==============================] - 1s 86us/step - loss: 0.6628 - val_loss: 0.6396\n",
      "Epoch 183/500\n",
      "6986/6986 [==============================] - 1s 88us/step - loss: 0.6650 - val_loss: 0.6362\n",
      "Epoch 184/500\n",
      "6986/6986 [==============================] - 1s 93us/step - loss: 0.6453 - val_loss: 0.6471\n",
      "Epoch 185/500\n",
      "6986/6986 [==============================] - 1s 95us/step - loss: 0.6649 - val_loss: 0.6353\n",
      "Epoch 186/500\n",
      "6986/6986 [==============================] - 1s 92us/step - loss: 0.6447 - val_loss: 0.6477\n",
      "Epoch 187/500\n",
      "6986/6986 [==============================] - 1s 87us/step - loss: 0.6553 - val_loss: 0.6400\n",
      "Epoch 188/500\n",
      "6986/6986 [==============================] - 1s 87us/step - loss: 0.6543 - val_loss: 0.6407\n",
      "Epoch 189/500\n",
      "6986/6986 [==============================] - 1s 89us/step - loss: 0.6467 - val_loss: 0.6404\n",
      "Epoch 190/500\n",
      "6986/6986 [==============================] - 1s 95us/step - loss: 0.6506 - val_loss: 0.6444\n",
      "Epoch 191/500\n",
      "6986/6986 [==============================] - 1s 103us/step - loss: 0.6504 - val_loss: 0.6481\n",
      "Epoch 192/500\n",
      "6986/6986 [==============================] - 1s 93us/step - loss: 0.6407 - val_loss: 0.6431\n",
      "Epoch 193/500\n",
      "6986/6986 [==============================] - 1s 93us/step - loss: 0.6585 - val_loss: 0.6421\n",
      "Epoch 194/500\n",
      "6986/6986 [==============================] - 1s 88us/step - loss: 0.6502 - val_loss: 0.6488\n",
      "Epoch 195/500\n",
      "6986/6986 [==============================] - 1s 84us/step - loss: 0.6517 - val_loss: 0.6414\n",
      "Epoch 196/500\n",
      "6986/6986 [==============================] - 1s 84us/step - loss: 0.6500 - val_loss: 0.6429\n",
      "Epoch 197/500\n",
      "6986/6986 [==============================] - 1s 86us/step - loss: 0.6414 - val_loss: 0.6508\n",
      "Epoch 198/500\n",
      "6986/6986 [==============================] - 1s 91us/step - loss: 0.6559 - val_loss: 0.6375\n",
      "Epoch 199/500\n",
      "6986/6986 [==============================] - 1s 89us/step - loss: 0.6495 - val_loss: 0.6403\n",
      "Epoch 200/500\n",
      "6986/6986 [==============================] - 1s 85us/step - loss: 0.6498 - val_loss: 0.6400\n",
      "Epoch 201/500\n",
      "6986/6986 [==============================] - 1s 86us/step - loss: 0.6455 - val_loss: 0.6478\n",
      "Epoch 202/500\n",
      "6986/6986 [==============================] - 1s 92us/step - loss: 0.6543 - val_loss: 0.6487\n",
      "Epoch 203/500\n",
      "6986/6986 [==============================] - 1s 87us/step - loss: 0.6456 - val_loss: 0.6480\n",
      "Epoch 204/500\n",
      "6986/6986 [==============================] - 1s 86us/step - loss: 0.6523 - val_loss: 0.6385\n",
      "Epoch 205/500\n",
      "6986/6986 [==============================] - 1s 86us/step - loss: 0.6585 - val_loss: 0.6384\n",
      "Epoch 206/500\n",
      "6986/6986 [==============================] - 1s 85us/step - loss: 0.6493 - val_loss: 0.6431\n",
      "Epoch 207/500\n",
      "6986/6986 [==============================] - 1s 99us/step - loss: 0.6575 - val_loss: 0.6446\n",
      "Epoch 208/500\n",
      "6986/6986 [==============================] - 1s 88us/step - loss: 0.6605 - val_loss: 0.6418\n",
      "Epoch 209/500\n",
      "6986/6986 [==============================] - 1s 84us/step - loss: 0.6671 - val_loss: 0.6397\n",
      "Epoch 210/500\n",
      "6986/6986 [==============================] - 1s 88us/step - loss: 0.6476 - val_loss: 0.6384\n",
      "Epoch 211/500\n",
      "6986/6986 [==============================] - 1s 86us/step - loss: 0.6588 - val_loss: 0.6474\n",
      "Epoch 212/500\n",
      "6986/6986 [==============================] - 1s 87us/step - loss: 0.6406 - val_loss: 0.6424\n",
      "Epoch 213/500\n",
      "6986/6986 [==============================] - 1s 87us/step - loss: 0.6483 - val_loss: 0.6392\n",
      "Epoch 214/500\n",
      "6986/6986 [==============================] - 1s 99us/step - loss: 0.6507 - val_loss: 0.6601\n",
      "Epoch 215/500\n",
      "6986/6986 [==============================] - 1s 87us/step - loss: 0.6482 - val_loss: 0.6396\n",
      "Epoch 216/500\n",
      "6986/6986 [==============================] - 1s 88us/step - loss: 0.6501 - val_loss: 0.6379\n",
      "Epoch 217/500\n",
      "6986/6986 [==============================] - 1s 91us/step - loss: 0.6405 - val_loss: 0.6404\n",
      "Epoch 218/500\n",
      "6986/6986 [==============================] - 1s 87us/step - loss: 0.6466 - val_loss: 0.6376\n",
      "Epoch 219/500\n",
      "6986/6986 [==============================] - 1s 87us/step - loss: 0.6395 - val_loss: 0.6403\n",
      "Epoch 220/500\n",
      "6986/6986 [==============================] - 1s 87us/step - loss: 0.6471 - val_loss: 0.6454\n",
      "Epoch 221/500\n",
      "6986/6986 [==============================] - 1s 88us/step - loss: 0.6522 - val_loss: 0.6411\n",
      "Epoch 222/500\n",
      "6986/6986 [==============================] - 1s 102us/step - loss: 0.6507 - val_loss: 0.6426\n",
      "Epoch 223/500\n",
      "6986/6986 [==============================] - 1s 91us/step - loss: 0.6628 - val_loss: 0.6417\n",
      "Epoch 224/500\n",
      "6986/6986 [==============================] - 1s 91us/step - loss: 0.6517 - val_loss: 0.6377\n",
      "Epoch 225/500\n",
      "6986/6986 [==============================] - 1s 88us/step - loss: 0.6559 - val_loss: 0.6470\n",
      "Epoch 226/500\n",
      "6986/6986 [==============================] - 1s 91us/step - loss: 0.6408 - val_loss: 0.6385\n",
      "Epoch 227/500\n",
      "6986/6986 [==============================] - 1s 92us/step - loss: 0.6429 - val_loss: 0.6496\n",
      "Epoch 228/500\n",
      "6986/6986 [==============================] - 1s 89us/step - loss: 0.6476 - val_loss: 0.6408\n",
      "Epoch 229/500\n",
      "6986/6986 [==============================] - 1s 105us/step - loss: 0.6504 - val_loss: 0.6362\n",
      "Epoch 230/500\n",
      "6986/6986 [==============================] - 1s 89us/step - loss: 0.6485 - val_loss: 0.6496\n",
      "Epoch 231/500\n",
      "6986/6986 [==============================] - 1s 89us/step - loss: 0.6527 - val_loss: 0.6480\n",
      "Epoch 232/500\n"
     ]
    },
    {
     "name": "stdout",
     "output_type": "stream",
     "text": [
      "6986/6986 [==============================] - 1s 81us/step - loss: 0.6416 - val_loss: 0.6364\n",
      "Epoch 233/500\n",
      "6986/6986 [==============================] - 1s 79us/step - loss: 0.6415 - val_loss: 0.6432\n",
      "Epoch 234/500\n",
      "6986/6986 [==============================] - 1s 79us/step - loss: 0.6398 - val_loss: 0.6408\n",
      "Epoch 235/500\n",
      "6986/6986 [==============================] - 1s 78us/step - loss: 0.6428 - val_loss: 0.6410\n",
      "Epoch 236/500\n",
      "6986/6986 [==============================] - 1s 81us/step - loss: 0.6463 - val_loss: 0.6503\n",
      "Epoch 237/500\n",
      "6986/6986 [==============================] - 1s 92us/step - loss: 0.6431 - val_loss: 0.6458\n",
      "Epoch 238/500\n",
      "6986/6986 [==============================] - 1s 82us/step - loss: 0.6351 - val_loss: 0.6498\n",
      "Epoch 239/500\n",
      "6986/6986 [==============================] - 1s 83us/step - loss: 0.6377 - val_loss: 0.6418\n",
      "Epoch 240/500\n",
      "6986/6986 [==============================] - 1s 83us/step - loss: 0.6549 - val_loss: 0.6355\n",
      "Epoch 241/500\n",
      "6986/6986 [==============================] - 1s 85us/step - loss: 0.6590 - val_loss: 0.6400\n",
      "Epoch 242/500\n",
      "6986/6986 [==============================] - 1s 85us/step - loss: 0.6373 - val_loss: 0.6424\n",
      "Epoch 243/500\n",
      "6986/6986 [==============================] - 1s 83us/step - loss: 0.6338 - val_loss: 0.6382\n",
      "Epoch 244/500\n",
      "6986/6986 [==============================] - 1s 101us/step - loss: 0.6366 - val_loss: 0.6397\n",
      "Epoch 245/500\n",
      "6986/6986 [==============================] - 1s 87us/step - loss: 0.6570 - val_loss: 0.6367\n",
      "Epoch 246/500\n",
      "6986/6986 [==============================] - 1s 85us/step - loss: 0.6504 - val_loss: 0.6368\n",
      "Epoch 247/500\n",
      "6986/6986 [==============================] - 1s 85us/step - loss: 0.6456 - val_loss: 0.6419\n",
      "Epoch 248/500\n",
      "6986/6986 [==============================] - 1s 86us/step - loss: 0.6397 - val_loss: 0.6387\n",
      "Epoch 249/500\n",
      "6986/6986 [==============================] - 1s 85us/step - loss: 0.6521 - val_loss: 0.6412\n",
      "Epoch 250/500\n",
      "6986/6986 [==============================] - 1s 85us/step - loss: 0.6333 - val_loss: 0.6410\n",
      "Epoch 251/500\n",
      "6986/6986 [==============================] - 1s 86us/step - loss: 0.6384 - val_loss: 0.6401\n",
      "Epoch 252/500\n",
      "6986/6986 [==============================] - 1s 97us/step - loss: 0.6472 - val_loss: 0.6427\n",
      "Epoch 253/500\n",
      "6986/6986 [==============================] - 1s 86us/step - loss: 0.6456 - val_loss: 0.6447\n",
      "Epoch 254/500\n",
      "6986/6986 [==============================] - 1s 92us/step - loss: 0.6569 - val_loss: 0.6431\n",
      "Epoch 255/500\n",
      "6986/6986 [==============================] - 1s 88us/step - loss: 0.6404 - val_loss: 0.6399\n",
      "Epoch 256/500\n",
      "6986/6986 [==============================] - 1s 86us/step - loss: 0.6519 - val_loss: 0.6421\n",
      "Epoch 257/500\n",
      "6986/6986 [==============================] - 1s 86us/step - loss: 0.6397 - val_loss: 0.6460\n",
      "Epoch 258/500\n",
      "6986/6986 [==============================] - 1s 87us/step - loss: 0.6403 - val_loss: 0.6389\n",
      "Epoch 259/500\n",
      "6986/6986 [==============================] - 1s 98us/step - loss: 0.6441 - val_loss: 0.6418\n",
      "Epoch 260/500\n",
      "6986/6986 [==============================] - 1s 86us/step - loss: 0.6436 - val_loss: 0.6363\n",
      "Epoch 261/500\n",
      "6986/6986 [==============================] - 1s 85us/step - loss: 0.6303 - val_loss: 0.6387\n",
      "Epoch 262/500\n",
      "6986/6986 [==============================] - 1s 102us/step - loss: 0.6417 - val_loss: 0.6391\n",
      "Epoch 263/500\n",
      "6986/6986 [==============================] - 1s 87us/step - loss: 0.6496 - val_loss: 0.6385\n",
      "Epoch 264/500\n",
      "6986/6986 [==============================] - 1s 87us/step - loss: 0.6428 - val_loss: 0.6369\n",
      "Epoch 265/500\n",
      "6986/6986 [==============================] - 1s 90us/step - loss: 0.6544 - val_loss: 0.6363\n",
      "Epoch 266/500\n",
      "6986/6986 [==============================] - 1s 100us/step - loss: 0.6432 - val_loss: 0.6418\n",
      "Epoch 267/500\n",
      "6986/6986 [==============================] - 1s 91us/step - loss: 0.6402 - val_loss: 0.6423\n",
      "Epoch 268/500\n",
      "6986/6986 [==============================] - 1s 88us/step - loss: 0.6451 - val_loss: 0.6375\n",
      "Epoch 269/500\n",
      "6986/6986 [==============================] - 1s 88us/step - loss: 0.6509 - val_loss: 0.6468\n",
      "Epoch 270/500\n",
      "6986/6986 [==============================] - 1s 88us/step - loss: 0.6442 - val_loss: 0.6341\n",
      "Epoch 271/500\n",
      "6986/6986 [==============================] - 1s 88us/step - loss: 0.6396 - val_loss: 0.6401\n",
      "Epoch 272/500\n",
      "6986/6986 [==============================] - 1s 91us/step - loss: 0.6490 - val_loss: 0.6380\n",
      "Epoch 273/500\n",
      "6986/6986 [==============================] - 1s 86us/step - loss: 0.6411 - val_loss: 0.6463\n",
      "Epoch 274/500\n",
      "6986/6986 [==============================] - 1s 105us/step - loss: 0.6387 - val_loss: 0.6481\n",
      "Epoch 275/500\n",
      "6986/6986 [==============================] - 1s 90us/step - loss: 0.6407 - val_loss: 0.6382\n",
      "Epoch 276/500\n",
      "6986/6986 [==============================] - 1s 89us/step - loss: 0.6362 - val_loss: 0.6423\n",
      "Epoch 277/500\n",
      "6986/6986 [==============================] - 1s 102us/step - loss: 0.6424 - val_loss: 0.6394\n",
      "Epoch 278/500\n",
      "6986/6986 [==============================] - 1s 93us/step - loss: 0.6491 - val_loss: 0.6388\n",
      "Epoch 279/500\n",
      "6986/6986 [==============================] - 1s 92us/step - loss: 0.6365 - val_loss: 0.6394\n",
      "Epoch 280/500\n",
      "6986/6986 [==============================] - 1s 91us/step - loss: 0.6321 - val_loss: 0.6402\n",
      "Epoch 281/500\n",
      "6986/6986 [==============================] - 1s 88us/step - loss: 0.6456 - val_loss: 0.6422\n",
      "Epoch 282/500\n",
      "6986/6986 [==============================] - 1s 91us/step - loss: 0.6382 - val_loss: 0.6342\n",
      "Epoch 283/500\n",
      "6986/6986 [==============================] - 1s 94us/step - loss: 0.6454 - val_loss: 0.6381\n",
      "Epoch 284/500\n",
      "6986/6986 [==============================] - 1s 98us/step - loss: 0.6377 - val_loss: 0.6429\n",
      "Epoch 285/500\n",
      "6986/6986 [==============================] - 1s 92us/step - loss: 0.6370 - val_loss: 0.6410\n",
      "Epoch 286/500\n",
      "6986/6986 [==============================] - 1s 91us/step - loss: 0.6484 - val_loss: 0.6406\n",
      "Epoch 287/500\n",
      "6986/6986 [==============================] - 1s 91us/step - loss: 0.6325 - val_loss: 0.6389\n",
      "Epoch 288/500\n",
      "6986/6986 [==============================] - 1s 92us/step - loss: 0.6530 - val_loss: 0.6351\n",
      "Epoch 289/500\n",
      "6986/6986 [==============================] - 1s 91us/step - loss: 0.6428 - val_loss: 0.6528\n",
      "Epoch 290/500\n",
      "6986/6986 [==============================] - 1s 91us/step - loss: 0.6393 - val_loss: 0.6433\n",
      "Epoch 291/500\n",
      "6986/6986 [==============================] - 1s 107us/step - loss: 0.6408 - val_loss: 0.6471\n",
      "Epoch 292/500\n",
      "6986/6986 [==============================] - 1s 91us/step - loss: 0.6367 - val_loss: 0.6401\n",
      "Epoch 293/500\n",
      "6986/6986 [==============================] - 1s 92us/step - loss: 0.6255 - val_loss: 0.6541\n",
      "Epoch 294/500\n",
      "6986/6986 [==============================] - 1s 89us/step - loss: 0.6415 - val_loss: 0.6432\n",
      "Epoch 295/500\n",
      "6986/6986 [==============================] - 1s 93us/step - loss: 0.6538 - val_loss: 0.6414\n",
      "Epoch 296/500\n",
      "6986/6986 [==============================] - 1s 92us/step - loss: 0.6483 - val_loss: 0.6461\n",
      "Epoch 297/500\n",
      "6986/6986 [==============================] - 1s 93us/step - loss: 0.6362 - val_loss: 0.6336\n",
      "Epoch 298/500\n",
      "6986/6986 [==============================] - 1s 91us/step - loss: 0.6461 - val_loss: 0.6447\n",
      "Epoch 299/500\n",
      "6986/6986 [==============================] - 1s 107us/step - loss: 0.6419 - val_loss: 0.6468\n",
      "Epoch 300/500\n",
      "6986/6986 [==============================] - 1s 95us/step - loss: 0.6449 - val_loss: 0.6464\n",
      "Epoch 301/500\n",
      "6986/6986 [==============================] - 1s 93us/step - loss: 0.6448 - val_loss: 0.6515\n",
      "Epoch 302/500\n",
      "6986/6986 [==============================] - 1s 94us/step - loss: 0.6321 - val_loss: 0.6384\n",
      "Epoch 303/500\n",
      "6986/6986 [==============================] - 1s 95us/step - loss: 0.6423 - val_loss: 0.6396\n",
      "Epoch 304/500\n",
      "6986/6986 [==============================] - 1s 95us/step - loss: 0.6252 - val_loss: 0.6398\n",
      "Epoch 305/500\n",
      "6986/6986 [==============================] - 1s 94us/step - loss: 0.6459 - val_loss: 0.6383\n",
      "Epoch 306/500\n",
      "6986/6986 [==============================] - 1s 98us/step - loss: 0.6342 - val_loss: 0.6381\n",
      "Epoch 307/500\n",
      "6986/6986 [==============================] - 1s 93us/step - loss: 0.6322 - val_loss: 0.6449\n",
      "Epoch 308/500\n",
      "6986/6986 [==============================] - 1s 96us/step - loss: 0.6377 - val_loss: 0.6435\n",
      "Epoch 309/500\n"
     ]
    },
    {
     "name": "stdout",
     "output_type": "stream",
     "text": [
      "6986/6986 [==============================] - 1s 84us/step - loss: 0.6281 - val_loss: 0.6416\n",
      "Epoch 310/500\n",
      "6986/6986 [==============================] - 1s 84us/step - loss: 0.6322 - val_loss: 0.6378\n",
      "Epoch 311/500\n",
      "6986/6986 [==============================] - 1s 83us/step - loss: 0.6309 - val_loss: 0.6424\n",
      "Epoch 312/500\n",
      "6986/6986 [==============================] - 1s 84us/step - loss: 0.6434 - val_loss: 0.6450\n",
      "Epoch 313/500\n",
      "6986/6986 [==============================] - 1s 84us/step - loss: 0.6327 - val_loss: 0.6426\n",
      "Epoch 314/500\n",
      "6986/6986 [==============================] - 1s 82us/step - loss: 0.6351 - val_loss: 0.6404\n",
      "Epoch 315/500\n",
      "6986/6986 [==============================] - 1s 84us/step - loss: 0.6417 - val_loss: 0.6400\n",
      "Epoch 316/500\n",
      "6986/6986 [==============================] - 1s 83us/step - loss: 0.6355 - val_loss: 0.6421\n",
      "Epoch 317/500\n",
      "6986/6986 [==============================] - 1s 101us/step - loss: 0.6420 - val_loss: 0.6370\n",
      "Epoch 318/500\n",
      "6986/6986 [==============================] - 1s 92us/step - loss: 0.6423 - val_loss: 0.6397\n",
      "Epoch 319/500\n",
      "6986/6986 [==============================] - 0s 71us/step - loss: 0.6481 - val_loss: 0.6402\n",
      "Epoch 320/500\n",
      "6986/6986 [==============================] - 1s 105us/step - loss: 0.6390 - val_loss: 0.6457\n",
      "Epoch 321/500\n",
      "6986/6986 [==============================] - 1s 84us/step - loss: 0.6411 - val_loss: 0.6450\n",
      "Epoch 322/500\n",
      "6986/6986 [==============================] - 1s 83us/step - loss: 0.6450 - val_loss: 0.6440\n",
      "Epoch 323/500\n",
      "6986/6986 [==============================] - 1s 84us/step - loss: 0.6450 - val_loss: 0.6464\n",
      "Epoch 324/500\n",
      "6986/6986 [==============================] - 1s 86us/step - loss: 0.6229 - val_loss: 0.6397\n",
      "Epoch 325/500\n",
      "6986/6986 [==============================] - 1s 85us/step - loss: 0.6442 - val_loss: 0.6454\n",
      "Epoch 326/500\n",
      "6986/6986 [==============================] - 1s 86us/step - loss: 0.6430 - val_loss: 0.6380\n",
      "Epoch 327/500\n",
      "6986/6986 [==============================] - 1s 85us/step - loss: 0.6453 - val_loss: 0.6421\n",
      "Epoch 328/500\n",
      "6986/6986 [==============================] - 1s 86us/step - loss: 0.6388 - val_loss: 0.6482\n",
      "Epoch 329/500\n",
      "6986/6986 [==============================] - 1s 85us/step - loss: 0.6546 - val_loss: 0.6412\n",
      "Epoch 330/500\n",
      "6986/6986 [==============================] - 1s 85us/step - loss: 0.6477 - val_loss: 0.6409\n",
      "Epoch 331/500\n",
      "6986/6986 [==============================] - 1s 88us/step - loss: 0.6333 - val_loss: 0.6457\n",
      "Epoch 332/500\n",
      "6986/6986 [==============================] - 1s 84us/step - loss: 0.6501 - val_loss: 0.6490\n",
      "Epoch 333/500\n",
      "6986/6986 [==============================] - 1s 87us/step - loss: 0.6440 - val_loss: 0.6480\n",
      "Epoch 334/500\n",
      "6986/6986 [==============================] - 1s 86us/step - loss: 0.6475 - val_loss: 0.6340\n",
      "Epoch 335/500\n",
      "6986/6986 [==============================] - 1s 86us/step - loss: 0.6450 - val_loss: 0.6447\n",
      "Epoch 336/500\n",
      "6986/6986 [==============================] - 1s 86us/step - loss: 0.6277 - val_loss: 0.6373\n",
      "Epoch 337/500\n",
      "6986/6986 [==============================] - 1s 90us/step - loss: 0.6333 - val_loss: 0.6455\n",
      "Epoch 338/500\n",
      "6986/6986 [==============================] - 1s 90us/step - loss: 0.6272 - val_loss: 0.6392\n",
      "Epoch 339/500\n",
      "6986/6986 [==============================] - 1s 87us/step - loss: 0.6359 - val_loss: 0.6416\n",
      "Epoch 340/500\n",
      "6986/6986 [==============================] - 1s 88us/step - loss: 0.6449 - val_loss: 0.6409\n",
      "Epoch 341/500\n",
      "6986/6986 [==============================] - 1s 101us/step - loss: 0.6413 - val_loss: 0.6457\n",
      "Epoch 342/500\n",
      "6986/6986 [==============================] - 1s 85us/step - loss: 0.6300 - val_loss: 0.6481\n",
      "Epoch 343/500\n",
      "6986/6986 [==============================] - 1s 87us/step - loss: 0.6385 - val_loss: 0.6429\n",
      "Epoch 344/500\n",
      "6986/6986 [==============================] - 1s 88us/step - loss: 0.6390 - val_loss: 0.6444\n",
      "Epoch 345/500\n",
      "6986/6986 [==============================] - 1s 87us/step - loss: 0.6518 - val_loss: 0.6362\n",
      "Epoch 346/500\n",
      "6986/6986 [==============================] - 1s 88us/step - loss: 0.6387 - val_loss: 0.6434\n",
      "Epoch 347/500\n",
      "6986/6986 [==============================] - 1s 88us/step - loss: 0.6354 - val_loss: 0.6376\n",
      "Epoch 348/500\n",
      "6986/6986 [==============================] - 1s 87us/step - loss: 0.6321 - val_loss: 0.6401\n",
      "Epoch 349/500\n",
      "6986/6986 [==============================] - 1s 89us/step - loss: 0.6277 - val_loss: 0.6465\n",
      "Epoch 350/500\n",
      "6986/6986 [==============================] - 1s 87us/step - loss: 0.6416 - val_loss: 0.6413\n",
      "Epoch 351/500\n",
      "6986/6986 [==============================] - 1s 87us/step - loss: 0.6293 - val_loss: 0.6604\n",
      "Epoch 352/500\n",
      "6986/6986 [==============================] - 1s 91us/step - loss: 0.6357 - val_loss: 0.6454\n",
      "Epoch 353/500\n",
      "6986/6986 [==============================] - 1s 91us/step - loss: 0.6434 - val_loss: 0.6392\n",
      "Epoch 354/500\n",
      "6986/6986 [==============================] - 1s 87us/step - loss: 0.6419 - val_loss: 0.6412\n",
      "Epoch 355/500\n",
      "6986/6986 [==============================] - 1s 89us/step - loss: 0.6244 - val_loss: 0.6412\n",
      "Epoch 356/500\n",
      "6986/6986 [==============================] - 1s 92us/step - loss: 0.6362 - val_loss: 0.6462\n",
      "Epoch 357/500\n",
      "6986/6986 [==============================] - 1s 89us/step - loss: 0.6307 - val_loss: 0.6411\n",
      "Epoch 358/500\n",
      "6986/6986 [==============================] - 1s 90us/step - loss: 0.6495 - val_loss: 0.6427\n",
      "Epoch 359/500\n",
      "6986/6986 [==============================] - 1s 91us/step - loss: 0.6342 - val_loss: 0.6389\n",
      "Epoch 360/500\n",
      "6986/6986 [==============================] - 1s 84us/step - loss: 0.6341 - val_loss: 0.6412\n",
      "Epoch 361/500\n",
      "6986/6986 [==============================] - 1s 88us/step - loss: 0.6332 - val_loss: 0.6403\n",
      "Epoch 362/500\n",
      "6986/6986 [==============================] - 1s 93us/step - loss: 0.6341 - val_loss: 0.6500\n",
      "Epoch 363/500\n",
      "6986/6986 [==============================] - 1s 90us/step - loss: 0.6235 - val_loss: 0.6448\n",
      "Epoch 364/500\n",
      "6986/6986 [==============================] - 1s 92us/step - loss: 0.6429 - val_loss: 0.6405\n",
      "Epoch 365/500\n",
      "6986/6986 [==============================] - 1s 94us/step - loss: 0.6310 - val_loss: 0.6393\n",
      "Epoch 366/500\n",
      "6986/6986 [==============================] - 1s 89us/step - loss: 0.6340 - val_loss: 0.6394\n",
      "Epoch 367/500\n",
      "6986/6986 [==============================] - 1s 92us/step - loss: 0.6343 - val_loss: 0.6414\n",
      "Epoch 368/500\n",
      "6986/6986 [==============================] - 1s 92us/step - loss: 0.6483 - val_loss: 0.6318\n",
      "Epoch 369/500\n",
      "6986/6986 [==============================] - 1s 93us/step - loss: 0.6406 - val_loss: 0.6398\n",
      "Epoch 370/500\n",
      "6986/6986 [==============================] - 1s 91us/step - loss: 0.6287 - val_loss: 0.6361\n",
      "Epoch 371/500\n",
      "6986/6986 [==============================] - 1s 92us/step - loss: 0.6292 - val_loss: 0.6346\n",
      "Epoch 372/500\n",
      "6986/6986 [==============================] - 1s 92us/step - loss: 0.6268 - val_loss: 0.6365\n",
      "Epoch 373/500\n",
      "6986/6986 [==============================] - 1s 94us/step - loss: 0.6417 - val_loss: 0.6392\n",
      "Epoch 374/500\n",
      "6986/6986 [==============================] - 1s 93us/step - loss: 0.6439 - val_loss: 0.6412\n",
      "Epoch 375/500\n",
      "6986/6986 [==============================] - 1s 92us/step - loss: 0.6428 - val_loss: 0.6429\n",
      "Epoch 376/500\n",
      "6986/6986 [==============================] - 1s 93us/step - loss: 0.6328 - val_loss: 0.6379\n",
      "Epoch 377/500\n",
      "6986/6986 [==============================] - 1s 91us/step - loss: 0.6293 - val_loss: 0.6417\n",
      "Epoch 378/500\n",
      "6986/6986 [==============================] - 1s 92us/step - loss: 0.6372 - val_loss: 0.6418\n",
      "Epoch 379/500\n",
      "6986/6986 [==============================] - 1s 93us/step - loss: 0.6417 - val_loss: 0.6452\n",
      "Epoch 380/500\n",
      "6986/6986 [==============================] - 1s 94us/step - loss: 0.6306 - val_loss: 0.6394\n",
      "Epoch 381/500\n",
      "6986/6986 [==============================] - 1s 91us/step - loss: 0.6283 - val_loss: 0.6474\n",
      "Epoch 382/500\n",
      "6986/6986 [==============================] - 1s 94us/step - loss: 0.6358 - val_loss: 0.6424\n",
      "Epoch 383/500\n",
      "6986/6986 [==============================] - 1s 95us/step - loss: 0.6286 - val_loss: 0.6381\n",
      "Epoch 384/500\n",
      "6986/6986 [==============================] - 1s 95us/step - loss: 0.6342 - val_loss: 0.6355\n",
      "Epoch 385/500\n",
      "6986/6986 [==============================] - 1s 92us/step - loss: 0.6338 - val_loss: 0.6370\n",
      "Epoch 386/500\n"
     ]
    },
    {
     "name": "stdout",
     "output_type": "stream",
     "text": [
      "6986/6986 [==============================] - 1s 85us/step - loss: 0.6293 - val_loss: 0.6386\n",
      "Epoch 387/500\n",
      "6986/6986 [==============================] - 1s 83us/step - loss: 0.6381 - val_loss: 0.6359\n",
      "Epoch 388/500\n",
      "6986/6986 [==============================] - 1s 84us/step - loss: 0.6398 - val_loss: 0.6377\n",
      "Epoch 389/500\n",
      "6986/6986 [==============================] - 1s 83us/step - loss: 0.6239 - val_loss: 0.6391\n",
      "Epoch 390/500\n",
      "6986/6986 [==============================] - 1s 88us/step - loss: 0.6314 - val_loss: 0.6428\n",
      "Epoch 391/500\n",
      "6986/6986 [==============================] - 1s 84us/step - loss: 0.6334 - val_loss: 0.6391\n",
      "Epoch 392/500\n",
      "6986/6986 [==============================] - 1s 84us/step - loss: 0.6317 - val_loss: 0.6368\n",
      "Epoch 393/500\n",
      "6986/6986 [==============================] - 1s 81us/step - loss: 0.6324 - val_loss: 0.6367\n",
      "Epoch 394/500\n",
      "6986/6986 [==============================] - 1s 84us/step - loss: 0.6258 - val_loss: 0.6374\n",
      "Epoch 395/500\n",
      "6986/6986 [==============================] - 1s 83us/step - loss: 0.6273 - val_loss: 0.6380\n",
      "Epoch 396/500\n",
      "6986/6986 [==============================] - 1s 85us/step - loss: 0.6280 - val_loss: 0.6339\n",
      "Epoch 397/500\n",
      "6986/6986 [==============================] - 1s 85us/step - loss: 0.6430 - val_loss: 0.6418\n",
      "Epoch 398/500\n",
      "6986/6986 [==============================] - 1s 84us/step - loss: 0.6275 - val_loss: 0.6347\n",
      "Epoch 399/500\n",
      "6986/6986 [==============================] - 1s 84us/step - loss: 0.6319 - val_loss: 0.6378\n",
      "Epoch 400/500\n",
      "6986/6986 [==============================] - 1s 84us/step - loss: 0.6363 - val_loss: 0.6395\n",
      "Epoch 401/500\n",
      "6986/6986 [==============================] - 1s 83us/step - loss: 0.6252 - val_loss: 0.6370\n",
      "Epoch 402/500\n",
      "6986/6986 [==============================] - 1s 85us/step - loss: 0.6305 - val_loss: 0.6433\n",
      "Epoch 403/500\n",
      "6986/6986 [==============================] - 1s 84us/step - loss: 0.6248 - val_loss: 0.6398\n",
      "Epoch 404/500\n",
      "6986/6986 [==============================] - 1s 84us/step - loss: 0.6238 - val_loss: 0.6460\n",
      "Epoch 405/500\n",
      "6986/6986 [==============================] - 1s 84us/step - loss: 0.6349 - val_loss: 0.6408\n",
      "Epoch 406/500\n",
      "6986/6986 [==============================] - 1s 85us/step - loss: 0.6148 - val_loss: 0.6454\n",
      "Epoch 407/500\n",
      "6986/6986 [==============================] - 1s 86us/step - loss: 0.6380 - val_loss: 0.6463\n",
      "Epoch 408/500\n",
      "6986/6986 [==============================] - 1s 87us/step - loss: 0.6445 - val_loss: 0.6448\n",
      "Epoch 409/500\n",
      "6986/6986 [==============================] - 1s 84us/step - loss: 0.6195 - val_loss: 0.6394\n",
      "Epoch 410/500\n",
      "6986/6986 [==============================] - 1s 85us/step - loss: 0.6319 - val_loss: 0.6438\n",
      "Epoch 411/500\n",
      "6986/6986 [==============================] - 1s 86us/step - loss: 0.6187 - val_loss: 0.6399\n",
      "Epoch 412/500\n",
      "6986/6986 [==============================] - 1s 87us/step - loss: 0.6446 - val_loss: 0.6457\n",
      "Epoch 413/500\n",
      "6986/6986 [==============================] - 1s 86us/step - loss: 0.6391 - val_loss: 0.6371\n",
      "Epoch 414/500\n",
      "6986/6986 [==============================] - 1s 87us/step - loss: 0.6245 - val_loss: 0.6465\n",
      "Epoch 415/500\n",
      "6986/6986 [==============================] - 1s 87us/step - loss: 0.6244 - val_loss: 0.6563\n",
      "Epoch 416/500\n",
      "6986/6986 [==============================] - 1s 87us/step - loss: 0.6356 - val_loss: 0.6375\n",
      "Epoch 417/500\n",
      "6986/6986 [==============================] - 1s 88us/step - loss: 0.6302 - val_loss: 0.6514\n",
      "Epoch 418/500\n",
      "6986/6986 [==============================] - 1s 86us/step - loss: 0.6299 - val_loss: 0.6359\n",
      "Epoch 419/500\n",
      "6986/6986 [==============================] - 1s 86us/step - loss: 0.6352 - val_loss: 0.6376\n",
      "Epoch 420/500\n",
      "6986/6986 [==============================] - 1s 92us/step - loss: 0.6120 - val_loss: 0.6407\n",
      "Epoch 421/500\n",
      "6986/6986 [==============================] - 1s 87us/step - loss: 0.6326 - val_loss: 0.6427\n",
      "Epoch 422/500\n",
      "6986/6986 [==============================] - 1s 91us/step - loss: 0.6307 - val_loss: 0.6445\n",
      "Epoch 423/500\n",
      "6986/6986 [==============================] - 1s 90us/step - loss: 0.6304 - val_loss: 0.6378\n",
      "Epoch 424/500\n",
      "6986/6986 [==============================] - 1s 87us/step - loss: 0.6347 - val_loss: 0.6484\n",
      "Epoch 425/500\n",
      "6986/6986 [==============================] - 1s 89us/step - loss: 0.6185 - val_loss: 0.6401\n",
      "Epoch 426/500\n",
      "6986/6986 [==============================] - 1s 88us/step - loss: 0.6306 - val_loss: 0.6408\n",
      "Epoch 427/500\n",
      "6986/6986 [==============================] - 1s 91us/step - loss: 0.6286 - val_loss: 0.6407\n",
      "Epoch 428/500\n",
      "6986/6986 [==============================] - 1s 88us/step - loss: 0.6354 - val_loss: 0.6374\n",
      "Epoch 429/500\n",
      "6986/6986 [==============================] - 1s 88us/step - loss: 0.6195 - val_loss: 0.6385\n",
      "Epoch 430/500\n",
      "6986/6986 [==============================] - 1s 88us/step - loss: 0.6134 - val_loss: 0.6446\n",
      "Epoch 431/500\n",
      "6986/6986 [==============================] - 1s 91us/step - loss: 0.6224 - val_loss: 0.6404\n",
      "Epoch 432/500\n",
      "6986/6986 [==============================] - 1s 93us/step - loss: 0.6324 - val_loss: 0.6378\n",
      "Epoch 433/500\n",
      "6986/6986 [==============================] - 1s 92us/step - loss: 0.6237 - val_loss: 0.6393\n",
      "Epoch 434/500\n",
      "6986/6986 [==============================] - 1s 92us/step - loss: 0.6384 - val_loss: 0.6396\n",
      "Epoch 435/500\n",
      "6986/6986 [==============================] - 1s 91us/step - loss: 0.6302 - val_loss: 0.6382\n",
      "Epoch 436/500\n",
      "6986/6986 [==============================] - 1s 91us/step - loss: 0.6154 - val_loss: 0.6370\n",
      "Epoch 437/500\n",
      "6986/6986 [==============================] - 1s 93us/step - loss: 0.6354 - val_loss: 0.6438\n",
      "Epoch 438/500\n",
      "6986/6986 [==============================] - 1s 91us/step - loss: 0.6445 - val_loss: 0.6408\n",
      "Epoch 439/500\n",
      "6986/6986 [==============================] - 1s 92us/step - loss: 0.6294 - val_loss: 0.6393\n",
      "Epoch 440/500\n",
      "6986/6986 [==============================] - 1s 91us/step - loss: 0.6436 - val_loss: 0.6399\n",
      "Epoch 441/500\n",
      "6986/6986 [==============================] - 1s 94us/step - loss: 0.6328 - val_loss: 0.6476\n",
      "Epoch 442/500\n",
      "6986/6986 [==============================] - 1s 96us/step - loss: 0.6353 - val_loss: 0.6453\n",
      "Epoch 443/500\n",
      "6986/6986 [==============================] - 1s 92us/step - loss: 0.6214 - val_loss: 0.6368\n",
      "Epoch 444/500\n",
      "6986/6986 [==============================] - 1s 102us/step - loss: 0.6256 - val_loss: 0.6496\n",
      "Epoch 445/500\n",
      "6986/6986 [==============================] - 1s 93us/step - loss: 0.6268 - val_loss: 0.6441\n",
      "Epoch 446/500\n",
      "6986/6986 [==============================] - 1s 102us/step - loss: 0.6315 - val_loss: 0.6368\n",
      "Epoch 447/500\n",
      "6986/6986 [==============================] - 1s 100us/step - loss: 0.6324 - val_loss: 0.6370\n",
      "Epoch 448/500\n",
      "6986/6986 [==============================] - 1s 92us/step - loss: 0.6277 - val_loss: 0.6367\n",
      "Epoch 449/500\n",
      "6986/6986 [==============================] - 1s 76us/step - loss: 0.6308 - val_loss: 0.6384\n",
      "Epoch 450/500\n",
      "6986/6986 [==============================] - 1s 79us/step - loss: 0.6250 - val_loss: 0.6392\n",
      "Epoch 451/500\n",
      "6986/6986 [==============================] - 0s 71us/step - loss: 0.6404 - val_loss: 0.6417\n",
      "Epoch 452/500\n",
      "6986/6986 [==============================] - 0s 69us/step - loss: 0.6287 - val_loss: 0.6383\n",
      "Epoch 453/500\n",
      "6986/6986 [==============================] - 0s 69us/step - loss: 0.6225 - val_loss: 0.6436\n",
      "Epoch 454/500\n",
      "6986/6986 [==============================] - 1s 76us/step - loss: 0.6447 - val_loss: 0.6446\n",
      "Epoch 455/500\n",
      "6986/6986 [==============================] - 1s 98us/step - loss: 0.6293 - val_loss: 0.6502\n",
      "Epoch 456/500\n",
      "6986/6986 [==============================] - 1s 73us/step - loss: 0.6215 - val_loss: 0.6383\n",
      "Epoch 457/500\n",
      "6986/6986 [==============================] - 0s 71us/step - loss: 0.6328 - val_loss: 0.6417\n",
      "Epoch 458/500\n",
      "6986/6986 [==============================] - 0s 71us/step - loss: 0.6239 - val_loss: 0.6400\n",
      "Epoch 459/500\n",
      "6986/6986 [==============================] - 0s 70us/step - loss: 0.6325 - val_loss: 0.6419\n",
      "Epoch 460/500\n",
      "6986/6986 [==============================] - 1s 75us/step - loss: 0.6322 - val_loss: 0.6447\n",
      "Epoch 461/500\n",
      "6986/6986 [==============================] - 1s 76us/step - loss: 0.6292 - val_loss: 0.6417\n",
      "Epoch 462/500\n",
      "6986/6986 [==============================] - 0s 71us/step - loss: 0.6434 - val_loss: 0.6420\n",
      "Epoch 463/500\n"
     ]
    },
    {
     "name": "stdout",
     "output_type": "stream",
     "text": [
      "6986/6986 [==============================] - 0s 70us/step - loss: 0.6343 - val_loss: 0.6443\n",
      "Epoch 464/500\n",
      "6986/6986 [==============================] - 0s 70us/step - loss: 0.6314 - val_loss: 0.6357\n",
      "Epoch 465/500\n",
      "6986/6986 [==============================] - 1s 76us/step - loss: 0.6423 - val_loss: 0.6476\n",
      "Epoch 466/500\n",
      "6986/6986 [==============================] - 1s 74us/step - loss: 0.6316 - val_loss: 0.6402\n",
      "Epoch 467/500\n",
      "6986/6986 [==============================] - 0s 71us/step - loss: 0.6224 - val_loss: 0.6384\n",
      "Epoch 468/500\n",
      "6986/6986 [==============================] - 1s 72us/step - loss: 0.6235 - val_loss: 0.6398\n",
      "Epoch 469/500\n",
      "6986/6986 [==============================] - 1s 72us/step - loss: 0.6290 - val_loss: 0.6340\n",
      "Epoch 470/500\n",
      "6986/6986 [==============================] - 1s 73us/step - loss: 0.6306 - val_loss: 0.6421\n",
      "Epoch 471/500\n",
      "6986/6986 [==============================] - 0s 69us/step - loss: 0.6285 - val_loss: 0.6417\n",
      "Epoch 472/500\n",
      "6986/6986 [==============================] - 0s 70us/step - loss: 0.6287 - val_loss: 0.6360\n",
      "Epoch 473/500\n",
      "6986/6986 [==============================] - 1s 79us/step - loss: 0.6177 - val_loss: 0.6360\n",
      "Epoch 474/500\n",
      "6986/6986 [==============================] - 1s 80us/step - loss: 0.6223 - val_loss: 0.6371\n",
      "Epoch 475/500\n",
      "6986/6986 [==============================] - 0s 71us/step - loss: 0.6284 - val_loss: 0.6420\n",
      "Epoch 476/500\n",
      "6986/6986 [==============================] - 1s 72us/step - loss: 0.6343 - val_loss: 0.6376\n",
      "Epoch 477/500\n",
      "6986/6986 [==============================] - 1s 74us/step - loss: 0.6176 - val_loss: 0.6378\n",
      "Epoch 478/500\n",
      "6986/6986 [==============================] - 1s 75us/step - loss: 0.6156 - val_loss: 0.6364\n",
      "Epoch 479/500\n",
      "6986/6986 [==============================] - 1s 72us/step - loss: 0.6190 - val_loss: 0.6441\n",
      "Epoch 480/500\n",
      "6986/6986 [==============================] - 1s 75us/step - loss: 0.6328 - val_loss: 0.6388\n",
      "Epoch 481/500\n",
      "6986/6986 [==============================] - 0s 71us/step - loss: 0.6375 - val_loss: 0.6429\n",
      "Epoch 482/500\n",
      "6986/6986 [==============================] - 1s 74us/step - loss: 0.6335 - val_loss: 0.6310\n",
      "Epoch 483/500\n",
      "6986/6986 [==============================] - 1s 75us/step - loss: 0.6200 - val_loss: 0.6363\n",
      "Epoch 484/500\n",
      "6986/6986 [==============================] - 1s 73us/step - loss: 0.6336 - val_loss: 0.6359\n",
      "Epoch 485/500\n",
      "6986/6986 [==============================] - 1s 72us/step - loss: 0.6258 - val_loss: 0.6398\n",
      "Epoch 486/500\n",
      "6986/6986 [==============================] - 0s 70us/step - loss: 0.6295 - val_loss: 0.6441\n",
      "Epoch 487/500\n",
      "6986/6986 [==============================] - 0s 70us/step - loss: 0.6232 - val_loss: 0.6403\n",
      "Epoch 488/500\n",
      "6986/6986 [==============================] - 1s 73us/step - loss: 0.6355 - val_loss: 0.6375\n",
      "Epoch 489/500\n",
      "6986/6986 [==============================] - 1s 73us/step - loss: 0.6249 - val_loss: 0.6364\n",
      "Epoch 490/500\n",
      "6986/6986 [==============================] - 0s 69us/step - loss: 0.6436 - val_loss: 0.6453\n",
      "Epoch 491/500\n",
      "6986/6986 [==============================] - 1s 72us/step - loss: 0.6236 - val_loss: 0.6404\n",
      "Epoch 492/500\n",
      "6986/6986 [==============================] - 1s 74us/step - loss: 0.6273 - val_loss: 0.6369\n",
      "Epoch 493/500\n",
      "6986/6986 [==============================] - 1s 72us/step - loss: 0.6287 - val_loss: 0.6390\n",
      "Epoch 494/500\n",
      "6986/6986 [==============================] - 0s 69us/step - loss: 0.6217 - val_loss: 0.6452\n",
      "Epoch 495/500\n",
      "6986/6986 [==============================] - 0s 69us/step - loss: 0.6284 - val_loss: 0.6392\n",
      "Epoch 496/500\n",
      "6986/6986 [==============================] - 0s 67us/step - loss: 0.6455 - val_loss: 0.6392\n",
      "Epoch 497/500\n",
      "6986/6986 [==============================] - 0s 70us/step - loss: 0.6239 - val_loss: 0.6404\n",
      "Epoch 498/500\n",
      "6986/6986 [==============================] - 0s 68us/step - loss: 0.6200 - val_loss: 0.6412\n",
      "Epoch 499/500\n",
      "6986/6986 [==============================] - 0s 68us/step - loss: 0.6339 - val_loss: 0.6417\n",
      "Epoch 500/500\n",
      "6986/6986 [==============================] - 1s 72us/step - loss: 0.6271 - val_loss: 0.6387\n"
     ]
    }
   ],
   "source": [
    "time_start = time.time()\n",
    "dropout_rate = 0.4\n",
    "activation_function = \"elu\" # elu, relu, sigmoid, tanh, linear, softmax\n",
    "    \n",
    "model = Sequential()\n",
    "model.add(Dense(16, kernel_initializer='normal', activation = \"elu\", input_dim = trainX_scaled.shape[1]))\n",
    "model.add(Dropout(dropout_rate))\n",
    "model.add(Dense(8, kernel_initializer='normal', activation = \"elu\"))\n",
    "model.add(Dropout(dropout_rate))\n",
    "model.add(Dense(1, kernel_initializer='normal'))\n",
    "\n",
    "model.compile(loss = \"mean_squared_error\", optimizer = \"adam\") \n",
    "# mean_absolute_error, mean_squared_error;\n",
    "# SGD, adam, RMSprop, Adagrad, Adadelta, Adamax, Nadam\n",
    "train_history = model.fit(x = trainX_scaled, y = trainY_scaled, \n",
    "                                    epochs = 500, batch_size = 16, \n",
    "                                    validation_data = (testX_scaled, testY_scaled))\n",
    "model_history = train_history.history\n",
    "time_consumed = time.time() - time_start"
   ]
  },
  {
   "cell_type": "code",
   "execution_count": 59,
   "metadata": {},
   "outputs": [
    {
     "data": {
      "text/plain": [
       "315.00990056991577"
      ]
     },
     "execution_count": 59,
     "metadata": {},
     "output_type": "execute_result"
    }
   ],
   "source": [
    "time_consumed"
   ]
  },
  {
   "cell_type": "code",
   "execution_count": 60,
   "metadata": {
    "scrolled": false
   },
   "outputs": [
    {
     "name": "stdout",
     "output_type": "stream",
     "text": [
      "Model performance\n",
      "MSE: 64420.92165623727\n",
      "MAE: 164.33879310776672\n",
      "R2: 0.5045794354079499\n",
      "Mean Accuracy: -214.93344794271806 %\n"
     ]
    },
    {
     "data": {
      "image/png": "[encoded data removed]",
      "text/plain": [
       "<Figure size 432x288 with 1 Axes>"
      ]
     },
     "metadata": {
      "needs_background": "light"
     },
     "output_type": "display_data"
    },
    {
     "data": {
      "image/png": "[encoded data removed]",
      "text/plain": [
       "<Figure size 432x288 with 1 Axes>"
      ]
     },
     "metadata": {
      "needs_background": "light"
     },
     "output_type": "display_data"
    }
   ],
   "source": [
    "errors_train = model_NN_test(model, trainX_scaled, trainY_scaled, scaler_trainX, scaler_trainY)"
   ]
  },
  {
   "cell_type": "code",
   "execution_count": 61,
   "metadata": {},
   "outputs": [
    {
     "name": "stdout",
     "output_type": "stream",
     "text": [
      "Model performance\n",
      "MSE: 83524.73787365312\n",
      "MAE: 187.62338491390386\n",
      "R2: 0.34556281252162335\n",
      "Mean Accuracy: -438.6490293068266 %\n"
     ]
    },
    {
     "data": {
      "image/png": "[encoded data removed]",
      "text/plain": [
       "<Figure size 432x288 with 1 Axes>"
      ]
     },
     "metadata": {
      "needs_background": "light"
     },
     "output_type": "display_data"
    },
    {
     "data": {
      "image/png": "[encoded data removed]",
      "text/plain": [
       "<Figure size 432x288 with 1 Axes>"
      ]
     },
     "metadata": {
      "needs_background": "light"
     },
     "output_type": "display_data"
    }
   ],
   "source": [
    "errors_test = model_NN_test(model, testX_scaled, testY_scaled, scaler_trainX, scaler_trainY)"
   ]
  },
  {
   "cell_type": "code",
   "execution_count": 65,
   "metadata": {},
   "outputs": [
    {
     "data": {
      "text/plain": [
       "<matplotlib.legend.Legend at 0x7f50ec0a4da0>"
      ]
     },
     "execution_count": 65,
     "metadata": {},
     "output_type": "execute_result"
    },
    {
     "data": {
      "image/png": "[encoded data removed]",
      "text/plain": [
       "<Figure size 432x288 with 1 Axes>"
      ]
     },
     "metadata": {
      "needs_background": "light"
     },
     "output_type": "display_data"
    }
   ],
   "source": [
    "plt.plot(model_history['loss'], label = 'loss')\n",
    "plt.plot(model_history['val_loss'], label = 'val_loss')\n",
    "plt.legend(loc = \"best\")"
   ]
  },
  {
   "cell_type": "code",
   "execution_count": 32,
   "metadata": {},
   "outputs": [
    {
     "data": {
      "text/plain": [
       "3442"
      ]
     },
     "execution_count": 32,
     "metadata": {},
     "output_type": "execute_result"
    }
   ],
   "source": [
    "len(errors_test)"
   ]
  },
  {
   "cell_type": "code",
   "execution_count": 33,
   "metadata": {},
   "outputs": [
    {
     "data": {
      "text/plain": [
       "1568"
      ]
     },
     "execution_count": 33,
     "metadata": {},
     "output_type": "execute_result"
    }
   ],
   "source": [
    "len(errors_test[errors_test<0.5])"
   ]
  },
  {
   "cell_type": "code",
   "execution_count": 66,
   "metadata": {},
   "outputs": [],
   "source": [
    "# save history\n",
    "with open(\"model_500_history_2.json\", \"w\") as history_file:\n",
    "    history_file.write(json.dumps(train_history.history))"
   ]
  },
  {
   "cell_type": "code",
   "execution_count": 67,
   "metadata": {},
   "outputs": [],
   "source": [
    "# read history\n",
    "with open(\"model_500_history_2.json\") as history_file:\n",
    "        model_history = json.loads(history_file.read())"
   ]
  },
  {
   "cell_type": "code",
   "execution_count": 68,
   "metadata": {},
   "outputs": [],
   "source": [
    "# save model\n",
    "model.save(\"model_500_2.h5\")"
   ]
  },
  {
   "cell_type": "code",
   "execution_count": 69,
   "metadata": {},
   "outputs": [],
   "source": [
    "# read model\n",
    "model = keras.models.load_model('model_500_2.h5')"
   ]
  },
  {
   "cell_type": "code",
   "execution_count": 70,
   "metadata": {},
   "outputs": [
    {
     "name": "stdout",
     "output_type": "stream",
     "text": [
      "_________________________________________________________________\n",
      "Layer (type)                 Output Shape              Param #   \n",
      "=================================================================\n",
      "dense_7 (Dense)              (None, 32)                5792      \n",
      "_________________________________________________________________\n",
      "dropout_5 (Dropout)          (None, 32)                0         \n",
      "_________________________________________________________________\n",
      "dense_8 (Dense)              (None, 1)                 33        \n",
      "=================================================================\n",
      "Total params: 5,825\n",
      "Trainable params: 5,825\n",
      "Non-trainable params: 0\n",
      "_________________________________________________________________\n"
     ]
    }
   ],
   "source": [
    "model.summary()"
   ]
  },
  {
   "cell_type": "code",
   "execution_count": null,
   "metadata": {},
   "outputs": [],
   "source": [
    "def NN():\n",
    "    trainX = None\n",
    "    trainY = None\n",
    "    testX = None\n",
    "    testY = None\n",
    "    model = None\n",
    "    score = None\n",
    "    \n",
    "    def __init__ (self,\n",
    "                  dropout_layer_rate = 0.1,\n",
    "                  rnn_dropout_rate = 0.1,\n",
    "                  nb_epoch = 50,\n",
    "                  batch_size = 16,\n",
    "                  loss = 'mean_absolute_error',\n",
    "                  optimizer = 'adam',\n",
    "                  save_model = True,\n",
    "                  save_model_path = ''):\n",
    "\n",
    "        self.dropout_layer_rate = dropout_layer_rate\n",
    "        self.rnn_dropout_rate = rnn_dropout_rate\n",
    "        self.nb_epoch = nb_epoch\n",
    "        self.batch_size = batch_size\n",
    "        self.loss = loss\n",
    "        self.optimizer = optimizer #rmsprop, adam\n",
    "        self.save_model = save_model\n",
    "        self.save_model_path = save_model_path\n",
    "        \n",
    "    def NN_getData(self, trainX, trainY, testX, testY):\n",
    "        self.trainX = trainX\n",
    "        self.trainY = trainY\n",
    "        self.testX = testX\n",
    "        self.testY = testY\n",
    "\n",
    "        return True\n",
    "    \n",
    "    def NN_model_train(self):\n",
    "        trainX = self.trainX\n",
    "        trainY = self.trainY\n",
    "        testX = self.testX\n",
    "        testY = self.testY\n",
    "        model = self.model\n",
    "        dropout_layer_rate = self.dropout_layer_rate\n",
    "        rnn_dropout_rate = self.rnn_dropout_rate\n",
    "        \n",
    "        input_dim = trainX.shape\n",
    "        \n",
    "        model = Sequential()\n",
    "        model.add()"
   ]
  }
 ],
 "metadata": {
  "kernelspec": {
   "display_name": "Python 3",
   "language": "python",
   "name": "python3"
  },
  "language_info": {
   "codemirror_mode": {
    "name": "ipython",
    "version": 3
   },
   "file_extension": ".py",
   "mimetype": "text/x-python",
   "name": "python",
   "nbconvert_exporter": "python",
   "pygments_lexer": "ipython3",
   "version": "3.7.3"
  }
 },
 "nbformat": 4,
 "nbformat_minor": 2
}
