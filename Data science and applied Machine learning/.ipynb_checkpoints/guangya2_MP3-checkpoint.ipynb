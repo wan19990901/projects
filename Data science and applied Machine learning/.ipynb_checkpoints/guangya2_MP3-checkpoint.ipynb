{
 "cells": [
  {
   "cell_type": "raw",
   "metadata": {},
   "source": [
    "guangya2 Guangya Wan\n",
    "sizhit2 Sizhi Tan\n",
    "hanyuz2 Hanyu Zhang"
   ]
  },
  {
   "cell_type": "markdown",
   "metadata": {},
   "source": [
    "# Task 0"
   ]
  },
  {
   "cell_type": "code",
   "execution_count": 13,
   "metadata": {},
   "outputs": [],
   "source": [
    "import pyshark\n",
    "import pandas as pd"
   ]
  },
  {
   "cell_type": "markdown",
   "metadata": {},
   "source": [
    "## 2:"
   ]
  },
  {
   "cell_type": "code",
   "execution_count": 14,
   "metadata": {},
   "outputs": [],
   "source": [
    "df_data = []\n",
    "df_data1 = []\n",
    "df_data2 = []\n",
    "df_datad = []"
   ]
  },
  {
   "cell_type": "code",
   "execution_count": 15,
   "metadata": {},
   "outputs": [],
   "source": [
    "cap = pyshark.FileCapture('http.pcap', keep_packets=True)\n",
    "cap2 = pyshark.FileCapture('http2.pcap', keep_packets=True)\n",
    "capd = pyshark.FileCapture('dns.pcap', keep_packets=True)"
   ]
  },
  {
   "cell_type": "code",
   "execution_count": null,
   "metadata": {},
   "outputs": [],
   "source": [
    "cap.load_packets()\n",
    "cap2.load_packets()\n",
    "capd.load_packets()"
   ]
  },
  {
   "cell_type": "code",
   "execution_count": null,
   "metadata": {},
   "outputs": [],
   "source": [
    "for pkt in cap:\n",
    "    if len(pkt.layers) < 4:\n",
    "        continue\n",
    "    try:\n",
    "        d = {\n",
    "            'timestamp': pkt.sniff_time.timestamp(),\n",
    "            'dest_ip': pkt.ip.dst,\n",
    "            'dest_port': pkt.tcp.dstport,\n",
    "            'src_port':pkt.tcp.srcport,\n",
    "            'content_type':pkt.http.content_type,\n",
    "            'length':pkt.length,\n",
    "            'get':pkt.http.request_uri,\n",
    "            'highest_layer':pkt.highest_layer\n",
    "#             'server':pkt.http.server,\n",
    "#             'code':pkt.http.response_code,\n",
    "#             'phrase':pkt.http.response_phrase\n",
    "        }\n",
    "        df_data.append(d)\n",
    "    except:\n",
    "        continue\n",
    "for pkt in cap:\n",
    "    if len(pkt.layers) < 4:\n",
    "        continue\n",
    "    try:\n",
    "        d = {\n",
    "            'timestamp': pkt.sniff_time.timestamp(),\n",
    "            'dest_ip': pkt.ip.dst,\n",
    "            'dest_port': pkt.tcp.dstport,\n",
    "            'src_port':pkt.tcp.srcport,\n",
    "#             'content_type':pkt.http.content_type,\n",
    "            'length':pkt.length,\n",
    "#             'get':pkt.http.request_uri,\n",
    "            'highest_layer':pkt.highest_layer,\n",
    "#             'server':pkt.http.server,\n",
    "            'code':pkt.http.response_code,\n",
    "            'phrase':pkt.http.response_phrase\n",
    "        }\n",
    "        df_data1.append(d)\n",
    "    except:\n",
    "        continue"
   ]
  },
  {
   "cell_type": "code",
   "execution_count": null,
   "metadata": {},
   "outputs": [],
   "source": [
    "for pkt in cap2:\n",
    "    if len(pkt.layers) < 4:\n",
    "        continue\n",
    "    try:\n",
    "        d = {\n",
    "            'timestamp': pkt.sniff_time.timestamp(),\n",
    "            'dest_ip': pkt.ip.dst,\n",
    "            'dest_port': pkt.tcp.dstport,\n",
    "            'content_type':pkt.http.content_type,\n",
    "            'length':pkt.length,\n",
    "            'highest_layer':pkt.highest_layer,\n",
    "            'server':pkt.http.server,\n",
    "            'code':pkt.http.response_code,\n",
    "            'phrase':pkt.http.response_phrase\n",
    "        }\n",
    "        df_data2.append(d)\n",
    "    except:\n",
    "        continue"
   ]
  },
  {
   "cell_type": "code",
   "execution_count": null,
   "metadata": {},
   "outputs": [],
   "source": [
    "for pkt in capd:\n",
    "    if len(pkt.layers) < 4:\n",
    "        continue\n",
    "    try:\n",
    "        d = {\n",
    "            'timestamp': pkt.sniff_time.timestamp(),\n",
    "            'dest_ip': pkt.ip.dst,\n",
    "            'dest_port': pkt.tcp.dstport,\n",
    "#             'get':pkt.http.request_uri,\n",
    "            'length':pkt.length,\n",
    "            'highest_layer':pkt.highest_layer\n",
    "        }\n",
    "        df_datad.append(d)\n",
    "    except:\n",
    "        continue"
   ]
  },
  {
   "cell_type": "code",
   "execution_count": null,
   "metadata": {},
   "outputs": [],
   "source": [
    "df = pd.DataFrame(df_data) \n",
    "df1 = pd.DataFrame(df_data1)\n",
    "df2 = pd.DataFrame(df_data2)\n",
    "dfd = pd.DataFrame(df_datad)"
   ]
  },
  {
   "cell_type": "code",
   "execution_count": null,
   "metadata": {},
   "outputs": [],
   "source": [
    "df\n"
   ]
  },
  {
   "cell_type": "markdown",
   "metadata": {},
   "source": [
    "## 3:"
   ]
  },
  {
   "cell_type": "code",
   "execution_count": null,
   "metadata": {},
   "outputs": [],
   "source": [
    "from pandas.io.json import json_normalize\n",
    "data_j = []\n",
    "with open(\"osqueryd.results.log\") as file:\n",
    "    data = file.readlines()\n",
    "#     data = eval(data[0])\n",
    "    for d in data:\n",
    "        d = eval(d)\n",
    "        data_j.append(d)\n",
    "dfo = json_normalize(data_j)"
   ]
  },
  {
   "cell_type": "markdown",
   "metadata": {},
   "source": [
    "## 4:"
   ]
  },
  {
   "cell_type": "code",
   "execution_count": null,
   "metadata": {},
   "outputs": [],
   "source": [
    "dfo.to_csv('dfo.csv',index=False)\n",
    "df.to_csv('df.csv',index=False)\n",
    "df2.to_csv('df2.csv',index=False)\n",
    "dfd.to_csv('dfd.csv',index=False)"
   ]
  },
  {
   "cell_type": "markdown",
   "metadata": {},
   "source": [
    "## 5:"
   ]
  },
  {
   "cell_type": "code",
   "execution_count": null,
   "metadata": {},
   "outputs": [],
   "source": [
    "df['content_type'][:3].values"
   ]
  },
  {
   "cell_type": "markdown",
   "metadata": {},
   "source": [
    "## HTTP.pcap file should be the attacker's network activity, since http.pcap has '#cmd' string(as shown above) in its content type header. and therefore http2.pcap represents legitimate activity. The content type of it includes: Alert, application data, handshake, and change cipher spec. Reference to the below wireshark image"
   ]
  },
  {
   "cell_type": "code",
   "execution_count": null,
   "metadata": {},
   "outputs": [],
   "source": [
    "from IPython.display import Image\n",
    "Image(filename=\"1.png\",width=1000,height=1000)"
   ]
  },
  {
   "cell_type": "markdown",
   "metadata": {},
   "source": [
    "# Task 1"
   ]
  },
  {
   "cell_type": "code",
   "execution_count": null,
   "metadata": {},
   "outputs": [],
   "source": [
    "!cd ~/ \n",
    "!ls"
   ]
  },
  {
   "cell_type": "markdown",
   "metadata": {},
   "source": [
    "## 1:"
   ]
  },
  {
   "cell_type": "code",
   "execution_count": null,
   "metadata": {},
   "outputs": [],
   "source": [
    "# a : \n",
    "df_11 = df1[df1['dest_ip'] == '172.17.0.2']"
   ]
  },
  {
   "cell_type": "code",
   "execution_count": null,
   "metadata": {},
   "outputs": [],
   "source": [
    "\n",
    "            'dest_ip': pkt.ip.dst,\n",
    "            'dest_port': pkt.tcp.dstport,\n",
    "#             'get':pkt.http.request_uri,\n",
    "            'length':pkt.length,\n",
    "            'highest_layer':pkt.highest_layer\n",
    "        }\n",
    "        df_datad.append(d)# b :\n",
    "df_11['dest_ip'][0]"
   ]
  },
  {
   "cell_type": "code",
   "execution_count": null,
   "metadata": {},
   "outputs": [],
   "source": [
    "# c : \n",
    "df_11['dest_port'][0] # need to add show_case here"
   ]
  },
  {
   "cell_type": "code",
   "execution_count": null,
   "metadata": {},
   "outputs": [],
   "source": [
    "df1[df1['dest_port'].isin(src_port)]"
   ]
  },
  {
   "cell_type": "markdown",
   "metadata": {},
   "source": [
    "## 2:"
   ]
  },
  {
   "cell_type": "code",
   "execution_count": null,
   "metadata": {},
   "outputs": [],
   "source": [
    "# a:\n",
    "df[['content_type','length']][7:]"
   ]
  },
  {
   "cell_type": "markdown",
   "metadata": {},
   "source": [
    "### b:\n",
    "Only insmod, wget, whom, ls is present. \n",
    "insmod is to insert a module into the kernel or  insert a loadable module in the running kernel.\n",
    "whoami is to display the name of the current user.\n",
    "wget is to download files from server even when the user has not logged on to the system.\n",
    "ls is to list all the content of current directory."
   ]
  },
  {
   "cell_type": "markdown",
   "metadata": {},
   "source": [
    "## 3:\n"
   ]
  },
  {
   "cell_type": "markdown",
   "metadata": {},
   "source": [
    "### 3.1:\n"
   ]
  },
  {
   "cell_type": "code",
   "execution_count": null,
   "metadata": {},
   "outputs": [],
   "source": [
    "#1 \n",
    "dfo['name'].unique()"
   ]
  },
  {
   "cell_type": "code",
   "execution_count": null,
   "metadata": {},
   "outputs": [],
   "source": [
    "#2 \n",
    "for i in (df['content_type'][7:]):\n",
    "    print(i)"
   ]
  },
  {
   "cell_type": "markdown",
   "metadata": {},
   "source": [
    "### By looking at the wget command, we can see that http://162.212.156.148/rk.ko > rk.ko is the attacker-controlled module "
   ]
  },
  {
   "cell_type": "markdown",
   "metadata": {},
   "source": [
    "### It was loaded because of the insmod command"
   ]
  },
  {
   "cell_type": "markdown",
   "metadata": {},
   "source": [
    "### 3.2:"
   ]
  },
  {
   "cell_type": "code",
   "execution_count": null,
   "metadata": {},
   "outputs": [],
   "source": [
    "dfo[dfo['columns.category'] == 'root']['columns.target_path'] # which file name should I choose"
   ]
  },
  {
   "cell_type": "markdown",
   "metadata": {},
   "source": [
    "### 3.3:"
   ]
  },
  {
   "cell_type": "markdown",
   "metadata": {},
   "source": [
    "### The observation is also the command wget which shows that the attacker got the file from http"
   ]
  },
  {
   "cell_type": "markdown",
   "metadata": {},
   "source": [
    "## 4:"
   ]
  },
  {
   "cell_type": "markdown",
   "metadata": {},
   "source": [
    "### 4.1:"
   ]
  },
  {
   "cell_type": "code",
   "execution_count": null,
   "metadata": {},
   "outputs": [],
   "source": [
    "att = dfd[dfd['dest_ip'] == '10.0.2.2'] #The id address of the server in hint is 10.0.2.2, so this is relared to attack "
   ]
  },
  {
   "cell_type": "code",
   "execution_count": null,
   "metadata": {},
   "outputs": [],
   "source": [
    "leg = dfd[dfd['dest_ip'] != '10.0.2.2']"
   ]
  },
  {
   "cell_type": "markdown",
   "metadata": {},
   "source": [
    "### 4.2:"
   ]
  },
  {
   "cell_type": "code",
   "execution_count": null,
   "metadata": {},
   "outputs": [],
   "source": [
    "import matplotlib.pyplot as plt\n",
    "import numpy as np"
   ]
  },
  {
   "cell_type": "code",
   "execution_count": null,
   "metadata": {},
   "outputs": [],
   "source": [
    "plt.hist(att['length'].astype('int'), bins=10, alpha=0.5, label='attacker type',log=True)\n",
    "plt.hist(leg['length'].astype('int'), bins=10, alpha=0.5, label='legtimate type',log= True)\n",
    "plt.legend(loc='upper right')\n",
    "plt.xlabel('length')\n",
    "plt.ylabel('count(log)')\n",
    "plt.title('histogram for att and leg type for dns server')\n",
    "plt.show()"
   ]
  },
  {
   "cell_type": "code",
   "execution_count": null,
   "metadata": {},
   "outputs": [],
   "source": []
  }
 ],
 "metadata": {
  "kernelspec": {
   "display_name": "Python 3",
   "language": "python",
   "name": "python3"
  },
  "language_info": {
   "codemirror_mode": {
    "name": "ipython",
    "version": 3
   },
   "file_extension": ".py",
   "mimetype": "text/x-python",
   "name": "python",
   "nbconvert_exporter": "python",
   "pygments_lexer": "ipython3",
   "version": "3.7.2"
  }
 },
 "nbformat": 4,
 "nbformat_minor": 2
}
